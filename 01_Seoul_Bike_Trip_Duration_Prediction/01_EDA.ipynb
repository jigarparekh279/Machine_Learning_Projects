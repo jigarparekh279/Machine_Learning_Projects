{
 "cells": [
  {
   "cell_type": "markdown",
   "source": [
    "# Seoul Bike Trip Duration Prediction\n",
    "\n",
    "<img src=\"Features_Description.png\" style=\"float:center;\" width=\"500\"/>\n",
    "\n",
    "### Context\n",
    "Trip duration is the most fundamental measure in all modes of transportation. \n",
    "Hence, it is crucial to predict the trip-time precisely for the advancement of Intelligent Transport Systems (ITS) and traveller information systems. \n",
    "In order to predict the trip duration, data mining techniques are employed in this paper to predict the trip duration of rental bikes in Seoul Bike sharing system. \n",
    "The prediction is carried out with the combination of Seoul Bike data and weather data.\n",
    "### Content\n",
    "The Data used include trip duration, trip distance, pickup-dropoff latitude and longitude, \n",
    "temperature, precipitation, wind speed, humidity, solar radiation, snowfall, ground temperature and 1-hour average dust concentration.\n",
    "### Acknowledgements\n",
    "- V E, Sathishkumar (2020), \"Seoul Bike Trip duration prediction\", Mendeley Data, V1, doi: 10.17632/gtfh9z865f.1\n",
    "- Sathishkumar V E, Jangwoo Park, Yongyun Cho, Seoul bike trip duration prediction using data mining techniques, IET Intelligent Transport Systems, doi: 10.1049/iet-its.2019.0796\n",
    "### Goal\n",
    "Predict the trip duration"
   ],
   "metadata": {}
  },
  {
   "cell_type": "code",
   "execution_count": null,
   "source": [
    "import numpy as np\n",
    "import pandas as pd\n",
    "import matplotlib.pyplot as plt\n",
    "import seaborn as sns\n",
    "\n",
    "import joblib\n",
    "\n",
    "from helper_functions import *"
   ],
   "outputs": [],
   "metadata": {}
  },
  {
   "cell_type": "markdown",
   "source": [
    "## Data"
   ],
   "metadata": {}
  },
  {
   "cell_type": "code",
   "execution_count": null,
   "source": [
    "loadPkl = 1 # 0 --> read csv, 1 --> load pkl\n",
    "\n",
    "if loadPkl:\n",
    "    # Use pickle to load the data -- faster than reading a csv\n",
    "    dataset = joblib.load('data/dataset.pkl')\n",
    "else:\n",
    "    # 1.23 GB of data\n",
    "    dataset = pd.read_csv('data/For_modeling.csv')\n",
    "\n",
    "    # Drop unwanted columns\n",
    "    dataset = dataset.drop(columns='Unnamed: 0')\n",
    "\n",
    "    # Dump the dataset to load it later\n",
    "    joblib.dump(dataset, 'data/dataset.pkl')\n"
   ],
   "outputs": [],
   "metadata": {}
  },
  {
   "cell_type": "code",
   "execution_count": null,
   "source": [
    "# Check for null values\n",
    "dataset.isnull().sum().sum()"
   ],
   "outputs": [],
   "metadata": {}
  },
  {
   "cell_type": "markdown",
   "source": [
    "## EDA"
   ],
   "metadata": {}
  },
  {
   "cell_type": "markdown",
   "source": [
    "### !!! Smaller dataset for now. Later the entire notebook will be run on the entire data set !!!"
   ],
   "metadata": {}
  },
  {
   "cell_type": "code",
   "execution_count": null,
   "source": [
    "df = dataset.sample(frac=0.01)\n",
    "df.sample(10).T"
   ],
   "outputs": [],
   "metadata": {}
  },
  {
   "cell_type": "markdown",
   "source": [
    "### Adding catagorical columns for EDA\n",
    "\n",
    "- Since the data is huge, we make new features (preferably catagorical) for the purpose of EDA\n",
    "- These new features may also be used later for modeling"
   ],
   "metadata": {}
  },
  {
   "cell_type": "code",
   "execution_count": null,
   "source": [
    "df.columns"
   ],
   "outputs": [],
   "metadata": {}
  },
  {
   "cell_type": "markdown",
   "source": [
    "**_duration_range_**"
   ],
   "metadata": {}
  },
  {
   "cell_type": "code",
   "execution_count": null,
   "source": [
    "duration_order = ['00-30', '30-60', '60-90', '90-120']\n",
    "def duration_range(duration):\n",
    "    if duration>=0 and duration<=30:\n",
    "        return duration_order[0]\n",
    "    elif duration>30 and duration<60:\n",
    "        return duration_order[1]\n",
    "    elif duration>=60 and duration<=90:\n",
    "        return duration_order[2]\n",
    "    else:\n",
    "        return duration_order[3]\n",
    "\n",
    "df['duration_range_'] = df['Duration'].apply(duration_range)\n",
    "\n",
    "fig, ax = plt.subplots(nrows=1, ncols=1, figsize=(7,5), dpi=100)\n",
    "sns.countplot(data=df, x='duration_range_', order=duration_order, ax=ax);"
   ],
   "outputs": [],
   "metadata": {}
  },
  {
   "cell_type": "markdown",
   "source": [],
   "metadata": {}
  },
  {
   "cell_type": "code",
   "execution_count": null,
   "source": [
    "distance_order = ['0-5000', '5000-10000', '10000-15000', '15000+']\n",
    "distance_order_str = str(distance_order).strip('[').strip(']').split()\n",
    "def distance_range(distance):\n",
    "    if distance>=0 and distance<=5000:\n",
    "        return distance_order[0]\n",
    "    elif distance>5000 and distance<10000:\n",
    "        return distance_order[1]\n",
    "    elif distance>=10000 and distance<=15000:\n",
    "        return distance_order[2]\n",
    "    else:\n",
    "        return distance_order[3]\n",
    "\n",
    "df['distance_range_'] = df['Distance'].apply(distance_range)\n",
    "\n",
    "fig, ax = plt.subplots(nrows=1, ncols=1, figsize=(7,5), dpi=100)\n",
    "sns.countplot(data=df, x='distance_range_', order=distance_order, hue='duration_range_', hue_order=duration_order, ax=ax);"
   ],
   "outputs": [],
   "metadata": {}
  },
  {
   "cell_type": "markdown",
   "source": [
    "**_time_of_day_**"
   ],
   "metadata": {}
  },
  {
   "cell_type": "code",
   "execution_count": null,
   "source": [
    "day_order = ['Morning', 'Afternoon', 'Evening', 'Night']\n",
    "def time_of_day(hr):\n",
    "    if hr>=5 and hr<=12:\n",
    "        return 'Morning'\n",
    "    elif hr>12 and hr<17:\n",
    "        return 'Afternoon'\n",
    "    elif hr>=17 and hr<=21:\n",
    "        return 'Evening'\n",
    "    else:\n",
    "        return 'Night'\n",
    "\n",
    "df['time_of_day_'] = df['Phour'].apply(time_of_day)\n",
    "\n",
    "fig, ax = plt.subplots(nrows=1, ncols=2, figsize=(15,5), dpi=100)\n",
    "sns.countplot(data=df, x='time_of_day_', order=day_order, hue='distance_range_', hue_order=distance_order, ax=ax[0]);\n",
    "sns.countplot(data=df, x='time_of_day_', order=day_order, hue='duration_range_', hue_order=duration_order, ax=ax[1]);"
   ],
   "outputs": [],
   "metadata": {}
  },
  {
   "cell_type": "markdown",
   "source": [
    "**_long_diff, latd_diff_**"
   ],
   "metadata": {}
  },
  {
   "cell_type": "code",
   "execution_count": null,
   "source": [
    "df['long_diff_'] = abs(df['PLong'] - df['DLong'])\n",
    "df['latd_diff_'] = abs(df['PLatd'] - df['DLatd'])\n",
    "\n",
    "fig, ax = plt.subplots(nrows=1, ncols=2, figsize=(15,5), dpi=100)\n",
    "sns.scatterplot(data=df, x='long_diff_', y='latd_diff_', hue='distance_range_', hue_order=distance_order, alpha=0.5, ax=ax[0]);\n",
    "sns.scatterplot(data=df, x='long_diff_', y='latd_diff_', hue='duration_range_', hue_order=duration_order, alpha=0.5, ax=ax[1]);"
   ],
   "outputs": [],
   "metadata": {}
  },
  {
   "cell_type": "markdown",
   "source": [
    "**_geographical_PCs_**\n",
    "\n",
    "We use PCA to convert the geographical features -\n",
    "\n",
    "['Distance', 'Haversine', 'PLong', 'DLong', 'PLatd', 'DLatd']\n",
    "\n",
    "into a few principal components."
   ],
   "metadata": {}
  },
  {
   "cell_type": "code",
   "execution_count": null,
   "source": [
    "num_geographical_PCs = 3\n",
    "geographical_cols = ['Distance', 'Haversine', 'PLong', 'DLong', 'PLatd', 'DLatd', 'long_diff_', 'latd_diff_']\n",
    "\n",
    "geographical_PCs, geographical_explained_variance_ratio = pca_pipe(df[geographical_cols], n=num_geographical_PCs)\n",
    "print(f\"geographical_explained_variance_ratio = {geographical_explained_variance_ratio.sum()}\")\n",
    "\n",
    "geo_PC_cols = ['geo_PC1_', 'geo_PC2_', 'geo_PC3_']\n",
    "df[geo_PC_cols] = geographical_PCs\n",
    "\n",
    "fig = plt.figure(figsize=(30,5), dpi=100)\n",
    "\n",
    "ax1 = fig.add_subplot(141, projection = '3d')\n",
    "ax1.scatter(df.geo_PC1_, df.geo_PC2_, df.geo_PC3_, alpha=0.1);\n",
    "ax1.set_xlabel(geo_PC_cols[0]); ax1.set_ylabel(geo_PC_cols[1]); ax1.set_zlabel(geo_PC_cols[2]);\n",
    "\n",
    "ax2 = fig.add_subplot(142)\n",
    "sns.scatterplot(data=df, x='geo_PC1_', y='geo_PC2_', hue='duration_range_', hue_order=duration_order, alpha=0.5, ax=ax2);\n",
    "\n",
    "ax3 = fig.add_subplot(143)\n",
    "sns.scatterplot(data=df, x='geo_PC1_', y='geo_PC3_', hue='duration_range_', hue_order=duration_order, alpha=0.5, ax=ax3);\n",
    "\n",
    "ax4 = fig.add_subplot(144)\n",
    "sns.scatterplot(data=df, x='geo_PC2_', y='geo_PC3_', hue='duration_range_', hue_order=duration_order, alpha=0.5, ax=ax4);"
   ],
   "outputs": [],
   "metadata": {}
  },
  {
   "cell_type": "markdown",
   "source": [
    "**_weather_PCA_**\n",
    "\n",
    "We use PCA to convert the weather related features -\n",
    "\n",
    "['Temp', 'Precip', 'Wind', 'Humid', 'Solar', 'Snow', 'GroundTemp', 'Dust'] \n",
    "\n",
    "into a few principal components."
   ],
   "metadata": {}
  },
  {
   "cell_type": "code",
   "execution_count": null,
   "source": [
    "num_weather_PCs = 3\n",
    "weather_cols = ['Temp', 'Precip', 'Wind', 'Humid', 'Solar', 'Snow', 'GroundTemp', 'Dust']\n",
    "\n",
    "weather_PCs, weather_explained_variance_ratio = pca_pipe(df[weather_cols], n=num_weather_PCs)\n",
    "print(f\"weather_explained_variance_ratio = {weather_explained_variance_ratio.sum()}\")\n",
    "\n",
    "weather_PC_cols = ['weather_PC1_', 'weather_PC2_', 'weather_PC3_']\n",
    "df[weather_PC_cols] = weather_PCs\n",
    "\n",
    "fig = plt.figure(figsize=(30,5), dpi=100)\n",
    "\n",
    "ax1 = fig.add_subplot(141, projection = '3d')\n",
    "ax1.scatter(df.weather_PC1_, df.weather_PC2_, df.weather_PC3_, alpha=0.1);\n",
    "ax1.set_xlabel(weather_PC_cols[0]); ax1.set_ylabel(weather_PC_cols[1]); ax1.set_zlabel(weather_PC_cols[2]);\n",
    "\n",
    "ax2 = fig.add_subplot(142)\n",
    "sns.scatterplot(data=df, x='weather_PC1_', y='weather_PC2_', hue='duration_range_', hue_order=duration_order, alpha=0.5, ax=ax2);\n",
    "\n",
    "ax3 = fig.add_subplot(143)\n",
    "sns.scatterplot(data=df, x='weather_PC1_', y='weather_PC2_', hue='Pmonth', palette='Set1', alpha=0.5, ax=ax3);\n",
    "\n",
    "ax4 = fig.add_subplot(144)\n",
    "sns.scatterplot(data=df, x='weather_PC1_', y='weather_PC2_', hue='time_of_day_', palette='Set1', alpha=0.5, ax=ax4);"
   ],
   "outputs": [],
   "metadata": {}
  },
  {
   "cell_type": "markdown",
   "source": [
    "- Clearly, the 3rd PC has a lot of outliers (variance placeholder) and can be skipped"
   ],
   "metadata": {}
  },
  {
   "cell_type": "markdown",
   "source": [
    "### Check statistics"
   ],
   "metadata": {}
  },
  {
   "cell_type": "code",
   "execution_count": null,
   "source": [
    "df.describe().T"
   ],
   "outputs": [],
   "metadata": {}
  },
  {
   "cell_type": "markdown",
   "source": [
    "- ['Pmonth', 'Pday', 'Phour', 'Pmin', 'PDweek', 'Dmonth', 'Dday', 'Dhour', 'Dmin', 'DDweek'] and 'time_of_day_' are all catagorical features and will need encoding\n",
    "- Rest all are continuous features"
   ],
   "metadata": {}
  },
  {
   "cell_type": "code",
   "execution_count": null,
   "source": [
    "cat_cols = ['Pmonth', 'Pday', 'Phour', 'Pmin', 'PDweek', 'Dmonth', 'Dday', 'Dhour', 'Dmin', 'DDweek', 'time_of_day_', 'distance_range_', 'duration_range_']"
   ],
   "outputs": [],
   "metadata": {}
  },
  {
   "cell_type": "markdown",
   "source": [
    "### Correlation"
   ],
   "metadata": {}
  },
  {
   "cell_type": "code",
   "execution_count": null,
   "source": [
    "df_corr = df.drop(columns=cat_cols).corr()"
   ],
   "outputs": [],
   "metadata": {}
  },
  {
   "cell_type": "code",
   "execution_count": null,
   "source": [
    "plt.figure(figsize=(10,4), dpi=100)\n",
    "df_corr['Duration'].abs().sort_values()[:-1].plot(kind='bar');"
   ],
   "outputs": [],
   "metadata": {}
  },
  {
   "cell_type": "markdown",
   "source": [
    "- Distance and Haversine are highly corelated with Duration"
   ],
   "metadata": {}
  },
  {
   "cell_type": "markdown",
   "source": [
    "### Distribution of all features"
   ],
   "metadata": {}
  },
  {
   "cell_type": "code",
   "execution_count": null,
   "source": [
    "df.hist(bins=30, color='steelblue', edgecolor='black', linewidth=1.0,\n",
    "        xlabelsize=8, ylabelsize=8, grid=False); \n",
    "plt.tight_layout(rect=(0, 0, 3, 3))"
   ],
   "outputs": [],
   "metadata": {}
  },
  {
   "cell_type": "markdown",
   "source": [
    "- Most of the trips are snow and radiation free.\n",
    "- The distributions of Duration, distance and Haversine are similar as they are highly correlated."
   ],
   "metadata": {}
  },
  {
   "cell_type": "markdown",
   "source": [
    "### Scatter plots"
   ],
   "metadata": {}
  },
  {
   "cell_type": "code",
   "execution_count": null,
   "source": [
    "fig, ax = plt.subplots(ncols=2, nrows=1, figsize=(15,5), dpi=100)\n",
    "\n",
    "sns.scatterplot(data=df, x='Distance', y='Duration', hue='time_of_day_', alpha=0.5, ax=ax[0]);\n",
    "sns.scatterplot(data=df, x='weather_PC1_', y='long_diff_', hue='duration_range_', alpha=0.5, ax=ax[1]);"
   ],
   "outputs": [],
   "metadata": {}
  },
  {
   "cell_type": "markdown",
   "source": [
    "- For small distances, the duration is small but with large variance\n",
    "- Majority of trips are in evening\n",
    "- The Duration is also affected by the Temp which is indeed correlated to month of the year"
   ],
   "metadata": {}
  },
  {
   "cell_type": "markdown",
   "source": [
    "### Count plots"
   ],
   "metadata": {}
  },
  {
   "cell_type": "code",
   "execution_count": null,
   "source": [
    "fig, ax = plt.subplots(ncols=2, nrows=1, figsize=(20,5), dpi=100)\n",
    "\n",
    "sns.countplot(data=df, x='Pmonth', hue='PDweek', ax=ax[0]);\n",
    "sns.countplot(data=df, x='Phour', hue='PDweek', ax=ax[1]);"
   ],
   "outputs": [],
   "metadata": {}
  },
  {
   "cell_type": "code",
   "execution_count": null,
   "source": [
    "fig, ax = plt.subplots(ncols=2, nrows=1, figsize=(20,5), dpi=100)\n",
    "\n",
    "sns.countplot(data=df, x='Pmonth', hue='time_of_day_', ax=ax[0]);\n",
    "sns.countplot(data=df, x='Phour', hue='duration_range_', ax=ax[1]);"
   ],
   "outputs": [],
   "metadata": {}
  },
  {
   "cell_type": "markdown",
   "source": [
    "- Sept and Oct (autumn) have the maximum no. of trips while Dec-March (winter) has a lot less no. of trips\n",
    "- The peaks for Phour counts is around 8am and b/w 5-9pm which is usual office timings"
   ],
   "metadata": {}
  },
  {
   "cell_type": "markdown",
   "source": [
    "### Box and Bar plots"
   ],
   "metadata": {}
  },
  {
   "cell_type": "code",
   "execution_count": null,
   "source": [
    "fig, ax = plt.subplots(ncols=1, nrows=3, figsize=(15,10), dpi=100)\n",
    "\n",
    "sns.barplot(data=df, x='Phour', y='Duration', ax=ax[0]);\n",
    "sns.barplot(data=df, x='PDweek', y='Duration', ax=ax[1], hue='time_of_day_');\n",
    "ax[1].legend(loc=(1.01,0.3));\n",
    "sns.barplot(data=df, x='Pmonth', y='Duration', ax=ax[2], hue='time_of_day_');\n",
    "ax[2].legend(loc=(1.01,0.3));"
   ],
   "outputs": [],
   "metadata": {}
  },
  {
   "cell_type": "markdown",
   "source": [
    "- Although the one of the peaks of Phour count was around 8am, the mean duration is actually minimum at 8am!  \n",
    "- Note that the average duartion on Fri and Sat is the highest\n",
    "- In winters most of the trips are in afternoon, while in summer most of the trips are in the evening"
   ],
   "metadata": {}
  },
  {
   "cell_type": "markdown",
   "source": [
    "### (Customary) Pairplot"
   ],
   "metadata": {}
  },
  {
   "cell_type": "code",
   "execution_count": null,
   "source": [
    "cols = ['Distance', 'weather_PC1_', 'geo_PC3_', 'long_diff_','duration_range_']\n",
    "sns.pairplot(df[cols], hue='duration_range_', hue_order=duration_order, diag_kind='kde', corner=False);"
   ],
   "outputs": [],
   "metadata": {}
  },
  {
   "cell_type": "code",
   "execution_count": null,
   "source": [],
   "outputs": [],
   "metadata": {}
  }
 ],
 "metadata": {
  "orig_nbformat": 4,
  "language_info": {
   "name": "python",
   "version": "3.7.10",
   "mimetype": "text/x-python",
   "codemirror_mode": {
    "name": "ipython",
    "version": 3
   },
   "pygments_lexer": "ipython3",
   "nbconvert_exporter": "python",
   "file_extension": ".py"
  },
  "kernelspec": {
   "name": "python3",
   "display_name": "Python 3.7.10 64-bit ('torchEnv': conda)"
  },
  "interpreter": {
   "hash": "c3b1f0aa73ce6a53838a2507dee39748d09bb5596497487604e75b434ade7b74"
  }
 },
 "nbformat": 4,
 "nbformat_minor": 2
}