{
 "cells": [
  {
   "cell_type": "markdown",
   "metadata": {},
   "source": [
    "# Seoul Bike Trip Duration Prediction"
   ]
  },
  {
   "cell_type": "markdown",
   "metadata": {},
   "source": [
    "<img src=\"Features_Description.png\" style=\"float:right;\" width=\"500\"/>\n",
    "\n",
    "### Context\n",
    "- Trip duration is the most fundamental measure in all modes of transportation. \n",
    "- Hence, it is crucial to predict the trip-time precisely for the advancement of Intelligent Transport Systems (ITS) and traveller information systems. \n",
    "- In order to predict the trip duration, data mining techniques are employed in this paper to predict the trip duration of rental bikes in Seoul Bike sharing system. \n",
    "- The prediction is carried out with the combination of Seoul Bike data and weather data.\n",
    "\n",
    "### Content\n",
    "- The Data used include trip duration, trip distance, pickup-dropoff latitude and longitude, \n",
    "temperature, precipitation, wind speed, humidity, solar radiation, snowfall, ground temperature and 1-hour average dust concentration.\n",
    "\n",
    "### Acknowledgements\n",
    "- V E, Sathishkumar (2020), \"Seoul Bike Trip duration prediction\", Mendeley Data, V1, doi: 10.17632/gtfh9z865f.1\n",
    "- Sathishkumar V E, Jangwoo Park, Yongyun Cho, (2019), Seoul bike trip duration prediction using data mining techniques, IET Intelligent Transport Systems, doi: 10.1049/iet-its.2019.0796\n",
    "\n",
    "### Goal\n",
    "- Predict the trip duration\n",
    "\n",
    "### Steps\n",
    "- Exploratory Data Analysis (EDA)\n",
    "- **Data Preprocessing**\n",
    "- **Feature Selection / Transformation**\n",
    "- Mahcine Learning Algorithm\n",
    "- Feature Importance / Engineering\n",
    "- Hyperparameter Tuning\n",
    "- Model Deployment"
   ]
  },
  {
   "cell_type": "markdown",
   "metadata": {},
   "source": [
    "## Load libraries"
   ]
  },
  {
   "cell_type": "code",
   "execution_count": 1,
   "metadata": {},
   "outputs": [],
   "source": [
    "import numpy as np\n",
    "import pandas as pd\n",
    "import matplotlib.pyplot as plt\n",
    "import seaborn as sns\n",
    "\n",
    "import joblib\n",
    "\n",
    "from helper_functions import *\n",
    "\n",
    "from timeit import default_timer as timer"
   ]
  },
  {
   "cell_type": "code",
   "execution_count": 2,
   "metadata": {},
   "outputs": [],
   "source": [
    "# import sklearn\n",
    "# sklearn.__version__ #'0.22.1'"
   ]
  },
  {
   "cell_type": "markdown",
   "metadata": {},
   "source": [
    "## Data"
   ]
  },
  {
   "cell_type": "code",
   "execution_count": 3,
   "metadata": {},
   "outputs": [],
   "source": [
    "dataset = joblib.load('data/dataset.pkl')"
   ]
  },
  {
   "cell_type": "code",
   "execution_count": 4,
   "metadata": {
    "scrolled": true
   },
   "outputs": [
    {
     "data": {
      "text/html": [
       "<div>\n",
       "<style scoped>\n",
       "    .dataframe tbody tr th:only-of-type {\n",
       "        vertical-align: middle;\n",
       "    }\n",
       "\n",
       "    .dataframe tbody tr th {\n",
       "        vertical-align: top;\n",
       "    }\n",
       "\n",
       "    .dataframe thead th {\n",
       "        text-align: right;\n",
       "    }\n",
       "</style>\n",
       "<table border=\"1\" class=\"dataframe\">\n",
       "  <thead>\n",
       "    <tr style=\"text-align: right;\">\n",
       "      <th></th>\n",
       "      <th>4789631</th>\n",
       "      <th>3962878</th>\n",
       "      <th>1665731</th>\n",
       "      <th>2703586</th>\n",
       "      <th>7232672</th>\n",
       "      <th>5749319</th>\n",
       "      <th>8106905</th>\n",
       "      <th>9458573</th>\n",
       "      <th>6330645</th>\n",
       "      <th>2507990</th>\n",
       "    </tr>\n",
       "  </thead>\n",
       "  <tbody>\n",
       "    <tr>\n",
       "      <th>Duration</th>\n",
       "      <td>3.000000</td>\n",
       "      <td>30.000000</td>\n",
       "      <td>44.000000</td>\n",
       "      <td>40.000000</td>\n",
       "      <td>25.000000</td>\n",
       "      <td>35.000000</td>\n",
       "      <td>12.000000</td>\n",
       "      <td>13.000000</td>\n",
       "      <td>32.000000</td>\n",
       "      <td>57.000000</td>\n",
       "    </tr>\n",
       "    <tr>\n",
       "      <th>Distance</th>\n",
       "      <td>570.000000</td>\n",
       "      <td>4730.000000</td>\n",
       "      <td>6640.000000</td>\n",
       "      <td>5500.000000</td>\n",
       "      <td>5400.000000</td>\n",
       "      <td>5190.000000</td>\n",
       "      <td>1420.000000</td>\n",
       "      <td>3280.000000</td>\n",
       "      <td>4940.000000</td>\n",
       "      <td>5160.000000</td>\n",
       "    </tr>\n",
       "    <tr>\n",
       "      <th>PLong</th>\n",
       "      <td>37.542580</td>\n",
       "      <td>37.536579</td>\n",
       "      <td>37.550488</td>\n",
       "      <td>37.582592</td>\n",
       "      <td>37.600433</td>\n",
       "      <td>37.548496</td>\n",
       "      <td>37.518738</td>\n",
       "      <td>37.577793</td>\n",
       "      <td>37.494282</td>\n",
       "      <td>37.626080</td>\n",
       "    </tr>\n",
       "    <tr>\n",
       "      <th>PLatd</th>\n",
       "      <td>127.063309</td>\n",
       "      <td>127.092972</td>\n",
       "      <td>127.108955</td>\n",
       "      <td>127.028976</td>\n",
       "      <td>127.040207</td>\n",
       "      <td>127.074760</td>\n",
       "      <td>126.895576</td>\n",
       "      <td>127.057831</td>\n",
       "      <td>126.859215</td>\n",
       "      <td>127.026482</td>\n",
       "    </tr>\n",
       "    <tr>\n",
       "      <th>DLong</th>\n",
       "      <td>37.544590</td>\n",
       "      <td>37.516571</td>\n",
       "      <td>37.561371</td>\n",
       "      <td>37.582592</td>\n",
       "      <td>37.587791</td>\n",
       "      <td>37.547829</td>\n",
       "      <td>37.527084</td>\n",
       "      <td>37.561447</td>\n",
       "      <td>37.494282</td>\n",
       "      <td>37.658588</td>\n",
       "    </tr>\n",
       "    <tr>\n",
       "      <th>DLatd</th>\n",
       "      <td>127.057083</td>\n",
       "      <td>127.131538</td>\n",
       "      <td>127.063660</td>\n",
       "      <td>127.028976</td>\n",
       "      <td>127.037361</td>\n",
       "      <td>127.072632</td>\n",
       "      <td>126.891380</td>\n",
       "      <td>127.034920</td>\n",
       "      <td>126.859215</td>\n",
       "      <td>127.035210</td>\n",
       "    </tr>\n",
       "    <tr>\n",
       "      <th>Haversine</th>\n",
       "      <td>0.592676</td>\n",
       "      <td>4.064020</td>\n",
       "      <td>4.172149</td>\n",
       "      <td>0.000000</td>\n",
       "      <td>1.427917</td>\n",
       "      <td>0.201733</td>\n",
       "      <td>0.999090</td>\n",
       "      <td>2.716806</td>\n",
       "      <td>0.000000</td>\n",
       "      <td>3.695517</td>\n",
       "    </tr>\n",
       "    <tr>\n",
       "      <th>Pmonth</th>\n",
       "      <td>8.000000</td>\n",
       "      <td>7.000000</td>\n",
       "      <td>5.000000</td>\n",
       "      <td>6.000000</td>\n",
       "      <td>10.000000</td>\n",
       "      <td>9.000000</td>\n",
       "      <td>10.000000</td>\n",
       "      <td>12.000000</td>\n",
       "      <td>9.000000</td>\n",
       "      <td>6.000000</td>\n",
       "    </tr>\n",
       "    <tr>\n",
       "      <th>Pday</th>\n",
       "      <td>11.000000</td>\n",
       "      <td>17.000000</td>\n",
       "      <td>10.000000</td>\n",
       "      <td>10.000000</td>\n",
       "      <td>9.000000</td>\n",
       "      <td>7.000000</td>\n",
       "      <td>29.000000</td>\n",
       "      <td>21.000000</td>\n",
       "      <td>19.000000</td>\n",
       "      <td>5.000000</td>\n",
       "    </tr>\n",
       "    <tr>\n",
       "      <th>Phour</th>\n",
       "      <td>12.000000</td>\n",
       "      <td>7.000000</td>\n",
       "      <td>2.000000</td>\n",
       "      <td>21.000000</td>\n",
       "      <td>17.000000</td>\n",
       "      <td>21.000000</td>\n",
       "      <td>20.000000</td>\n",
       "      <td>5.000000</td>\n",
       "      <td>21.000000</td>\n",
       "      <td>20.000000</td>\n",
       "    </tr>\n",
       "    <tr>\n",
       "      <th>Pmin</th>\n",
       "      <td>35.000000</td>\n",
       "      <td>12.000000</td>\n",
       "      <td>50.000000</td>\n",
       "      <td>22.000000</td>\n",
       "      <td>21.000000</td>\n",
       "      <td>51.000000</td>\n",
       "      <td>30.000000</td>\n",
       "      <td>14.000000</td>\n",
       "      <td>6.000000</td>\n",
       "      <td>30.000000</td>\n",
       "    </tr>\n",
       "    <tr>\n",
       "      <th>PDweek</th>\n",
       "      <td>5.000000</td>\n",
       "      <td>1.000000</td>\n",
       "      <td>3.000000</td>\n",
       "      <td>6.000000</td>\n",
       "      <td>1.000000</td>\n",
       "      <td>4.000000</td>\n",
       "      <td>0.000000</td>\n",
       "      <td>4.000000</td>\n",
       "      <td>2.000000</td>\n",
       "      <td>1.000000</td>\n",
       "    </tr>\n",
       "    <tr>\n",
       "      <th>Dmonth</th>\n",
       "      <td>8.000000</td>\n",
       "      <td>7.000000</td>\n",
       "      <td>5.000000</td>\n",
       "      <td>6.000000</td>\n",
       "      <td>10.000000</td>\n",
       "      <td>9.000000</td>\n",
       "      <td>10.000000</td>\n",
       "      <td>12.000000</td>\n",
       "      <td>9.000000</td>\n",
       "      <td>6.000000</td>\n",
       "    </tr>\n",
       "    <tr>\n",
       "      <th>Dday</th>\n",
       "      <td>11.000000</td>\n",
       "      <td>17.000000</td>\n",
       "      <td>10.000000</td>\n",
       "      <td>10.000000</td>\n",
       "      <td>9.000000</td>\n",
       "      <td>7.000000</td>\n",
       "      <td>29.000000</td>\n",
       "      <td>21.000000</td>\n",
       "      <td>19.000000</td>\n",
       "      <td>5.000000</td>\n",
       "    </tr>\n",
       "    <tr>\n",
       "      <th>Dhour</th>\n",
       "      <td>12.000000</td>\n",
       "      <td>7.000000</td>\n",
       "      <td>3.000000</td>\n",
       "      <td>22.000000</td>\n",
       "      <td>17.000000</td>\n",
       "      <td>22.000000</td>\n",
       "      <td>20.000000</td>\n",
       "      <td>5.000000</td>\n",
       "      <td>21.000000</td>\n",
       "      <td>21.000000</td>\n",
       "    </tr>\n",
       "    <tr>\n",
       "      <th>Dmin</th>\n",
       "      <td>39.000000</td>\n",
       "      <td>44.000000</td>\n",
       "      <td>35.000000</td>\n",
       "      <td>4.000000</td>\n",
       "      <td>48.000000</td>\n",
       "      <td>27.000000</td>\n",
       "      <td>43.000000</td>\n",
       "      <td>28.000000</td>\n",
       "      <td>39.000000</td>\n",
       "      <td>28.000000</td>\n",
       "    </tr>\n",
       "    <tr>\n",
       "      <th>DDweek</th>\n",
       "      <td>5.000000</td>\n",
       "      <td>1.000000</td>\n",
       "      <td>3.000000</td>\n",
       "      <td>6.000000</td>\n",
       "      <td>1.000000</td>\n",
       "      <td>4.000000</td>\n",
       "      <td>0.000000</td>\n",
       "      <td>4.000000</td>\n",
       "      <td>2.000000</td>\n",
       "      <td>1.000000</td>\n",
       "    </tr>\n",
       "    <tr>\n",
       "      <th>Temp</th>\n",
       "      <td>33.200000</td>\n",
       "      <td>24.400000</td>\n",
       "      <td>13.100000</td>\n",
       "      <td>22.100000</td>\n",
       "      <td>18.400000</td>\n",
       "      <td>20.600000</td>\n",
       "      <td>6.800000</td>\n",
       "      <td>1.000000</td>\n",
       "      <td>21.700000</td>\n",
       "      <td>24.000000</td>\n",
       "    </tr>\n",
       "    <tr>\n",
       "      <th>Precip</th>\n",
       "      <td>0.000000</td>\n",
       "      <td>0.000000</td>\n",
       "      <td>0.000000</td>\n",
       "      <td>0.000000</td>\n",
       "      <td>0.000000</td>\n",
       "      <td>0.000000</td>\n",
       "      <td>0.000000</td>\n",
       "      <td>0.000000</td>\n",
       "      <td>0.100000</td>\n",
       "      <td>0.000000</td>\n",
       "    </tr>\n",
       "    <tr>\n",
       "      <th>Wind</th>\n",
       "      <td>2.300000</td>\n",
       "      <td>1.000000</td>\n",
       "      <td>1.900000</td>\n",
       "      <td>1.500000</td>\n",
       "      <td>2.100000</td>\n",
       "      <td>2.100000</td>\n",
       "      <td>3.200000</td>\n",
       "      <td>0.800000</td>\n",
       "      <td>1.800000</td>\n",
       "      <td>2.800000</td>\n",
       "    </tr>\n",
       "    <tr>\n",
       "      <th>Humid</th>\n",
       "      <td>50.000000</td>\n",
       "      <td>75.000000</td>\n",
       "      <td>73.000000</td>\n",
       "      <td>55.000000</td>\n",
       "      <td>39.000000</td>\n",
       "      <td>48.000000</td>\n",
       "      <td>59.000000</td>\n",
       "      <td>53.000000</td>\n",
       "      <td>63.000000</td>\n",
       "      <td>46.000000</td>\n",
       "    </tr>\n",
       "    <tr>\n",
       "      <th>Solar</th>\n",
       "      <td>2.840000</td>\n",
       "      <td>0.350000</td>\n",
       "      <td>0.000000</td>\n",
       "      <td>0.000000</td>\n",
       "      <td>0.450000</td>\n",
       "      <td>0.000000</td>\n",
       "      <td>0.000000</td>\n",
       "      <td>0.000000</td>\n",
       "      <td>0.000000</td>\n",
       "      <td>0.060000</td>\n",
       "    </tr>\n",
       "    <tr>\n",
       "      <th>Snow</th>\n",
       "      <td>0.000000</td>\n",
       "      <td>0.000000</td>\n",
       "      <td>0.000000</td>\n",
       "      <td>0.000000</td>\n",
       "      <td>0.000000</td>\n",
       "      <td>0.000000</td>\n",
       "      <td>0.000000</td>\n",
       "      <td>0.000000</td>\n",
       "      <td>0.000000</td>\n",
       "      <td>0.000000</td>\n",
       "    </tr>\n",
       "    <tr>\n",
       "      <th>GroundTemp</th>\n",
       "      <td>54.000000</td>\n",
       "      <td>24.200000</td>\n",
       "      <td>10.800000</td>\n",
       "      <td>21.500000</td>\n",
       "      <td>17.300000</td>\n",
       "      <td>18.700000</td>\n",
       "      <td>4.500000</td>\n",
       "      <td>-1.100000</td>\n",
       "      <td>20.500000</td>\n",
       "      <td>23.000000</td>\n",
       "    </tr>\n",
       "    <tr>\n",
       "      <th>Dust</th>\n",
       "      <td>6.000000</td>\n",
       "      <td>24.000000</td>\n",
       "      <td>16.000000</td>\n",
       "      <td>10.000000</td>\n",
       "      <td>24.000000</td>\n",
       "      <td>13.000000</td>\n",
       "      <td>9.000000</td>\n",
       "      <td>68.000000</td>\n",
       "      <td>42.000000</td>\n",
       "      <td>38.000000</td>\n",
       "    </tr>\n",
       "  </tbody>\n",
       "</table>\n",
       "</div>"
      ],
      "text/plain": [
       "               4789631      3962878      1665731      2703586      7232672  \\\n",
       "Duration      3.000000    30.000000    44.000000    40.000000    25.000000   \n",
       "Distance    570.000000  4730.000000  6640.000000  5500.000000  5400.000000   \n",
       "PLong        37.542580    37.536579    37.550488    37.582592    37.600433   \n",
       "PLatd       127.063309   127.092972   127.108955   127.028976   127.040207   \n",
       "DLong        37.544590    37.516571    37.561371    37.582592    37.587791   \n",
       "DLatd       127.057083   127.131538   127.063660   127.028976   127.037361   \n",
       "Haversine     0.592676     4.064020     4.172149     0.000000     1.427917   \n",
       "Pmonth        8.000000     7.000000     5.000000     6.000000    10.000000   \n",
       "Pday         11.000000    17.000000    10.000000    10.000000     9.000000   \n",
       "Phour        12.000000     7.000000     2.000000    21.000000    17.000000   \n",
       "Pmin         35.000000    12.000000    50.000000    22.000000    21.000000   \n",
       "PDweek        5.000000     1.000000     3.000000     6.000000     1.000000   \n",
       "Dmonth        8.000000     7.000000     5.000000     6.000000    10.000000   \n",
       "Dday         11.000000    17.000000    10.000000    10.000000     9.000000   \n",
       "Dhour        12.000000     7.000000     3.000000    22.000000    17.000000   \n",
       "Dmin         39.000000    44.000000    35.000000     4.000000    48.000000   \n",
       "DDweek        5.000000     1.000000     3.000000     6.000000     1.000000   \n",
       "Temp         33.200000    24.400000    13.100000    22.100000    18.400000   \n",
       "Precip        0.000000     0.000000     0.000000     0.000000     0.000000   \n",
       "Wind          2.300000     1.000000     1.900000     1.500000     2.100000   \n",
       "Humid        50.000000    75.000000    73.000000    55.000000    39.000000   \n",
       "Solar         2.840000     0.350000     0.000000     0.000000     0.450000   \n",
       "Snow          0.000000     0.000000     0.000000     0.000000     0.000000   \n",
       "GroundTemp   54.000000    24.200000    10.800000    21.500000    17.300000   \n",
       "Dust          6.000000    24.000000    16.000000    10.000000    24.000000   \n",
       "\n",
       "                5749319      8106905      9458573      6330645      2507990  \n",
       "Duration      35.000000    12.000000    13.000000    32.000000    57.000000  \n",
       "Distance    5190.000000  1420.000000  3280.000000  4940.000000  5160.000000  \n",
       "PLong         37.548496    37.518738    37.577793    37.494282    37.626080  \n",
       "PLatd        127.074760   126.895576   127.057831   126.859215   127.026482  \n",
       "DLong         37.547829    37.527084    37.561447    37.494282    37.658588  \n",
       "DLatd        127.072632   126.891380   127.034920   126.859215   127.035210  \n",
       "Haversine      0.201733     0.999090     2.716806     0.000000     3.695517  \n",
       "Pmonth         9.000000    10.000000    12.000000     9.000000     6.000000  \n",
       "Pday           7.000000    29.000000    21.000000    19.000000     5.000000  \n",
       "Phour         21.000000    20.000000     5.000000    21.000000    20.000000  \n",
       "Pmin          51.000000    30.000000    14.000000     6.000000    30.000000  \n",
       "PDweek         4.000000     0.000000     4.000000     2.000000     1.000000  \n",
       "Dmonth         9.000000    10.000000    12.000000     9.000000     6.000000  \n",
       "Dday           7.000000    29.000000    21.000000    19.000000     5.000000  \n",
       "Dhour         22.000000    20.000000     5.000000    21.000000    21.000000  \n",
       "Dmin          27.000000    43.000000    28.000000    39.000000    28.000000  \n",
       "DDweek         4.000000     0.000000     4.000000     2.000000     1.000000  \n",
       "Temp          20.600000     6.800000     1.000000    21.700000    24.000000  \n",
       "Precip         0.000000     0.000000     0.000000     0.100000     0.000000  \n",
       "Wind           2.100000     3.200000     0.800000     1.800000     2.800000  \n",
       "Humid         48.000000    59.000000    53.000000    63.000000    46.000000  \n",
       "Solar          0.000000     0.000000     0.000000     0.000000     0.060000  \n",
       "Snow           0.000000     0.000000     0.000000     0.000000     0.000000  \n",
       "GroundTemp    18.700000     4.500000    -1.100000    20.500000    23.000000  \n",
       "Dust          13.000000     9.000000    68.000000    42.000000    38.000000  "
      ]
     },
     "execution_count": 4,
     "metadata": {},
     "output_type": "execute_result"
    }
   ],
   "source": [
    "dataset.sample(10).T"
   ]
  },
  {
   "cell_type": "markdown",
   "metadata": {},
   "source": [
    "## Data Preprocessing"
   ]
  },
  {
   "cell_type": "code",
   "execution_count": 5,
   "metadata": {},
   "outputs": [
    {
     "data": {
      "text/plain": [
       "(9601139, 25)"
      ]
     },
     "execution_count": 5,
     "metadata": {},
     "output_type": "execute_result"
    }
   ],
   "source": [
    "dataset.shape"
   ]
  },
  {
   "cell_type": "markdown",
   "metadata": {},
   "source": [
    "### Check for missing values"
   ]
  },
  {
   "cell_type": "code",
   "execution_count": 6,
   "metadata": {},
   "outputs": [
    {
     "data": {
      "text/plain": [
       "0"
      ]
     },
     "execution_count": 6,
     "metadata": {},
     "output_type": "execute_result"
    }
   ],
   "source": [
    "dataset.isnull().sum().sum()"
   ]
  },
  {
   "cell_type": "markdown",
   "metadata": {},
   "source": [
    "### Remove outliers"
   ]
  },
  {
   "cell_type": "code",
   "execution_count": 7,
   "metadata": {},
   "outputs": [
    {
     "data": {
      "text/plain": [
       "3178462"
      ]
     },
     "execution_count": 7,
     "metadata": {},
     "output_type": "execute_result"
    }
   ],
   "source": [
    "Q1 = dataset.quantile(0.25)\n",
    "Q3 = dataset.quantile(0.75)\n",
    "IQR = Q3 - Q1\n",
    "a =(dataset < (Q1 - 1.5 * IQR)) |(dataset > (Q3 + 1.5 * IQR))\n",
    "a.sum(axis=1).sum()"
   ]
  },
  {
   "cell_type": "code",
   "execution_count": 8,
   "metadata": {},
   "outputs": [
    {
     "data": {
      "text/plain": [
       "(1001150,)"
      ]
     },
     "execution_count": 8,
     "metadata": {},
     "output_type": "execute_result"
    }
   ],
   "source": [
    "from scipy import stats\n",
    "\n",
    "z = np.abs(stats.zscore(dataset))\n",
    "out = np.where(z>3)\n",
    "out[0].shape"
   ]
  },
  {
   "cell_type": "code",
   "execution_count": 9,
   "metadata": {},
   "outputs": [
    {
     "data": {
      "text/plain": [
       "(8790348, 25)"
      ]
     },
     "execution_count": 9,
     "metadata": {},
     "output_type": "execute_result"
    }
   ],
   "source": [
    "dataset = dataset.drop(index=out[0], axis=0)\n",
    "dataset.shape"
   ]
  },
  {
   "cell_type": "markdown",
   "metadata": {},
   "source": [
    "### Remove duplicated instances"
   ]
  },
  {
   "cell_type": "code",
   "execution_count": 10,
   "metadata": {},
   "outputs": [
    {
     "data": {
      "text/plain": [
       "(8768965, 25)"
      ]
     },
     "execution_count": 10,
     "metadata": {},
     "output_type": "execute_result"
    }
   ],
   "source": [
    "dataset = dataset.drop_duplicates()\n",
    "dataset.shape"
   ]
  },
  {
   "cell_type": "markdown",
   "metadata": {},
   "source": [
    "### Dump the dataset"
   ]
  },
  {
   "cell_type": "code",
   "execution_count": 11,
   "metadata": {},
   "outputs": [
    {
     "data": {
      "text/plain": [
       "['data/dataset_cleaned.pkl']"
      ]
     },
     "execution_count": 11,
     "metadata": {},
     "output_type": "execute_result"
    }
   ],
   "source": [
    "joblib.dump(dataset, 'data/dataset_cleaned.pkl')"
   ]
  },
  {
   "cell_type": "markdown",
   "metadata": {},
   "source": [
    "## Feature Transformation"
   ]
  },
  {
   "cell_type": "markdown",
   "metadata": {},
   "source": [
    "### Check for categorical features for encoding"
   ]
  },
  {
   "cell_type": "code",
   "execution_count": 12,
   "metadata": {},
   "outputs": [
    {
     "data": {
      "text/plain": [
       "Series([], dtype: float64)"
      ]
     },
     "execution_count": 12,
     "metadata": {},
     "output_type": "execute_result"
    }
   ],
   "source": [
    "dataset.select_dtypes(include='object').sum()"
   ]
  },
  {
   "cell_type": "markdown",
   "metadata": {},
   "source": [
    "## Feature Selection"
   ]
  },
  {
   "cell_type": "code",
   "execution_count": 13,
   "metadata": {},
   "outputs": [],
   "source": [
    "frac = 1\n",
    "# frac = 0.1\n",
    "\n",
    "X = dataset.drop(columns='Duration').sample(frac=frac, random_state=42)\n",
    "y = dataset['Duration'].sample(frac=frac, random_state=42)"
   ]
  },
  {
   "cell_type": "code",
   "execution_count": 14,
   "metadata": {},
   "outputs": [],
   "source": [
    "from sklearn.model_selection import train_test_split\n",
    "\n",
    "# train:val:test = 80:10:10\n",
    "X_train, X_val_test, y_train, y_val_test = train_test_split(X, y, test_size=0.2, random_state=42)\n",
    "X_val, X_test, y_val, y_test = \\\n",
    "train_test_split(X_val_test, y_val_test, test_size=0.5, random_state=42)"
   ]
  },
  {
   "cell_type": "code",
   "execution_count": 15,
   "metadata": {},
   "outputs": [
    {
     "data": {
      "text/plain": [
       "((7015172, 24), (876896, 24), (876897, 24))"
      ]
     },
     "execution_count": 15,
     "metadata": {},
     "output_type": "execute_result"
    }
   ],
   "source": [
    "X_train.shape, X_val.shape, X_test.shape"
   ]
  },
  {
   "cell_type": "markdown",
   "metadata": {},
   "source": [
    "### Recursive Feature Elimination (RFE)"
   ]
  },
  {
   "cell_type": "code",
   "execution_count": 20,
   "metadata": {},
   "outputs": [],
   "source": [
    "from sklearn.feature_selection import RFE\n",
    "from sklearn.ensemble import RandomForestRegressor\n",
    "\n",
    "estimator = RandomForestRegressor(n_estimators=10, n_jobs=10) \n",
    "rfe = RFE(estimator, n_features_to_select=10)\n",
    "X_train_rfe = rfe.fit_transform(X_train, y_train)\n",
    "X_val_rfe = rfe.transform(X_val)\n",
    "X_test_rfe = rfe.transform(X_test)"
   ]
  },
  {
   "cell_type": "code",
   "execution_count": 21,
   "metadata": {},
   "outputs": [
    {
     "data": {
      "image/png": "[encoded data removed]",
      "text/plain": [
       "<Figure size 375x375 with 1 Axes>"
      ]
     },
     "metadata": {
      "needs_background": "light"
     },
     "output_type": "display_data"
    }
   ],
   "source": [
    "plt.figure(figsize=(5,5), dpi=75)\n",
    "sns.barplot(y=X_train.columns, x=max(rfe.ranking_)-rfe.ranking_);"
   ]
  },
  {
   "cell_type": "code",
   "execution_count": 22,
   "metadata": {},
   "outputs": [
    {
     "data": {
      "text/plain": [
       "Index(['Distance', 'PLong', 'DLatd', 'Haversine', 'Phour', 'Pmin', 'Dhour',\n",
       "       'Dmin', 'Temp', 'Solar'],\n",
       "      dtype='object')"
      ]
     },
     "execution_count": 22,
     "metadata": {},
     "output_type": "execute_result"
    }
   ],
   "source": [
    "rfe_features = X_train.columns[rfe.support_]\n",
    "rfe_features"
   ]
  },
  {
   "cell_type": "code",
   "execution_count": 23,
   "metadata": {},
   "outputs": [],
   "source": [
    "X_train_ = pd.DataFrame(X_train, columns=rfe_features)\n",
    "X_val_ = pd.DataFrame(X_val, columns=rfe_features)\n",
    "X_test_ = pd.DataFrame(X_test, columns=rfe_features)"
   ]
  },
  {
   "cell_type": "code",
   "execution_count": 24,
   "metadata": {},
   "outputs": [
    {
     "data": {
      "text/plain": [
       "['data/y_test.pkl']"
      ]
     },
     "execution_count": 24,
     "metadata": {},
     "output_type": "execute_result"
    }
   ],
   "source": [
    "joblib.dump(X_train_, 'data/X_train.pkl')\n",
    "joblib.dump(X_val_, 'data/X_val.pkl')\n",
    "joblib.dump(X_test_, 'data/X_test.pkl')\n",
    "\n",
    "joblib.dump(y_train, 'data/y_train.pkl')\n",
    "joblib.dump(y_val, 'data/y_val.pkl')\n",
    "joblib.dump(y_test, 'data/y_test.pkl')"
   ]
  }
 ],
 "metadata": {
  "interpreter": {
   "hash": "c3b1f0aa73ce6a53838a2507dee39748d09bb5596497487604e75b434ade7b74"
  },
  "kernelspec": {
   "display_name": "Python 3",
   "language": "python",
   "name": "python3"
  },
  "language_info": {
   "codemirror_mode": {
    "name": "ipython",
    "version": 3
   },
   "file_extension": ".py",
   "mimetype": "text/x-python",
   "name": "python",
   "nbconvert_exporter": "python",
   "pygments_lexer": "ipython3",
   "version": "3.7.6"
  }
 },
 "nbformat": 4,
 "nbformat_minor": 4
}
