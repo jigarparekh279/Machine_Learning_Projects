{
 "cells": [
  {
   "cell_type": "markdown",
   "metadata": {},
   "source": [
    "# Seoul Bike Trip Duration Prediction"
   ]
  },
  {
   "cell_type": "markdown",
   "metadata": {},
   "source": [
    "<img src=\"Features_Description.png\" style=\"float:right;\" width=\"500\"/>\n",
    "\n",
    "### Context\n",
    "- Trip duration is the most fundamental measure in all modes of transportation. \n",
    "- Hence, it is crucial to predict the trip-time precisely for the advancement of Intelligent Transport Systems (ITS) and traveller information systems. \n",
    "- In order to predict the trip duration, data mining techniques are employed in this paper to predict the trip duration of rental bikes in Seoul Bike sharing system. \n",
    "- The prediction is carried out with the combination of Seoul Bike data and weather data.\n",
    "\n",
    "### Content\n",
    "- The Data used include trip duration, trip distance, pickup-dropoff latitude and longitude, \n",
    "temperature, precipitation, wind speed, humidity, solar radiation, snowfall, ground temperature and 1-hour average dust concentration.\n",
    "\n",
    "### Acknowledgements\n",
    "- V E, Sathishkumar (2020), \"Seoul Bike Trip duration prediction\", Mendeley Data, V1, doi: 10.17632/gtfh9z865f.1\n",
    "- Sathishkumar V E, Jangwoo Park, Yongyun Cho, (2019), Seoul bike trip duration prediction using data mining techniques, IET Intelligent Transport Systems, doi: 10.1049/iet-its.2019.0796\n",
    "\n",
    "### Goal\n",
    "- Predict the trip duration\n",
    "\n",
    "### Steps\n",
    "- Exploratory Data Analysis (EDA)\n",
    "- Data Preprocessing\n",
    "- Feature Selection / Transformation\n",
    "- **Mahcine Learning Algorithm**\n",
    "- Feature Importance / Engineering\n",
    "- Hyperparameter Tuning\n",
    "- Model Deployment"
   ]
  },
  {
   "cell_type": "markdown",
   "metadata": {},
   "source": [
    "## Load libraries"
   ]
  },
  {
   "cell_type": "code",
   "execution_count": 1,
   "metadata": {},
   "outputs": [],
   "source": [
    "import numpy as np\n",
    "import pandas as pd\n",
    "import matplotlib.pyplot as plt\n",
    "import seaborn as sns\n",
    "\n",
    "import joblib\n",
    "\n",
    "from helper_functions import *\n",
    "\n",
    "from timeit import default_timer as timer"
   ]
  },
  {
   "cell_type": "code",
   "execution_count": 2,
   "metadata": {},
   "outputs": [],
   "source": [
    "# import sklearn\n",
    "# sklearn.__version__ #'0.22.1'"
   ]
  },
  {
   "cell_type": "markdown",
   "metadata": {},
   "source": [
    "## Data"
   ]
  },
  {
   "cell_type": "code",
   "execution_count": 43,
   "metadata": {},
   "outputs": [],
   "source": [
    "from sklearn.model_selection import train_test_split\n",
    "\n",
    "X_train, X_val, X_test, y_train, y_val, y_test = \\\n",
    "joblib.load('data/X_train.pkl'),\\\n",
    "joblib.load('data/X_val.pkl'),\\\n",
    "joblib.load('data/X_test.pkl'),\\\n",
    "joblib.load('data/y_train.pkl'),\\\n",
    "joblib.load('data/y_val.pkl'),\\\n",
    "joblib.load('data/y_test.pkl')\n",
    "\n",
    "rfe_features = X_train.columns\n",
    "\n",
    "train_dataset = X_train.copy()\n",
    "train_dataset['Duration'] = y_train"
   ]
  },
  {
   "cell_type": "code",
   "execution_count": 44,
   "metadata": {},
   "outputs": [
    {
     "data": {
      "text/plain": [
       "((7015, 10), (877, 10), (877, 10), (7015,), (877,), (877,))"
      ]
     },
     "execution_count": 44,
     "metadata": {},
     "output_type": "execute_result"
    }
   ],
   "source": [
    "X_train.shape, X_val.shape, X_test.shape, y_train.shape, y_val.shape, y_test.shape"
   ]
  },
  {
   "cell_type": "markdown",
   "metadata": {},
   "source": [
    "### Feature scaling"
   ]
  },
  {
   "cell_type": "code",
   "execution_count": 45,
   "metadata": {},
   "outputs": [],
   "source": [
    "from sklearn.preprocessing import StandardScaler\n",
    "\n",
    "scalar = StandardScaler()\n",
    "X_train = scalar.fit_transform(X_train)\n",
    "X_val = scalar.transform(X_val)\n",
    "X_test = scalar.transform(X_test)"
   ]
  },
  {
   "cell_type": "markdown",
   "metadata": {},
   "source": [
    "## Machine Learning Algorithms"
   ]
  },
  {
   "cell_type": "code",
   "execution_count": 76,
   "metadata": {},
   "outputs": [],
   "source": [
    "def fit_ML_model(modelName, model, error=pd.DataFrame(\n",
    "    [], index=['Train Loss','Val Loss', 'Test Loss', 'y_mean','Time (s)'])):\n",
    "\n",
    "    from sklearn.metrics import mean_squared_error\n",
    "    \n",
    "    start = timer()\n",
    "    \n",
    "    model.fit(X_train, y_train)\n",
    "    rmse_train = mean_squared_error(y_train, model.predict(X_train), squared=False)\n",
    "    rmse_val = mean_squared_error(y_val, model.predict(X_val), squared=False)\n",
    "    rmse_test = mean_squared_error(y_test, model.predict(X_test), squared=False)\n",
    "\n",
    "    end = timer()\n",
    "\n",
    "    error[modelName] = [rmse_train, rmse_val, rmse_test, y_train.mean(), end-start]\n",
    "\n",
    "    return model, error"
   ]
  },
  {
   "cell_type": "markdown",
   "metadata": {},
   "source": [
    "###  Linear Regression"
   ]
  },
  {
   "cell_type": "code",
   "execution_count": 80,
   "metadata": {},
   "outputs": [
    {
     "data": {
      "text/html": [
       "<div>\n",
       "<style scoped>\n",
       "    .dataframe tbody tr th:only-of-type {\n",
       "        vertical-align: middle;\n",
       "    }\n",
       "\n",
       "    .dataframe tbody tr th {\n",
       "        vertical-align: top;\n",
       "    }\n",
       "\n",
       "    .dataframe thead th {\n",
       "        text-align: right;\n",
       "    }\n",
       "</style>\n",
       "<table border=\"1\" class=\"dataframe\">\n",
       "  <thead>\n",
       "    <tr style=\"text-align: right;\">\n",
       "      <th></th>\n",
       "      <th>LinReg</th>\n",
       "      <th>SVR</th>\n",
       "    </tr>\n",
       "  </thead>\n",
       "  <tbody>\n",
       "    <tr>\n",
       "      <th>Train Loss</th>\n",
       "      <td>12.491424</td>\n",
       "      <td>12.967476</td>\n",
       "    </tr>\n",
       "    <tr>\n",
       "      <th>Val Loss</th>\n",
       "      <td>13.421796</td>\n",
       "      <td>13.902617</td>\n",
       "    </tr>\n",
       "    <tr>\n",
       "      <th>Test Loss</th>\n",
       "      <td>13.389279</td>\n",
       "      <td>13.994934</td>\n",
       "    </tr>\n",
       "    <tr>\n",
       "      <th>y_mean</th>\n",
       "      <td>22.527869</td>\n",
       "      <td>22.527869</td>\n",
       "    </tr>\n",
       "    <tr>\n",
       "      <th>Time (s)</th>\n",
       "      <td>0.007046</td>\n",
       "      <td>6.068126</td>\n",
       "    </tr>\n",
       "  </tbody>\n",
       "</table>\n",
       "</div>"
      ],
      "text/plain": [
       "               LinReg        SVR\n",
       "Train Loss  12.491424  12.967476\n",
       "Val Loss    13.421796  13.902617\n",
       "Test Loss   13.389279  13.994934\n",
       "y_mean      22.527869  22.527869\n",
       "Time (s)     0.007046   6.068126"
      ]
     },
     "execution_count": 80,
     "metadata": {},
     "output_type": "execute_result"
    }
   ],
   "source": [
    "from sklearn.linear_model import LinearRegression\n",
    "\n",
    "modelName = 'LinReg'\n",
    "lr, error = fit_ML_model(modelName, LinearRegression())\n",
    "\n",
    "feature_importances = pd.DataFrame(abs(lr.coef_), index=rfe_features, columns=[modelName])\n",
    "feature_importances[modelName] /= feature_importances[modelName].max()\n",
    "\n",
    "error"
   ]
  },
  {
   "cell_type": "markdown",
   "metadata": {},
   "source": [
    "### SVM"
   ]
  },
  {
   "cell_type": "code",
   "execution_count": 82,
   "metadata": {},
   "outputs": [
    {
     "data": {
      "text/html": [
       "<div>\n",
       "<style scoped>\n",
       "    .dataframe tbody tr th:only-of-type {\n",
       "        vertical-align: middle;\n",
       "    }\n",
       "\n",
       "    .dataframe tbody tr th {\n",
       "        vertical-align: top;\n",
       "    }\n",
       "\n",
       "    .dataframe thead th {\n",
       "        text-align: right;\n",
       "    }\n",
       "</style>\n",
       "<table border=\"1\" class=\"dataframe\">\n",
       "  <thead>\n",
       "    <tr style=\"text-align: right;\">\n",
       "      <th></th>\n",
       "      <th>LinReg</th>\n",
       "      <th>SVR</th>\n",
       "    </tr>\n",
       "  </thead>\n",
       "  <tbody>\n",
       "    <tr>\n",
       "      <th>Train Loss</th>\n",
       "      <td>12.491424</td>\n",
       "      <td>12.967476</td>\n",
       "    </tr>\n",
       "    <tr>\n",
       "      <th>Val Loss</th>\n",
       "      <td>13.421796</td>\n",
       "      <td>13.902617</td>\n",
       "    </tr>\n",
       "    <tr>\n",
       "      <th>Test Loss</th>\n",
       "      <td>13.389279</td>\n",
       "      <td>13.994934</td>\n",
       "    </tr>\n",
       "    <tr>\n",
       "      <th>y_mean</th>\n",
       "      <td>22.527869</td>\n",
       "      <td>22.527869</td>\n",
       "    </tr>\n",
       "    <tr>\n",
       "      <th>Time (s)</th>\n",
       "      <td>0.007046</td>\n",
       "      <td>6.055850</td>\n",
       "    </tr>\n",
       "  </tbody>\n",
       "</table>\n",
       "</div>"
      ],
      "text/plain": [
       "               LinReg        SVR\n",
       "Train Loss  12.491424  12.967476\n",
       "Val Loss    13.421796  13.902617\n",
       "Test Loss   13.389279  13.994934\n",
       "y_mean      22.527869  22.527869\n",
       "Time (s)     0.007046   6.055850"
      ]
     },
     "execution_count": 82,
     "metadata": {},
     "output_type": "execute_result"
    }
   ],
   "source": [
    "from sklearn.svm import SVR\n",
    "\n",
    "modelName = 'SVR'\n",
    "svr, error = fit_ML_model(modelName, SVR(kernel='linear'))\n",
    "\n",
    "feature_importances[modelName] = abs(svr.coef_[0])\n",
    "feature_importances[modelName] /= feature_importances[modelName].max()\n",
    "\n",
    "error"
   ]
  },
  {
   "cell_type": "markdown",
   "metadata": {},
   "source": [
    "### Random Forest"
   ]
  },
  {
   "cell_type": "code",
   "execution_count": 84,
   "metadata": {},
   "outputs": [
    {
     "data": {
      "text/html": [
       "<div>\n",
       "<style scoped>\n",
       "    .dataframe tbody tr th:only-of-type {\n",
       "        vertical-align: middle;\n",
       "    }\n",
       "\n",
       "    .dataframe tbody tr th {\n",
       "        vertical-align: top;\n",
       "    }\n",
       "\n",
       "    .dataframe thead th {\n",
       "        text-align: right;\n",
       "    }\n",
       "</style>\n",
       "<table border=\"1\" class=\"dataframe\">\n",
       "  <thead>\n",
       "    <tr style=\"text-align: right;\">\n",
       "      <th></th>\n",
       "      <th>LinReg</th>\n",
       "      <th>SVR</th>\n",
       "      <th>RandForest</th>\n",
       "    </tr>\n",
       "  </thead>\n",
       "  <tbody>\n",
       "    <tr>\n",
       "      <th>Train Loss</th>\n",
       "      <td>12.491424</td>\n",
       "      <td>12.967476</td>\n",
       "      <td>4.225836</td>\n",
       "    </tr>\n",
       "    <tr>\n",
       "      <th>Val Loss</th>\n",
       "      <td>13.421796</td>\n",
       "      <td>13.902617</td>\n",
       "      <td>11.919250</td>\n",
       "    </tr>\n",
       "    <tr>\n",
       "      <th>Test Loss</th>\n",
       "      <td>13.389279</td>\n",
       "      <td>13.994934</td>\n",
       "      <td>11.438496</td>\n",
       "    </tr>\n",
       "    <tr>\n",
       "      <th>y_mean</th>\n",
       "      <td>22.527869</td>\n",
       "      <td>22.527869</td>\n",
       "      <td>22.527869</td>\n",
       "    </tr>\n",
       "    <tr>\n",
       "      <th>Time (s)</th>\n",
       "      <td>0.007046</td>\n",
       "      <td>6.055850</td>\n",
       "      <td>5.559251</td>\n",
       "    </tr>\n",
       "  </tbody>\n",
       "</table>\n",
       "</div>"
      ],
      "text/plain": [
       "               LinReg        SVR  RandForest\n",
       "Train Loss  12.491424  12.967476    4.225836\n",
       "Val Loss    13.421796  13.902617   11.919250\n",
       "Test Loss   13.389279  13.994934   11.438496\n",
       "y_mean      22.527869  22.527869   22.527869\n",
       "Time (s)     0.007046   6.055850    5.559251"
      ]
     },
     "execution_count": 84,
     "metadata": {},
     "output_type": "execute_result"
    }
   ],
   "source": [
    "from sklearn.ensemble import RandomForestRegressor\n",
    "\n",
    "modelName = 'RandForest'\n",
    "rf, error = fit_ML_model(modelName, RandomForestRegressor())\n",
    "\n",
    "feature_importances[modelName] = rf.feature_importances_\n",
    "feature_importances[modelName] /= feature_importances[modelName].max()\n",
    "\n",
    "error"
   ]
  },
  {
   "cell_type": "markdown",
   "metadata": {},
   "source": [
    "### XGBoost"
   ]
  },
  {
   "cell_type": "code",
   "execution_count": 85,
   "metadata": {},
   "outputs": [
    {
     "name": "stdout",
     "output_type": "stream",
     "text": [
      "[0]\tvalidation_0-rmse:12.71851\n",
      "[1]\tvalidation_0-rmse:12.48654\n",
      "[2]\tvalidation_0-rmse:12.55414\n",
      "[3]\tvalidation_0-rmse:12.81261\n",
      "[4]\tvalidation_0-rmse:12.83677\n",
      "[5]\tvalidation_0-rmse:12.60174\n",
      "[6]\tvalidation_0-rmse:12.50226\n",
      "[7]\tvalidation_0-rmse:12.69247\n",
      "[8]\tvalidation_0-rmse:12.82675\n",
      "[9]\tvalidation_0-rmse:12.92183\n",
      "[10]\tvalidation_0-rmse:12.75745\n"
     ]
    },
    {
     "data": {
      "text/html": [
       "<div>\n",
       "<style scoped>\n",
       "    .dataframe tbody tr th:only-of-type {\n",
       "        vertical-align: middle;\n",
       "    }\n",
       "\n",
       "    .dataframe tbody tr th {\n",
       "        vertical-align: top;\n",
       "    }\n",
       "\n",
       "    .dataframe thead th {\n",
       "        text-align: right;\n",
       "    }\n",
       "</style>\n",
       "<table border=\"1\" class=\"dataframe\">\n",
       "  <thead>\n",
       "    <tr style=\"text-align: right;\">\n",
       "      <th></th>\n",
       "      <th>LinReg</th>\n",
       "      <th>SVR</th>\n",
       "      <th>RandForest</th>\n",
       "      <th>XGBoost</th>\n",
       "    </tr>\n",
       "  </thead>\n",
       "  <tbody>\n",
       "    <tr>\n",
       "      <th>Train Loss</th>\n",
       "      <td>12.491424</td>\n",
       "      <td>12.967476</td>\n",
       "      <td>4.225836</td>\n",
       "      <td>10.406222</td>\n",
       "    </tr>\n",
       "    <tr>\n",
       "      <th>Val Loss</th>\n",
       "      <td>13.421796</td>\n",
       "      <td>13.902617</td>\n",
       "      <td>11.919250</td>\n",
       "      <td>12.486538</td>\n",
       "    </tr>\n",
       "    <tr>\n",
       "      <th>Test Loss</th>\n",
       "      <td>13.389279</td>\n",
       "      <td>13.994934</td>\n",
       "      <td>11.438496</td>\n",
       "      <td>11.926671</td>\n",
       "    </tr>\n",
       "    <tr>\n",
       "      <th>y_mean</th>\n",
       "      <td>22.527869</td>\n",
       "      <td>22.527869</td>\n",
       "      <td>22.527869</td>\n",
       "      <td>22.527869</td>\n",
       "    </tr>\n",
       "    <tr>\n",
       "      <th>Time (s)</th>\n",
       "      <td>0.007046</td>\n",
       "      <td>6.055850</td>\n",
       "      <td>5.559251</td>\n",
       "      <td>0.168064</td>\n",
       "    </tr>\n",
       "  </tbody>\n",
       "</table>\n",
       "</div>"
      ],
      "text/plain": [
       "               LinReg        SVR  RandForest    XGBoost\n",
       "Train Loss  12.491424  12.967476    4.225836  10.406222\n",
       "Val Loss    13.421796  13.902617   11.919250  12.486538\n",
       "Test Loss   13.389279  13.994934   11.438496  11.926671\n",
       "y_mean      22.527869  22.527869   22.527869  22.527869\n",
       "Time (s)     0.007046   6.055850    5.559251   0.168064"
      ]
     },
     "execution_count": 85,
     "metadata": {},
     "output_type": "execute_result"
    }
   ],
   "source": [
    "from xgboost import XGBRegressor\n",
    "from sklearn.metrics import mean_squared_error\n",
    "\n",
    "modelName = 'XGBoost'\n",
    "xgb = XGBRegressor(learning_rate=0.9, n_estimators=100, n_jobs=16,\n",
    "             tree_method='exact', verbosity=1)\n",
    "start = timer()\n",
    "xgb.fit(X_train, y_train, eval_set=[(X_val, y_val)], early_stopping_rounds=10, verbose=1)\n",
    "rmse_train = mean_squared_error(y_train, xgb.predict(X_train), squared=False)\n",
    "rmse_val = mean_squared_error(y_val, xgb.predict(X_val), squared=False)\n",
    "rmse_test = mean_squared_error(y_test, xgb.predict(X_test), squared=False)\n",
    "end = timer()\n",
    "\n",
    "feature_importances[modelName] = xgb.feature_importances_[::-1]\n",
    "feature_importances[modelName]/= feature_importances[modelName].max()\n",
    "\n",
    "error[modelName] = [rmse_train, rmse_val, rmse_test, y_train.mean(), end-start]\n",
    "error"
   ]
  },
  {
   "cell_type": "markdown",
   "metadata": {},
   "source": [
    "### Neural Network"
   ]
  },
  {
   "cell_type": "code",
   "execution_count": 86,
   "metadata": {
    "scrolled": true
   },
   "outputs": [
    {
     "name": "stdout",
     "output_type": "stream",
     "text": [
      "Model: \"sequential_2\"\n",
      "_________________________________________________________________\n",
      "Layer (type)                 Output Shape              Param #   \n",
      "=================================================================\n",
      "dense_6 (Dense)              (None, 64)                704       \n",
      "_________________________________________________________________\n",
      "dense_7 (Dense)              (None, 64)                4160      \n",
      "_________________________________________________________________\n",
      "dense_8 (Dense)              (None, 1)                 65        \n",
      "=================================================================\n",
      "Total params: 4,929\n",
      "Trainable params: 4,929\n",
      "Non-trainable params: 0\n",
      "_________________________________________________________________\n"
     ]
    }
   ],
   "source": [
    "import tensorflow as tf\n",
    "from tensorflow import keras\n",
    "\n",
    "nodes = 64\n",
    "n_hidden = 2\n",
    "activation = 'relu'\n",
    "\n",
    "ann = tf.keras.Sequential(keras.layers.Dense(nodes, activation=activation, input_shape=X_train.shape[1:]))\n",
    "\n",
    "for _ in range(n_hidden-1):  \n",
    "    ann.add(keras.layers.Dense(nodes, activation=activation))\n",
    "\n",
    "ann.add(keras.layers.Dense(1))\n",
    "\n",
    "ann.summary()"
   ]
  },
  {
   "cell_type": "code",
   "execution_count": 87,
   "metadata": {
    "scrolled": true
   },
   "outputs": [
    {
     "name": "stdout",
     "output_type": "stream",
     "text": [
      "Epoch 1/500\n",
      "1/1 [==============================] - 1s 609ms/step - loss: 908.9153 - val_loss: 927.9001\n",
      "Epoch 2/500\n",
      "1/1 [==============================] - 0s 46ms/step - loss: 903.6842 - val_loss: 922.6530\n",
      "Epoch 3/500\n",
      "1/1 [==============================] - 0s 46ms/step - loss: 898.4886 - val_loss: 917.4338\n",
      "Epoch 4/500\n",
      "1/1 [==============================] - 0s 44ms/step - loss: 893.3195 - val_loss: 912.2386\n",
      "Epoch 5/500\n",
      "1/1 [==============================] - 0s 44ms/step - loss: 888.1712 - val_loss: 907.0618\n",
      "Epoch 6/500\n",
      "1/1 [==============================] - 0s 44ms/step - loss: 883.0396 - val_loss: 901.8947\n",
      "Epoch 7/500\n",
      "1/1 [==============================] - 0s 44ms/step - loss: 877.9250 - val_loss: 896.7442\n",
      "Epoch 8/500\n",
      "1/1 [==============================] - 0s 43ms/step - loss: 872.8221 - val_loss: 891.5961\n",
      "Epoch 9/500\n",
      "1/1 [==============================] - 0s 43ms/step - loss: 867.7233 - val_loss: 886.4436\n",
      "Epoch 10/500\n",
      "1/1 [==============================] - 0s 44ms/step - loss: 862.6216 - val_loss: 881.2817\n",
      "Epoch 11/500\n",
      "1/1 [==============================] - 0s 43ms/step - loss: 857.5078 - val_loss: 876.0961\n",
      "Epoch 12/500\n",
      "1/1 [==============================] - 0s 43ms/step - loss: 852.3730 - val_loss: 870.8921\n",
      "Epoch 13/500\n",
      "1/1 [==============================] - 0s 44ms/step - loss: 847.2117 - val_loss: 865.6573\n",
      "Epoch 14/500\n",
      "1/1 [==============================] - 0s 44ms/step - loss: 842.0157 - val_loss: 860.3768\n",
      "Epoch 15/500\n",
      "1/1 [==============================] - 0s 46ms/step - loss: 836.7760 - val_loss: 855.0381\n",
      "Epoch 16/500\n",
      "1/1 [==============================] - 0s 46ms/step - loss: 831.4834 - val_loss: 849.6436\n",
      "Epoch 17/500\n",
      "1/1 [==============================] - 0s 45ms/step - loss: 826.1328 - val_loss: 844.1950\n",
      "Epoch 18/500\n",
      "1/1 [==============================] - 0s 47ms/step - loss: 820.7154 - val_loss: 838.6785\n",
      "Epoch 19/500\n",
      "1/1 [==============================] - 0s 46ms/step - loss: 815.2255 - val_loss: 833.0811\n",
      "Epoch 20/500\n",
      "1/1 [==============================] - 0s 388ms/step - loss: 809.6530 - val_loss: 827.3860\n",
      "Epoch 21/500\n",
      "1/1 [==============================] - 0s 71ms/step - loss: 803.9922 - val_loss: 821.5906\n",
      "Epoch 22/500\n",
      "1/1 [==============================] - 0s 51ms/step - loss: 798.2384 - val_loss: 815.6836\n",
      "Epoch 23/500\n",
      "1/1 [==============================] - 0s 51ms/step - loss: 792.3853 - val_loss: 809.6635\n",
      "Epoch 24/500\n",
      "1/1 [==============================] - 0s 53ms/step - loss: 786.4269 - val_loss: 803.5333\n",
      "Epoch 25/500\n",
      "1/1 [==============================] - 0s 54ms/step - loss: 780.3593 - val_loss: 797.2838\n",
      "Epoch 26/500\n",
      "1/1 [==============================] - 0s 54ms/step - loss: 774.1743 - val_loss: 790.9136\n",
      "Epoch 27/500\n",
      "1/1 [==============================] - 0s 57ms/step - loss: 767.8657 - val_loss: 784.4142\n",
      "Epoch 28/500\n",
      "1/1 [==============================] - 0s 53ms/step - loss: 761.4291 - val_loss: 777.7813\n",
      "Epoch 29/500\n",
      "1/1 [==============================] - 0s 53ms/step - loss: 754.8585 - val_loss: 771.0115\n",
      "Epoch 30/500\n",
      "1/1 [==============================] - 0s 54ms/step - loss: 748.1509 - val_loss: 764.0959\n",
      "Epoch 31/500\n",
      "1/1 [==============================] - 0s 52ms/step - loss: 741.3055 - val_loss: 757.0333\n",
      "Epoch 32/500\n",
      "1/1 [==============================] - 0s 51ms/step - loss: 734.3156 - val_loss: 749.8214\n",
      "Epoch 33/500\n",
      "1/1 [==============================] - 0s 49ms/step - loss: 727.1809 - val_loss: 742.4648\n",
      "Epoch 34/500\n",
      "1/1 [==============================] - 0s 52ms/step - loss: 719.9006 - val_loss: 734.9671\n",
      "Epoch 35/500\n",
      "1/1 [==============================] - 0s 52ms/step - loss: 712.4745 - val_loss: 727.3149\n",
      "Epoch 36/500\n",
      "1/1 [==============================] - 0s 52ms/step - loss: 704.9033 - val_loss: 719.5124\n",
      "Epoch 37/500\n",
      "1/1 [==============================] - 0s 53ms/step - loss: 697.1868 - val_loss: 711.5668\n",
      "Epoch 38/500\n",
      "1/1 [==============================] - ETA: 0s - loss: 689.3233"
     ]
    },
    {
     "ename": "KeyboardInterrupt",
     "evalue": "",
     "output_type": "error",
     "traceback": [
      "\u001b[0;31m---------------------------------------------------------------------------\u001b[0m",
      "\u001b[0;31mKeyboardInterrupt\u001b[0m                         Traceback (most recent call last)",
      "\u001b[0;32m<ipython-input-87-8317c80c1416>\u001b[0m in \u001b[0;36m<module>\u001b[0;34m\u001b[0m\n\u001b[1;32m      9\u001b[0m \u001b[0mstart\u001b[0m \u001b[0;34m=\u001b[0m \u001b[0mtimer\u001b[0m\u001b[0;34m(\u001b[0m\u001b[0;34m)\u001b[0m\u001b[0;34m\u001b[0m\u001b[0;34m\u001b[0m\u001b[0m\n\u001b[1;32m     10\u001b[0m history = ann.fit(X_train, y_train, validation_data=(X_val, y_val), \n\u001b[0;32m---> 11\u001b[0;31m                     epochs=epochs, batch_size=batch_size, validation_batch_size=batch_size)\n\u001b[0m\u001b[1;32m     12\u001b[0m \u001b[0mend\u001b[0m \u001b[0;34m=\u001b[0m \u001b[0mtimer\u001b[0m\u001b[0;34m(\u001b[0m\u001b[0;34m)\u001b[0m\u001b[0;34m\u001b[0m\u001b[0;34m\u001b[0m\u001b[0m\n",
      "\u001b[0;32m~/.conda/envs/tfEnv_1/lib/python3.7/site-packages/tensorflow/python/keras/engine/training.py\u001b[0m in \u001b[0;36mfit\u001b[0;34m(self, x, y, batch_size, epochs, verbose, callbacks, validation_split, validation_data, shuffle, class_weight, sample_weight, initial_epoch, steps_per_epoch, validation_steps, validation_batch_size, validation_freq, max_queue_size, workers, use_multiprocessing)\u001b[0m\n\u001b[1;32m   1139\u001b[0m               \u001b[0mworkers\u001b[0m\u001b[0;34m=\u001b[0m\u001b[0mworkers\u001b[0m\u001b[0;34m,\u001b[0m\u001b[0;34m\u001b[0m\u001b[0;34m\u001b[0m\u001b[0m\n\u001b[1;32m   1140\u001b[0m               \u001b[0muse_multiprocessing\u001b[0m\u001b[0;34m=\u001b[0m\u001b[0muse_multiprocessing\u001b[0m\u001b[0;34m,\u001b[0m\u001b[0;34m\u001b[0m\u001b[0;34m\u001b[0m\u001b[0m\n\u001b[0;32m-> 1141\u001b[0;31m               return_dict=True)\n\u001b[0m\u001b[1;32m   1142\u001b[0m           \u001b[0mval_logs\u001b[0m \u001b[0;34m=\u001b[0m \u001b[0;34m{\u001b[0m\u001b[0;34m'val_'\u001b[0m \u001b[0;34m+\u001b[0m \u001b[0mname\u001b[0m\u001b[0;34m:\u001b[0m \u001b[0mval\u001b[0m \u001b[0;32mfor\u001b[0m \u001b[0mname\u001b[0m\u001b[0;34m,\u001b[0m \u001b[0mval\u001b[0m \u001b[0;32min\u001b[0m \u001b[0mval_logs\u001b[0m\u001b[0;34m.\u001b[0m\u001b[0mitems\u001b[0m\u001b[0;34m(\u001b[0m\u001b[0;34m)\u001b[0m\u001b[0;34m}\u001b[0m\u001b[0;34m\u001b[0m\u001b[0;34m\u001b[0m\u001b[0m\n\u001b[1;32m   1143\u001b[0m           \u001b[0mepoch_logs\u001b[0m\u001b[0;34m.\u001b[0m\u001b[0mupdate\u001b[0m\u001b[0;34m(\u001b[0m\u001b[0mval_logs\u001b[0m\u001b[0;34m)\u001b[0m\u001b[0;34m\u001b[0m\u001b[0;34m\u001b[0m\u001b[0m\n",
      "\u001b[0;32m~/.conda/envs/tfEnv_1/lib/python3.7/site-packages/tensorflow/python/keras/engine/training.py\u001b[0m in \u001b[0;36mevaluate\u001b[0;34m(self, x, y, batch_size, verbose, sample_weight, steps, callbacks, max_queue_size, workers, use_multiprocessing, return_dict)\u001b[0m\n\u001b[1;32m   1347\u001b[0m       \u001b[0;31m# Use cached evaluation data only when it's called in `Model.fit`\u001b[0m\u001b[0;34m\u001b[0m\u001b[0;34m\u001b[0m\u001b[0;34m\u001b[0m\u001b[0m\n\u001b[1;32m   1348\u001b[0m       if (getattr(self, '_fit_frame', None) is not None\n\u001b[0;32m-> 1349\u001b[0;31m           \u001b[0;32mand\u001b[0m \u001b[0mtf_inspect\u001b[0m\u001b[0;34m.\u001b[0m\u001b[0mcurrentframe\u001b[0m\u001b[0;34m(\u001b[0m\u001b[0;34m)\u001b[0m\u001b[0;34m.\u001b[0m\u001b[0mf_back\u001b[0m \u001b[0;32mis\u001b[0m \u001b[0mself\u001b[0m\u001b[0;34m.\u001b[0m\u001b[0m_fit_frame\u001b[0m\u001b[0;34m\u001b[0m\u001b[0;34m\u001b[0m\u001b[0m\n\u001b[0m\u001b[1;32m   1350\u001b[0m           and getattr(self, '_eval_data_handler', None) is not None):\n\u001b[1;32m   1351\u001b[0m         \u001b[0mdata_handler\u001b[0m \u001b[0;34m=\u001b[0m \u001b[0mself\u001b[0m\u001b[0;34m.\u001b[0m\u001b[0m_eval_data_handler\u001b[0m\u001b[0;34m\u001b[0m\u001b[0;34m\u001b[0m\u001b[0m\n",
      "\u001b[0;32m~/.conda/envs/tfEnv_1/lib/python3.7/site-packages/tensorflow/python/keras/utils/tf_inspect.py\u001b[0m in \u001b[0;36mcurrentframe\u001b[0;34m()\u001b[0m\n\u001b[1;32m     93\u001b[0m \u001b[0;32mdef\u001b[0m \u001b[0mcurrentframe\u001b[0m\u001b[0;34m(\u001b[0m\u001b[0;34m)\u001b[0m\u001b[0;34m:\u001b[0m\u001b[0;34m\u001b[0m\u001b[0;34m\u001b[0m\u001b[0m\n\u001b[1;32m     94\u001b[0m   \u001b[0;34m\"\"\"TFDecorator-aware replacement for inspect.currentframe.\"\"\"\u001b[0m\u001b[0;34m\u001b[0m\u001b[0;34m\u001b[0m\u001b[0m\n\u001b[0;32m---> 95\u001b[0;31m   \u001b[0;32mreturn\u001b[0m \u001b[0m_inspect\u001b[0m\u001b[0;34m.\u001b[0m\u001b[0mstack\u001b[0m\u001b[0;34m(\u001b[0m\u001b[0;34m)\u001b[0m\u001b[0;34m[\u001b[0m\u001b[0;36m1\u001b[0m\u001b[0;34m]\u001b[0m\u001b[0;34m[\u001b[0m\u001b[0;36m0\u001b[0m\u001b[0;34m]\u001b[0m\u001b[0;34m\u001b[0m\u001b[0;34m\u001b[0m\u001b[0m\n\u001b[0m\u001b[1;32m     96\u001b[0m \u001b[0;34m\u001b[0m\u001b[0m\n\u001b[1;32m     97\u001b[0m \u001b[0;34m\u001b[0m\u001b[0m\n",
      "\u001b[0;32m~/.conda/envs/tfEnv_1/lib/python3.7/inspect.py\u001b[0m in \u001b[0;36mstack\u001b[0;34m(context)\u001b[0m\n\u001b[1;32m   1511\u001b[0m \u001b[0;32mdef\u001b[0m \u001b[0mstack\u001b[0m\u001b[0;34m(\u001b[0m\u001b[0mcontext\u001b[0m\u001b[0;34m=\u001b[0m\u001b[0;36m1\u001b[0m\u001b[0;34m)\u001b[0m\u001b[0;34m:\u001b[0m\u001b[0;34m\u001b[0m\u001b[0;34m\u001b[0m\u001b[0m\n\u001b[1;32m   1512\u001b[0m     \u001b[0;34m\"\"\"Return a list of records for the stack above the caller's frame.\"\"\"\u001b[0m\u001b[0;34m\u001b[0m\u001b[0;34m\u001b[0m\u001b[0m\n\u001b[0;32m-> 1513\u001b[0;31m     \u001b[0;32mreturn\u001b[0m \u001b[0mgetouterframes\u001b[0m\u001b[0;34m(\u001b[0m\u001b[0msys\u001b[0m\u001b[0;34m.\u001b[0m\u001b[0m_getframe\u001b[0m\u001b[0;34m(\u001b[0m\u001b[0;36m1\u001b[0m\u001b[0;34m)\u001b[0m\u001b[0;34m,\u001b[0m \u001b[0mcontext\u001b[0m\u001b[0;34m)\u001b[0m\u001b[0;34m\u001b[0m\u001b[0;34m\u001b[0m\u001b[0m\n\u001b[0m\u001b[1;32m   1514\u001b[0m \u001b[0;34m\u001b[0m\u001b[0m\n\u001b[1;32m   1515\u001b[0m \u001b[0;32mdef\u001b[0m \u001b[0mtrace\u001b[0m\u001b[0;34m(\u001b[0m\u001b[0mcontext\u001b[0m\u001b[0;34m=\u001b[0m\u001b[0;36m1\u001b[0m\u001b[0;34m)\u001b[0m\u001b[0;34m:\u001b[0m\u001b[0;34m\u001b[0m\u001b[0;34m\u001b[0m\u001b[0m\n",
      "\u001b[0;32m~/.conda/envs/tfEnv_1/lib/python3.7/inspect.py\u001b[0m in \u001b[0;36mgetouterframes\u001b[0;34m(frame, context)\u001b[0m\n\u001b[1;32m   1488\u001b[0m     \u001b[0mframelist\u001b[0m \u001b[0;34m=\u001b[0m \u001b[0;34m[\u001b[0m\u001b[0;34m]\u001b[0m\u001b[0;34m\u001b[0m\u001b[0;34m\u001b[0m\u001b[0m\n\u001b[1;32m   1489\u001b[0m     \u001b[0;32mwhile\u001b[0m \u001b[0mframe\u001b[0m\u001b[0;34m:\u001b[0m\u001b[0;34m\u001b[0m\u001b[0;34m\u001b[0m\u001b[0m\n\u001b[0;32m-> 1490\u001b[0;31m         \u001b[0mframeinfo\u001b[0m \u001b[0;34m=\u001b[0m \u001b[0;34m(\u001b[0m\u001b[0mframe\u001b[0m\u001b[0;34m,\u001b[0m\u001b[0;34m)\u001b[0m \u001b[0;34m+\u001b[0m \u001b[0mgetframeinfo\u001b[0m\u001b[0;34m(\u001b[0m\u001b[0mframe\u001b[0m\u001b[0;34m,\u001b[0m \u001b[0mcontext\u001b[0m\u001b[0;34m)\u001b[0m\u001b[0;34m\u001b[0m\u001b[0;34m\u001b[0m\u001b[0m\n\u001b[0m\u001b[1;32m   1491\u001b[0m         \u001b[0mframelist\u001b[0m\u001b[0;34m.\u001b[0m\u001b[0mappend\u001b[0m\u001b[0;34m(\u001b[0m\u001b[0mFrameInfo\u001b[0m\u001b[0;34m(\u001b[0m\u001b[0;34m*\u001b[0m\u001b[0mframeinfo\u001b[0m\u001b[0;34m)\u001b[0m\u001b[0;34m)\u001b[0m\u001b[0;34m\u001b[0m\u001b[0;34m\u001b[0m\u001b[0m\n\u001b[1;32m   1492\u001b[0m         \u001b[0mframe\u001b[0m \u001b[0;34m=\u001b[0m \u001b[0mframe\u001b[0m\u001b[0;34m.\u001b[0m\u001b[0mf_back\u001b[0m\u001b[0;34m\u001b[0m\u001b[0;34m\u001b[0m\u001b[0m\n",
      "\u001b[0;32m~/.conda/envs/tfEnv_1/lib/python3.7/inspect.py\u001b[0m in \u001b[0;36mgetframeinfo\u001b[0;34m(frame, context)\u001b[0m\n\u001b[1;32m   1462\u001b[0m         \u001b[0mstart\u001b[0m \u001b[0;34m=\u001b[0m \u001b[0mlineno\u001b[0m \u001b[0;34m-\u001b[0m \u001b[0;36m1\u001b[0m \u001b[0;34m-\u001b[0m \u001b[0mcontext\u001b[0m\u001b[0;34m//\u001b[0m\u001b[0;36m2\u001b[0m\u001b[0;34m\u001b[0m\u001b[0;34m\u001b[0m\u001b[0m\n\u001b[1;32m   1463\u001b[0m         \u001b[0;32mtry\u001b[0m\u001b[0;34m:\u001b[0m\u001b[0;34m\u001b[0m\u001b[0;34m\u001b[0m\u001b[0m\n\u001b[0;32m-> 1464\u001b[0;31m             \u001b[0mlines\u001b[0m\u001b[0;34m,\u001b[0m \u001b[0mlnum\u001b[0m \u001b[0;34m=\u001b[0m \u001b[0mfindsource\u001b[0m\u001b[0;34m(\u001b[0m\u001b[0mframe\u001b[0m\u001b[0;34m)\u001b[0m\u001b[0;34m\u001b[0m\u001b[0;34m\u001b[0m\u001b[0m\n\u001b[0m\u001b[1;32m   1465\u001b[0m         \u001b[0;32mexcept\u001b[0m \u001b[0mOSError\u001b[0m\u001b[0;34m:\u001b[0m\u001b[0;34m\u001b[0m\u001b[0;34m\u001b[0m\u001b[0m\n\u001b[1;32m   1466\u001b[0m             \u001b[0mlines\u001b[0m \u001b[0;34m=\u001b[0m \u001b[0mindex\u001b[0m \u001b[0;34m=\u001b[0m \u001b[0;32mNone\u001b[0m\u001b[0;34m\u001b[0m\u001b[0;34m\u001b[0m\u001b[0m\n",
      "\u001b[0;32m~/.conda/envs/tfEnv_1/lib/python3.7/inspect.py\u001b[0m in \u001b[0;36mfindsource\u001b[0;34m(object)\u001b[0m\n\u001b[1;32m    778\u001b[0m             \u001b[0;32mraise\u001b[0m \u001b[0mOSError\u001b[0m\u001b[0;34m(\u001b[0m\u001b[0;34m'source code not available'\u001b[0m\u001b[0;34m)\u001b[0m\u001b[0;34m\u001b[0m\u001b[0;34m\u001b[0m\u001b[0m\n\u001b[1;32m    779\u001b[0m \u001b[0;34m\u001b[0m\u001b[0m\n\u001b[0;32m--> 780\u001b[0;31m     \u001b[0mmodule\u001b[0m \u001b[0;34m=\u001b[0m \u001b[0mgetmodule\u001b[0m\u001b[0;34m(\u001b[0m\u001b[0mobject\u001b[0m\u001b[0;34m,\u001b[0m \u001b[0mfile\u001b[0m\u001b[0;34m)\u001b[0m\u001b[0;34m\u001b[0m\u001b[0;34m\u001b[0m\u001b[0m\n\u001b[0m\u001b[1;32m    781\u001b[0m     \u001b[0;32mif\u001b[0m \u001b[0mmodule\u001b[0m\u001b[0;34m:\u001b[0m\u001b[0;34m\u001b[0m\u001b[0;34m\u001b[0m\u001b[0m\n\u001b[1;32m    782\u001b[0m         \u001b[0mlines\u001b[0m \u001b[0;34m=\u001b[0m \u001b[0mlinecache\u001b[0m\u001b[0;34m.\u001b[0m\u001b[0mgetlines\u001b[0m\u001b[0;34m(\u001b[0m\u001b[0mfile\u001b[0m\u001b[0;34m,\u001b[0m \u001b[0mmodule\u001b[0m\u001b[0;34m.\u001b[0m\u001b[0m__dict__\u001b[0m\u001b[0;34m)\u001b[0m\u001b[0;34m\u001b[0m\u001b[0;34m\u001b[0m\u001b[0m\n",
      "\u001b[0;32m~/.conda/envs/tfEnv_1/lib/python3.7/inspect.py\u001b[0m in \u001b[0;36mgetmodule\u001b[0;34m(object, _filename)\u001b[0m\n\u001b[1;32m    730\u001b[0m     \u001b[0;31m# Update the filename to module name cache and check yet again\u001b[0m\u001b[0;34m\u001b[0m\u001b[0;34m\u001b[0m\u001b[0;34m\u001b[0m\u001b[0m\n\u001b[1;32m    731\u001b[0m     \u001b[0;31m# Copy sys.modules in order to cope with changes while iterating\u001b[0m\u001b[0;34m\u001b[0m\u001b[0;34m\u001b[0m\u001b[0;34m\u001b[0m\u001b[0m\n\u001b[0;32m--> 732\u001b[0;31m     \u001b[0;32mfor\u001b[0m \u001b[0mmodname\u001b[0m\u001b[0;34m,\u001b[0m \u001b[0mmodule\u001b[0m \u001b[0;32min\u001b[0m \u001b[0mlist\u001b[0m\u001b[0;34m(\u001b[0m\u001b[0msys\u001b[0m\u001b[0;34m.\u001b[0m\u001b[0mmodules\u001b[0m\u001b[0;34m.\u001b[0m\u001b[0mitems\u001b[0m\u001b[0;34m(\u001b[0m\u001b[0;34m)\u001b[0m\u001b[0;34m)\u001b[0m\u001b[0;34m:\u001b[0m\u001b[0;34m\u001b[0m\u001b[0;34m\u001b[0m\u001b[0m\n\u001b[0m\u001b[1;32m    733\u001b[0m         \u001b[0;32mif\u001b[0m \u001b[0mismodule\u001b[0m\u001b[0;34m(\u001b[0m\u001b[0mmodule\u001b[0m\u001b[0;34m)\u001b[0m \u001b[0;32mand\u001b[0m \u001b[0mhasattr\u001b[0m\u001b[0;34m(\u001b[0m\u001b[0mmodule\u001b[0m\u001b[0;34m,\u001b[0m \u001b[0;34m'__file__'\u001b[0m\u001b[0;34m)\u001b[0m\u001b[0;34m:\u001b[0m\u001b[0;34m\u001b[0m\u001b[0;34m\u001b[0m\u001b[0m\n\u001b[1;32m    734\u001b[0m             \u001b[0mf\u001b[0m \u001b[0;34m=\u001b[0m \u001b[0mmodule\u001b[0m\u001b[0;34m.\u001b[0m\u001b[0m__file__\u001b[0m\u001b[0;34m\u001b[0m\u001b[0;34m\u001b[0m\u001b[0m\n",
      "\u001b[0;31mKeyboardInterrupt\u001b[0m: "
     ]
    }
   ],
   "source": [
    "epochs = 500\n",
    "batch_size = 10000\n",
    "\n",
    "lr =1e-3 \n",
    "\n",
    "optimizer = tf.keras.optimizers.Adam(learning_rate=lr) \n",
    "ann.compile(loss='mean_squared_error', optimizer=optimizer)\n",
    "\n",
    "start = timer()\n",
    "history = ann.fit(X_train, y_train, validation_data=(X_val, y_val), \n",
    "                    epochs=epochs, batch_size=batch_size, validation_batch_size=batch_size)\n",
    "end = timer()"
   ]
  },
  {
   "cell_type": "code",
   "execution_count": 88,
   "metadata": {},
   "outputs": [],
   "source": [
    "# still need to find a good way to determine feature importance using NN\n",
    "# feature_importances['NN_CPU'] =np.mean(abs(ann.weights[0]), axis=1)"
   ]
  },
  {
   "cell_type": "code",
   "execution_count": 89,
   "metadata": {
    "scrolled": true
   },
   "outputs": [
    {
     "data": {
      "text/html": [
       "<div>\n",
       "<style scoped>\n",
       "    .dataframe tbody tr th:only-of-type {\n",
       "        vertical-align: middle;\n",
       "    }\n",
       "\n",
       "    .dataframe tbody tr th {\n",
       "        vertical-align: top;\n",
       "    }\n",
       "\n",
       "    .dataframe thead th {\n",
       "        text-align: right;\n",
       "    }\n",
       "</style>\n",
       "<table border=\"1\" class=\"dataframe\">\n",
       "  <thead>\n",
       "    <tr style=\"text-align: right;\">\n",
       "      <th></th>\n",
       "      <th>LinReg</th>\n",
       "      <th>SVR</th>\n",
       "      <th>RandForest</th>\n",
       "      <th>XGBoost</th>\n",
       "      <th>NN_CPU</th>\n",
       "    </tr>\n",
       "  </thead>\n",
       "  <tbody>\n",
       "    <tr>\n",
       "      <th>Train Loss</th>\n",
       "      <td>12.491424</td>\n",
       "      <td>12.967476</td>\n",
       "      <td>4.225836</td>\n",
       "      <td>10.406222</td>\n",
       "      <td>26.102046</td>\n",
       "    </tr>\n",
       "    <tr>\n",
       "      <th>Val Loss</th>\n",
       "      <td>13.421796</td>\n",
       "      <td>13.902617</td>\n",
       "      <td>11.919250</td>\n",
       "      <td>12.486538</td>\n",
       "      <td>26.523246</td>\n",
       "    </tr>\n",
       "    <tr>\n",
       "      <th>Test Loss</th>\n",
       "      <td>13.389279</td>\n",
       "      <td>13.994934</td>\n",
       "      <td>11.438496</td>\n",
       "      <td>11.926671</td>\n",
       "      <td>27.853259</td>\n",
       "    </tr>\n",
       "    <tr>\n",
       "      <th>y_mean</th>\n",
       "      <td>22.527869</td>\n",
       "      <td>22.527869</td>\n",
       "      <td>22.527869</td>\n",
       "      <td>22.527869</td>\n",
       "      <td>22.527869</td>\n",
       "    </tr>\n",
       "    <tr>\n",
       "      <th>Time (s)</th>\n",
       "      <td>0.007046</td>\n",
       "      <td>6.055850</td>\n",
       "      <td>5.559251</td>\n",
       "      <td>0.168064</td>\n",
       "      <td>-2.992497</td>\n",
       "    </tr>\n",
       "  </tbody>\n",
       "</table>\n",
       "</div>"
      ],
      "text/plain": [
       "               LinReg        SVR  RandForest    XGBoost     NN_CPU\n",
       "Train Loss  12.491424  12.967476    4.225836  10.406222  26.102046\n",
       "Val Loss    13.421796  13.902617   11.919250  12.486538  26.523246\n",
       "Test Loss   13.389279  13.994934   11.438496  11.926671  27.853259\n",
       "y_mean      22.527869  22.527869   22.527869  22.527869  22.527869\n",
       "Time (s)     0.007046   6.055850    5.559251   0.168064  -2.992497"
      ]
     },
     "execution_count": 89,
     "metadata": {},
     "output_type": "execute_result"
    }
   ],
   "source": [
    "from sklearn.metrics import mean_squared_error\n",
    "\n",
    "rmse_train = mean_squared_error(y_train, ann.predict(X_train, batch_size=batch_size))**0.5\n",
    "rmse_val = mean_squared_error(y_val, ann.predict(X_val, batch_size=batch_size))**0.5\n",
    "rmse_test = mean_squared_error(y_test, ann.predict(X_test, batch_size=batch_size))**0.5\n",
    "error['NN_CPU'] = [rmse_train, rmse_val, rmse_test, y_train.mean(), end-start]\n",
    "error"
   ]
  },
  {
   "cell_type": "markdown",
   "metadata": {},
   "source": [
    "### Plotting best results (NN)"
   ]
  },
  {
   "cell_type": "code",
   "execution_count": 90,
   "metadata": {},
   "outputs": [
    {
     "data": {
      "image/png": "[encoded data removed]",
      "text/plain": [
       "<Figure size 1500x500 with 2 Axes>"
      ]
     },
     "metadata": {
      "needs_background": "light"
     },
     "output_type": "display_data"
    }
   ],
   "source": [
    "y_pred = ann.predict(X_test, batch_size=batch_size)\n",
    "rel_res = (y_test.values-y_pred[:,0])/y_test.values\n",
    "\n",
    "plot_idx = np.random.choice(range(len(y_test)), size=len(y_test)//10, replace=False)\n",
    "\n",
    "fig, ax = plt.subplots(ncols=2, nrows=1, figsize=(15,5), dpi=100)\n",
    "\n",
    "ax[0].scatter(y_test.values[plot_idx], y_pred[:,0][plot_idx], alpha=0.05);\n",
    "ax[0].set_xlabel('$y_{test}$')\n",
    "ax[0].set_ylabel('$y_{pred}$')\n",
    "ax[0].set_xlim(0,100)\n",
    "ax[0].set_ylim(0,100)\n",
    "ax[0].plot(range(-10,130), range(-10,130), '--k', lw=2);\n",
    "\n",
    "ax[1].scatter(np.arange(len(rel_res))[plot_idx], rel_res[plot_idx], alpha=0.05);\n",
    "ax[1].set_xlabel('$i$')\n",
    "ax[1].set_ylabel('$|y_{test}^i-y_{pred}^i|/y_{test}^i$');\n",
    "ax[1].plot(range(len(rel_res)), 0*np.arange(len(rel_res)), '--k', lw=2);\n",
    "ax[1].set_ylim(-50,50);\n",
    "\n",
    "# sns.kdeplot(y_test.values-y_pred[:,0], ax=ax[1], shade=True)\n",
    "# ax[1].set_xlim(-50,50);"
   ]
  },
  {
   "cell_type": "markdown",
   "metadata": {},
   "source": [
    "## Feature Importance"
   ]
  },
  {
   "cell_type": "code",
   "execution_count": 91,
   "metadata": {},
   "outputs": [],
   "source": [
    "df_corr = train_dataset.corr()\n",
    "feature_importances['Duration_Corr'] = df_corr['Duration'].abs().sort_values()[:-1]"
   ]
  },
  {
   "cell_type": "code",
   "execution_count": 105,
   "metadata": {
    "scrolled": false
   },
   "outputs": [
    {
     "data": {
      "image/png": "[encoded data removed]",
      "text/plain": [
       "<Figure size 2000x400 with 5 Axes>"
      ]
     },
     "metadata": {
      "needs_background": "light"
     },
     "output_type": "display_data"
    }
   ],
   "source": [
    "feature_importances = feature_importances.sort_values('Duration_Corr')\n",
    "\n",
    "fig, ax = plt.subplots(ncols=5, nrows=1, figsize=(20,4), dpi=100, sharey=True)\n",
    "\n",
    "sns.barplot(y=feature_importances.index, x= feature_importances.LinReg, ax=ax[0])\n",
    "sns.barplot(y=feature_importances.index, x= feature_importances.SVR, ax=ax[1])\n",
    "sns.barplot(y=feature_importances.index, x= feature_importances.RandForest, ax=ax[2])\n",
    "sns.barplot(y=feature_importances.index, x= feature_importances.XGBoost, ax=ax[3])\n",
    "sns.barplot(y=feature_importances.index, x= feature_importances.Duration_Corr, ax=ax[4]);"
   ]
  },
  {
   "cell_type": "markdown",
   "metadata": {},
   "source": [
    "### Hyperparameters Tuning"
   ]
  },
  {
   "cell_type": "code",
   "execution_count": null,
   "metadata": {},
   "outputs": [],
   "source": []
  }
 ],
 "metadata": {
  "interpreter": {
   "hash": "c3b1f0aa73ce6a53838a2507dee39748d09bb5596497487604e75b434ade7b74"
  },
  "kernelspec": {
   "display_name": "Python 3",
   "language": "python",
   "name": "python3"
  },
  "language_info": {
   "codemirror_mode": {
    "name": "ipython",
    "version": 3
   },
   "file_extension": ".py",
   "mimetype": "text/x-python",
   "name": "python",
   "nbconvert_exporter": "python",
   "pygments_lexer": "ipython3",
   "version": "3.7.6"
  }
 },
 "nbformat": 4,
 "nbformat_minor": 4
}
