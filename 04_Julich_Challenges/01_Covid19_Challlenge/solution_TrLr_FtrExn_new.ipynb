{
 "cells": [
  {
   "cell_type": "markdown",
   "source": [
    "# The COVIDNetX challenge"
   ],
   "metadata": {}
  },
  {
   "cell_type": "markdown",
   "source": [
    "<img src=\"https://www.psycharchives.org/retrieve/096175aa-f7f2-4970-989d-d934c30b5551\" alt=\"drawing\" width=\"400\"/>\n",
    "\n",
    "The following is a classification challenge using the [COVID-X dataset](https://github.com/lindawangg/COVID-Net/blob/master/docs/COVIDx.md).\n",
    "The goal is to predict whether a person has COVID-19 or not based on chest X-RAY images.\n",
    "\n",
    "There are two different categories: `positive` and `negative`. `positive` means a person has COVID-19, `negative` means a person\n",
    "has not COVID-19.\n",
    "\n",
    "The metric we use is F1 (https://en.wikipedia.org/wiki/F1_score). The goal is to maximize F1.\n",
    "\n",
    "The data contains images with their associated labels."
   ],
   "metadata": {}
  },
  {
   "cell_type": "code",
   "execution_count": 1,
   "source": [
    "import numpy as np\n",
    "import pandas as pd\n",
    "import matplotlib.pyplot as plt\n",
    "import matplotlib.image as mpimg\n",
    "import seaborn as sns\n",
    "from tqdm import tqdm\n",
    "import pickle\n",
    "\n",
    "RANDOM_STATE = 42"
   ],
   "outputs": [],
   "metadata": {}
  },
  {
   "cell_type": "markdown",
   "source": [
    "## Data Preprocessing"
   ],
   "metadata": {}
  },
  {
   "cell_type": "code",
   "execution_count": 2,
   "source": [
    "data_dir = 'data/'\n",
    "# data_dir = 'data_subset/'\n",
    "\n",
    "df = pd.read_csv(data_dir+'train.csv')"
   ],
   "outputs": [],
   "metadata": {}
  },
  {
   "cell_type": "code",
   "execution_count": 3,
   "source": [
    "from sklearn.model_selection import train_test_split\n",
    "\n",
    "train_df, valid_df = train_test_split(df, test_size=0.2, random_state=RANDOM_STATE)\n",
    "valid_df, test_df = train_test_split(valid_df, test_size=0.5, random_state=RANDOM_STATE)"
   ],
   "outputs": [],
   "metadata": {}
  },
  {
   "cell_type": "code",
   "execution_count": 4,
   "source": [
    "train_df_pos = train_df[train_df.label=='positive']\n",
    "train_df_neg = train_df[train_df.label=='negative']"
   ],
   "outputs": [],
   "metadata": {}
  },
  {
   "cell_type": "markdown",
   "source": [
    "## ML Classifier with (base_model) VGG16 as feauture extractor"
   ],
   "metadata": {}
  },
  {
   "cell_type": "markdown",
   "source": [
    "### Feature extractor model and function"
   ],
   "metadata": {}
  },
  {
   "cell_type": "code",
   "execution_count": 7,
   "source": [
    "from tensorflow.keras.models import Sequential\n",
    "from tensorflow.keras.layers import MaxPool2D, Flatten, Dense, Conv2D, GlobalAveragePooling2D\n",
    "from tensorflow.keras.applications import VGG16, ResNet50\n",
    "\n",
    "img_size = 256\n",
    "\n",
    "conv_base = VGG16(weights='imagenet', include_top=False, input_shape=(img_size, img_size, 3))\n",
    "# conv_base = ResNet50(weights='imagenet', include_top=False, input_shape=(img_size, img_size, 3))\n",
    "conv_base.trainable = False\n",
    "\n",
    "# Feature extractor model\n",
    "feature_exactor_model = Sequential()\n",
    "feature_exactor_model.add(conv_base)\n",
    "# feature_exactor_model.add(GlobalAveragePooling2D())\n",
    "feature_exactor_model.add(Flatten())\n",
    "\n",
    "print(feature_exactor_model.summary())\n",
    "\n",
    "# Feature extractor function\n",
    "def feature_exactor(data_generator):\n",
    "    X_data , y_data = [], []\n",
    "\n",
    "    for _ in tqdm(range(len(data_generator))):\n",
    "        X, y = next(data_generator)        \n",
    "        X_data.append(feature_exactor_model(X))\n",
    "        y_data.append(y)\n",
    "\n",
    "    return np.concatenate(X_data), np.concatenate(y_data)"
   ],
   "outputs": [
    {
     "output_type": "stream",
     "name": "stdout",
     "text": [
      "Model: \"sequential_1\"\n",
      "_________________________________________________________________\n",
      "Layer (type)                 Output Shape              Param #   \n",
      "=================================================================\n",
      "vgg16 (Functional)           (None, 8, 8, 512)         14714688  \n",
      "_________________________________________________________________\n",
      "flatten_1 (Flatten)          (None, 32768)             0         \n",
      "=================================================================\n",
      "Total params: 14,714,688\n",
      "Trainable params: 0\n",
      "Non-trainable params: 14,714,688\n",
      "_________________________________________________________________\n",
      "None\n"
     ]
    }
   ],
   "metadata": {}
  },
  {
   "cell_type": "markdown",
   "source": [
    "### Data generator for classifier"
   ],
   "metadata": {}
  },
  {
   "cell_type": "code",
   "execution_count": 8,
   "source": [
    "from tensorflow.keras.preprocessing.image import ImageDataGenerator\n",
    "\n",
    "batch_size = 100\n",
    "dataAug = False\n",
    "\n",
    "if dataAug:\n",
    "    datagen = ImageDataGenerator(\n",
    "        rescale=1./255,\n",
    "        shear_range=0.2,\n",
    "        zoom_range=0.1,\n",
    "        horizontal_flip=True)\n",
    "else:\n",
    "    datagen = ImageDataGenerator(\n",
    "        rescale=1./255)\n",
    "datagen_rescale = ImageDataGenerator(rescale=1./255)\n",
    "\n",
    "train_pos_datagen = datagen.flow_from_dataframe(\n",
    "    train_df_pos,\n",
    "    data_dir+'train/', \n",
    "    target_size=(img_size,img_size), \n",
    "    x_col='image', \n",
    "    y_col='label', \n",
    "    batch_size=batch_size, \n",
    "    seed=RANDOM_STATE,\n",
    "    class_mode='categorical',\n",
    "    shuffle=True)\n",
    "\n",
    "train_neg_datagen = datagen_rescale.flow_from_dataframe(\n",
    "    train_df_neg, \n",
    "    data_dir+'train/', \n",
    "    target_size=(img_size,img_size), \n",
    "    x_col='image', \n",
    "    y_col='label', \n",
    "    batch_size=batch_size, \n",
    "    seed=RANDOM_STATE,\n",
    "    class_mode='categorical',\n",
    "    shuffle=True)\n",
    "\n",
    "valid_datagen = datagen_rescale.flow_from_dataframe(\n",
    "    valid_df, \n",
    "    data_dir+'train/', \n",
    "    target_size=(img_size,img_size), \n",
    "    x_col='image', \n",
    "    y_col='label', \n",
    "    batch_size=batch_size, \n",
    "    seed=RANDOM_STATE,\n",
    "    class_mode='binary',\n",
    "    shuffle=True)\n",
    "\n",
    "test_datagen = datagen_rescale.flow_from_dataframe(\n",
    "    test_df, \n",
    "    data_dir+'train/', \n",
    "    target_size=(img_size,img_size), \n",
    "    x_col='image', \n",
    "    y_col='label', \n",
    "    batch_size=batch_size,\n",
    "    shuffle=False,\n",
    "    seed=RANDOM_STATE,\n",
    "    class_mode='binary',\n",
    "    )\n",
    "\n",
    "valid_datagen.class_indices, test_datagen.class_indices"
   ],
   "outputs": [
    {
     "output_type": "stream",
     "name": "stdout",
     "text": [
      "Found 1175 validated image filenames belonging to 1 classes.\n",
      "Found 9958 validated image filenames belonging to 1 classes.\n",
      "Found 1392 validated image filenames belonging to 2 classes.\n",
      "Found 1392 validated image filenames belonging to 2 classes.\n"
     ]
    },
    {
     "output_type": "execute_result",
     "data": {
      "text/plain": [
       "({'negative': 0, 'positive': 1}, {'negative': 0, 'positive': 1})"
      ]
     },
     "metadata": {},
     "execution_count": 8
    }
   ],
   "metadata": {}
  },
  {
   "cell_type": "markdown",
   "source": [
    "### Feature extraction"
   ],
   "metadata": {}
  },
  {
   "cell_type": "code",
   "execution_count": 9,
   "source": [
    "%%time\n",
    "processData = True\n",
    "\n",
    "if processData:\n",
    "    X_train_neg, _ = feature_exactor(train_neg_datagen)\n",
    "    X_train_pos, _ = feature_exactor(train_pos_datagen)\n",
    "\n",
    "    if dataAug:\n",
    "        # Balancing the data by augmenting\n",
    "        # only positive covid cases\n",
    "        for _ in range(9):\n",
    "            X, y = feature_exactor(train_pos_datagen)\n",
    "            X_train_pos = np.vstack((X_train_pos, X))\n",
    "\n",
    "    X_train = np.vstack((X_train_pos, X_train_neg))\n",
    "    y_train = np.concatenate((np.ones(len(X_train_pos)), np.zeros(len(X_train_neg))))\n",
    "\n",
    "    X_valid, y_valid = feature_exactor(valid_datagen)\n",
    "    X_test, y_test = feature_exactor(test_datagen)\n",
    "\n",
    "    if dataAug:\n",
    "        pickle.dump([X_train, y_train, X_valid, y_valid, X_test, y_test], open('data/featExt_w_DA.pkl', 'wb'))\n",
    "    else:\n",
    "        pickle.dump([X_train, y_train, X_valid, y_valid, X_test, y_test], open('data/featExt_wo_DA.pkl', 'wb'))\n",
    "\n",
    "else:\n",
    "    if dataAug:\n",
    "        X_train, y_train, X_valid, y_valid, X_test, y_test = pickle.load(open('data/featExt_w_DA.pkl', 'rb'))\n",
    "    else:\n",
    "        X_train, y_train, X_valid, y_valid, X_test, y_test = pickle.load(open('data/featExt_wo_DA.pkl', 'rb'))\n",
    "\n",
    "sum(y_train==1)/len(y_train), X_train.shape, X_train_neg.shape, X_valid.shape, X_test.shape"
   ],
   "outputs": [
    {
     "output_type": "stream",
     "name": "stderr",
     "text": [
      "  0%|          | 0/100 [00:00<?, ?it/s]2021-10-12 19:54:50.631129: I tensorflow/stream_executor/platform/default/dso_loader.cc:49] Successfully opened dynamic library libcudnn.so.7\n",
      "2021-10-12 19:54:52.438413: W tensorflow/stream_executor/gpu/asm_compiler.cc:63] Running ptxas --version returned 256\n",
      "2021-10-12 19:54:52.491287: W tensorflow/stream_executor/gpu/redzone_allocator.cc:314] Internal: ptxas exited with non-zero error code 256, output: \n",
      "Relying on driver to perform ptx compilation. \n",
      "Modify $PATH to customize ptxas location.\n",
      "This message will be only logged once.\n",
      "2021-10-12 19:54:53.383685: I tensorflow/stream_executor/platform/default/dso_loader.cc:49] Successfully opened dynamic library libcublas.so.10\n",
      "100%|██████████| 100/100 [07:05<00:00,  4.25s/it]\n",
      "100%|██████████| 12/12 [01:01<00:00,  5.12s/it]\n",
      "100%|██████████| 14/14 [01:21<00:00,  5.85s/it]\n",
      "100%|██████████| 14/14 [00:57<00:00,  4.12s/it]\n"
     ]
    },
    {
     "output_type": "stream",
     "name": "stdout",
     "text": [
      "CPU times: user 4min 2s, sys: 1min 10s, total: 5min 12s\n",
      "Wall time: 10min 40s\n"
     ]
    },
    {
     "output_type": "execute_result",
     "data": {
      "text/plain": [
       "(0.10554208209826642,\n",
       " (11133, 32768),\n",
       " (9958, 32768),\n",
       " (1392, 32768),\n",
       " (1392, 32768))"
      ]
     },
     "metadata": {},
     "execution_count": 9
    }
   ],
   "metadata": {}
  },
  {
   "cell_type": "markdown",
   "source": [
    "### Helper Function"
   ],
   "metadata": {}
  },
  {
   "cell_type": "code",
   "execution_count": 10,
   "source": [
    "def ml_metrics(ml_model):\n",
    "    \n",
    "    from sklearn.metrics import confusion_matrix, classification_report\n",
    "\n",
    "    print(\"############################## TRAIN ############################## \\n\")\n",
    "    y_pred = ml_model.predict(X_train)\n",
    "    print(classification_report(y_train, y_pred))\n",
    "\n",
    "    print(\"############################## VALID ############################## \\n\")\n",
    "    y_pred = ml_model.predict(X_valid)\n",
    "    print(classification_report(y_valid, y_pred))\n",
    "\n",
    "    print(\"############################## TEST ############################## \\n\")\n",
    "    y_pred = ml_model.predict(X_test)\n",
    "    print(classification_report(y_test, y_pred))\n",
    "    # cm = confusion_matrix(y_test, y_pred)\n",
    "    # sns.heatmap(cm, cmap='plasma', annot=True);"
   ],
   "outputs": [],
   "metadata": {}
  },
  {
   "cell_type": "markdown",
   "source": [
    "### Logistic Regression w/o Data augmentation"
   ],
   "metadata": {}
  },
  {
   "cell_type": "code",
   "execution_count": 11,
   "source": [
    "%%time\n",
    "from sklearn.linear_model import LogisticRegression\n",
    "logReg = LogisticRegression(max_iter=5000, class_weight=\"balanced\")\n",
    "logReg.fit(X_train, y_train)\n",
    "pickle.dump(logReg, open('models/featExtr_logReg_wo_DA.pkl', 'wb'))"
   ],
   "outputs": [
    {
     "output_type": "stream",
     "name": "stdout",
     "text": [
      "CPU times: user 11min 10s, sys: 1min, total: 12min 10s\n",
      "Wall time: 12min 10s\n"
     ]
    }
   ],
   "metadata": {}
  },
  {
   "cell_type": "code",
   "execution_count": 14,
   "source": [
    "ml_metrics(pickle.load(open('models/featExtr_logReg_wo_DA.pkl', 'rb')))"
   ],
   "outputs": [
    {
     "output_type": "stream",
     "name": "stdout",
     "text": [
      "############################## TRAIN ############################## \n",
      "\n",
      "              precision    recall  f1-score   support\n",
      "\n",
      "         0.0       1.00      1.00      1.00      9958\n",
      "         1.0       1.00      1.00      1.00      1175\n",
      "\n",
      "    accuracy                           1.00     11133\n",
      "   macro avg       1.00      1.00      1.00     11133\n",
      "weighted avg       1.00      1.00      1.00     11133\n",
      "\n",
      "############################## VALID ############################## \n",
      "\n",
      "              precision    recall  f1-score   support\n",
      "\n",
      "         0.0       0.99      0.99      0.99      1213\n",
      "         1.0       0.92      0.92      0.92       179\n",
      "\n",
      "    accuracy                           0.98      1392\n",
      "   macro avg       0.95      0.95      0.95      1392\n",
      "weighted avg       0.98      0.98      0.98      1392\n",
      "\n",
      "############################## TEST ############################## \n",
      "\n",
      "              precision    recall  f1-score   support\n",
      "\n",
      "         0.0       0.99      0.98      0.99      1236\n",
      "         1.0       0.87      0.93      0.90       156\n",
      "\n",
      "    accuracy                           0.98      1392\n",
      "   macro avg       0.93      0.96      0.94      1392\n",
      "weighted avg       0.98      0.98      0.98      1392\n",
      "\n"
     ]
    }
   ],
   "metadata": {}
  },
  {
   "cell_type": "markdown",
   "source": [
    "### Logistic Regression w/ Data augmentation"
   ],
   "metadata": {}
  },
  {
   "cell_type": "code",
   "execution_count": 101,
   "source": [
    "%%time\n",
    "from sklearn.linear_model import LogisticRegression\n",
    "logReg = LogisticRegression(max_iter=5000, class_weight=\"balanced\")\n",
    "logReg.fit(X_train, y_train)"
   ],
   "outputs": [
    {
     "output_type": "stream",
     "name": "stdout",
     "text": [
      "CPU times: user 15min 2s, sys: 18.2 s, total: 15min 21s\n",
      "Wall time: 15min 20s\n"
     ]
    },
    {
     "output_type": "execute_result",
     "data": {
      "text/plain": [
       "LogisticRegression(class_weight='balanced', max_iter=5000)"
      ]
     },
     "metadata": {},
     "execution_count": 101
    }
   ],
   "metadata": {}
  },
  {
   "cell_type": "code",
   "execution_count": 102,
   "source": [
    "ml_metrics(logReg)"
   ],
   "outputs": [
    {
     "output_type": "stream",
     "name": "stdout",
     "text": [
      "############################## TRAIN ############################## \n",
      "\n"
     ]
    },
    {
     "output_type": "stream",
     "name": "stdout",
     "text": [
      "              precision    recall  f1-score   support\n",
      "\n",
      "         0.0       1.00      1.00      1.00      9958\n",
      "         1.0       1.00      1.00      1.00     11750\n",
      "\n",
      "    accuracy                           1.00     21708\n",
      "   macro avg       1.00      1.00      1.00     21708\n",
      "weighted avg       1.00      1.00      1.00     21708\n",
      "\n",
      "############################## VALID ############################## \n",
      "\n"
     ]
    },
    {
     "output_type": "stream",
     "name": "stdout",
     "text": [
      "              precision    recall  f1-score   support\n",
      "\n",
      "         0.0       0.97      1.00      0.98      1213\n",
      "         1.0       0.96      0.77      0.85       179\n",
      "\n",
      "    accuracy                           0.97      1392\n",
      "   macro avg       0.96      0.88      0.92      1392\n",
      "weighted avg       0.97      0.97      0.96      1392\n",
      "\n",
      "############################## TEST ############################## \n",
      "\n"
     ]
    },
    {
     "output_type": "stream",
     "name": "stdout",
     "text": [
      "              precision    recall  f1-score   support\n",
      "\n",
      "         0.0       0.98      0.99      0.98      1236\n",
      "         1.0       0.89      0.80      0.84       156\n",
      "\n",
      "    accuracy                           0.97      1392\n",
      "   macro avg       0.93      0.89      0.91      1392\n",
      "weighted avg       0.97      0.97      0.97      1392\n",
      "\n",
      "############################## TRAIN ############################## \n",
      "\n",
      "              precision    recall  f1-score   support\n",
      "\n",
      "         0.0       1.00      1.00      1.00      9958\n",
      "         1.0       1.00      1.00      1.00      1175\n",
      "\n",
      "    accuracy                           1.00     11133\n",
      "   macro avg       1.00      1.00      1.00     11133\n",
      "weighted avg       1.00      1.00      1.00     11133\n",
      "\n",
      "############################## VALID ############################## \n",
      "\n",
      "              precision    recall  f1-score   support\n",
      "\n",
      "         0.0       0.99      0.98      0.99      1213\n",
      "         1.0       0.90      0.94      0.92       179\n",
      "\n",
      "    accuracy                           0.98      1392\n",
      "   macro avg       0.95      0.96      0.95      1392\n",
      "weighted avg       0.98      0.98      0.98      1392\n",
      "\n",
      "############################## TEST ############################## \n",
      "\n",
      "              precision    recall  f1-score   support\n",
      "\n",
      "         0.0       0.99      0.98      0.99      1236\n",
      "         1.0       0.87      0.92      0.90       156\n",
      "\n",
      "    accuracy                           0.98      1392\n",
      "   macro avg       0.93      0.95      0.94      1392\n",
      "weighted avg       0.98      0.98      0.98      1392\n",
      "\n"
     ]
    }
   ],
   "metadata": {}
  },
  {
   "cell_type": "markdown",
   "source": [
    "### Random Forest w/o Data augmentation"
   ],
   "metadata": {}
  },
  {
   "cell_type": "code",
   "execution_count": 114,
   "source": [
    "%%time\n",
    "from sklearn.ensemble import RandomForestClassifier\n",
    "randForest = RandomForestClassifier(n_estimators=100, random_state=RANDOM_STATE, n_jobs=-1, verbose=1)     \n",
    "randForest.fit(X_train, y_train)"
   ],
   "outputs": [
    {
     "output_type": "stream",
     "name": "stderr",
     "text": [
      "[Parallel(n_jobs=-1)]: Using backend ThreadingBackend with 16 concurrent workers.\n",
      "[Parallel(n_jobs=-1)]: Done  18 tasks      | elapsed:    8.3s\n"
     ]
    },
    {
     "output_type": "stream",
     "name": "stdout",
     "text": [
      "CPU times: user 3min 48s, sys: 6.92 s, total: 3min 55s\n",
      "Wall time: 33.2 s\n"
     ]
    },
    {
     "output_type": "stream",
     "name": "stderr",
     "text": [
      "[Parallel(n_jobs=-1)]: Done 100 out of 100 | elapsed:   32.8s finished\n"
     ]
    },
    {
     "output_type": "execute_result",
     "data": {
      "text/plain": [
       "RandomForestClassifier(n_jobs=-1, random_state=42, verbose=1)"
      ]
     },
     "metadata": {},
     "execution_count": 114
    }
   ],
   "metadata": {}
  },
  {
   "cell_type": "code",
   "execution_count": 115,
   "source": [
    "ml_metrics(randForest)"
   ],
   "outputs": [
    {
     "output_type": "stream",
     "name": "stdout",
     "text": [
      "############################## TRAIN ############################## \n",
      "\n"
     ]
    },
    {
     "output_type": "stream",
     "name": "stderr",
     "text": [
      "[Parallel(n_jobs=16)]: Using backend ThreadingBackend with 16 concurrent workers.\n",
      "[Parallel(n_jobs=16)]: Done  18 tasks      | elapsed:    0.2s\n",
      "[Parallel(n_jobs=16)]: Done 100 out of 100 | elapsed:    0.3s finished\n",
      "[Parallel(n_jobs=16)]: Using backend ThreadingBackend with 16 concurrent workers.\n"
     ]
    },
    {
     "output_type": "stream",
     "name": "stdout",
     "text": [
      "              precision    recall  f1-score   support\n",
      "\n",
      "         0.0       1.00      1.00      1.00      9958\n",
      "         1.0       1.00      1.00      1.00      1175\n",
      "\n",
      "    accuracy                           1.00     11133\n",
      "   macro avg       1.00      1.00      1.00     11133\n",
      "weighted avg       1.00      1.00      1.00     11133\n",
      "\n",
      "############################## VALID ############################## \n",
      "\n"
     ]
    },
    {
     "output_type": "stream",
     "name": "stderr",
     "text": [
      "[Parallel(n_jobs=16)]: Done  18 tasks      | elapsed:    0.0s\n",
      "[Parallel(n_jobs=16)]: Done 100 out of 100 | elapsed:    0.1s finished\n"
     ]
    },
    {
     "output_type": "stream",
     "name": "stdout",
     "text": [
      "              precision    recall  f1-score   support\n",
      "\n",
      "         0.0       0.93      1.00      0.96      1213\n",
      "         1.0       0.97      0.52      0.68       179\n",
      "\n",
      "    accuracy                           0.94      1392\n",
      "   macro avg       0.95      0.76      0.82      1392\n",
      "weighted avg       0.94      0.94      0.93      1392\n",
      "\n",
      "############################## TEST ############################## \n",
      "\n",
      "              precision    recall  f1-score   support\n",
      "\n",
      "         0.0       0.94      1.00      0.97      1236\n",
      "         1.0       0.95      0.54      0.69       156\n",
      "\n",
      "    accuracy                           0.95      1392\n",
      "   macro avg       0.95      0.77      0.83      1392\n",
      "weighted avg       0.95      0.95      0.94      1392\n",
      "\n"
     ]
    },
    {
     "output_type": "stream",
     "name": "stderr",
     "text": [
      "[Parallel(n_jobs=16)]: Using backend ThreadingBackend with 16 concurrent workers.\n",
      "[Parallel(n_jobs=16)]: Done  18 tasks      | elapsed:    0.0s\n",
      "[Parallel(n_jobs=16)]: Done 100 out of 100 | elapsed:    0.1s finished\n"
     ]
    }
   ],
   "metadata": {}
  },
  {
   "cell_type": "markdown",
   "source": [
    "### Random Forest w/ Data augmentation"
   ],
   "metadata": {}
  },
  {
   "cell_type": "code",
   "execution_count": 103,
   "source": [
    "%%time\n",
    "from sklearn.ensemble import RandomForestClassifier\n",
    "randForest = RandomForestClassifier(n_estimators=100, random_state=RANDOM_STATE, n_jobs=-1, \n",
    "                                    verbose=1, class_weight='balanced')     \n",
    "randForest.fit(X_train, y_train)"
   ],
   "outputs": [
    {
     "output_type": "stream",
     "name": "stderr",
     "text": [
      "[Parallel(n_jobs=-1)]: Using backend ThreadingBackend with 16 concurrent workers.\n",
      "[Parallel(n_jobs=-1)]: Done  18 tasks      | elapsed:    6.1s\n"
     ]
    },
    {
     "output_type": "stream",
     "name": "stdout",
     "text": [
      "CPU times: user 4min 39s, sys: 11.2 s, total: 4min 51s\n",
      "Wall time: 21.3 s\n"
     ]
    },
    {
     "output_type": "stream",
     "name": "stderr",
     "text": [
      "[Parallel(n_jobs=-1)]: Done 100 out of 100 | elapsed:   20.6s finished\n"
     ]
    },
    {
     "output_type": "execute_result",
     "data": {
      "text/plain": [
       "RandomForestClassifier(class_weight='balanced', n_jobs=-1, random_state=42,\n",
       "                       verbose=1)"
      ]
     },
     "metadata": {},
     "execution_count": 103
    }
   ],
   "metadata": {}
  },
  {
   "cell_type": "code",
   "execution_count": 104,
   "source": [
    "ml_metrics(randForest)"
   ],
   "outputs": [
    {
     "output_type": "stream",
     "name": "stdout",
     "text": [
      "############################## TRAIN ############################## \n",
      "\n"
     ]
    },
    {
     "output_type": "stream",
     "name": "stderr",
     "text": [
      "[Parallel(n_jobs=16)]: Using backend ThreadingBackend with 16 concurrent workers.\n",
      "[Parallel(n_jobs=16)]: Done  18 tasks      | elapsed:    0.1s\n",
      "[Parallel(n_jobs=16)]: Done 100 out of 100 | elapsed:    0.2s finished\n"
     ]
    },
    {
     "output_type": "stream",
     "name": "stdout",
     "text": [
      "              precision    recall  f1-score   support\n",
      "\n",
      "         0.0       1.00      1.00      1.00      9958\n",
      "         1.0       1.00      1.00      1.00     11750\n",
      "\n",
      "    accuracy                           1.00     21708\n",
      "   macro avg       1.00      1.00      1.00     21708\n",
      "weighted avg       1.00      1.00      1.00     21708\n",
      "\n",
      "############################## VALID ############################## \n",
      "\n",
      "              precision    recall  f1-score   support\n",
      "\n",
      "         0.0       0.98      0.96      0.97      1213\n",
      "         1.0       0.78      0.87      0.82       179\n",
      "\n",
      "    accuracy                           0.95      1392\n",
      "   macro avg       0.88      0.92      0.90      1392\n",
      "weighted avg       0.95      0.95      0.95      1392\n",
      "\n",
      "############################## TEST ############################## \n",
      "\n"
     ]
    },
    {
     "output_type": "stream",
     "name": "stderr",
     "text": [
      "[Parallel(n_jobs=16)]: Using backend ThreadingBackend with 16 concurrent workers.\n",
      "[Parallel(n_jobs=16)]: Done  18 tasks      | elapsed:    0.0s\n",
      "[Parallel(n_jobs=16)]: Done 100 out of 100 | elapsed:    0.1s finished\n",
      "[Parallel(n_jobs=16)]: Using backend ThreadingBackend with 16 concurrent workers.\n",
      "[Parallel(n_jobs=16)]: Done  18 tasks      | elapsed:    0.0s\n",
      "[Parallel(n_jobs=16)]: Done 100 out of 100 | elapsed:    0.0s finished\n"
     ]
    },
    {
     "output_type": "stream",
     "name": "stdout",
     "text": [
      "              precision    recall  f1-score   support\n",
      "\n",
      "         0.0       0.98      0.96      0.97      1236\n",
      "         1.0       0.73      0.83      0.78       156\n",
      "\n",
      "    accuracy                           0.95      1392\n",
      "   macro avg       0.86      0.89      0.87      1392\n",
      "weighted avg       0.95      0.95      0.95      1392\n",
      "\n"
     ]
    }
   ],
   "metadata": {}
  },
  {
   "cell_type": "markdown",
   "source": [
    "### Submission"
   ],
   "metadata": {}
  },
  {
   "cell_type": "code",
   "execution_count": 132,
   "source": [
    "df_sub = pd.read_csv('submission.csv')\n",
    "\n",
    "sub_datagen = datagen_rescale.flow_from_dataframe(\n",
    "    df_sub, \n",
    "    data_dir+'valid/', \n",
    "    target_size=(img_size,img_size), \n",
    "    x_col='image', \n",
    "    y_col='label', \n",
    "    batch_size=batch_size,\n",
    "    shuffle=False,\n",
    "    seed=RANDOM_STATE,\n",
    "    class_mode='binary',\n",
    "    )\n",
    "sub_datagen.class_indices"
   ],
   "outputs": [
    {
     "output_type": "stream",
     "name": "stdout",
     "text": [
      "Found 1547 validated image filenames belonging to 2 classes.\n"
     ]
    },
    {
     "output_type": "execute_result",
     "data": {
      "text/plain": [
       "{'negative': 0, 'positive': 1}"
      ]
     },
     "metadata": {},
     "execution_count": 132
    }
   ],
   "metadata": {}
  },
  {
   "cell_type": "code",
   "execution_count": 136,
   "source": [
    "X_sub, _ = feature_exactor(sub_datagen)\n",
    "ml_model = pickle.load(open('models/featExtr_logReg_wo_DA.pkl', 'rb'))\n",
    "y_sub_pred = ml_model.predict(X_sub)"
   ],
   "outputs": [
    {
     "output_type": "stream",
     "name": "stderr",
     "text": [
      "100%|██████████| 16/16 [01:26<00:00,  5.41s/it]\n"
     ]
    }
   ],
   "metadata": {}
  },
  {
   "cell_type": "code",
   "execution_count": 165,
   "source": [
    "df_sub.label = y_sub_pred\n",
    "df_sub.label = df_sub.label.map({0:'negative', 1:'positive'})\n",
    "df_sub.to_csv('submission_featExtr_logReg_wo_DA.csv', index=False)"
   ],
   "outputs": [],
   "metadata": {}
  },
  {
   "cell_type": "markdown",
   "source": [
    "## CNN Transfer Learning with (base_model) VGG16"
   ],
   "metadata": {}
  },
  {
   "cell_type": "markdown",
   "source": [
    "### Data generator for CNN "
   ],
   "metadata": {}
  },
  {
   "cell_type": "code",
   "execution_count": 27,
   "source": [
    "from tensorflow.keras.preprocessing.image import ImageDataGenerator\n",
    "\n",
    "img_size = 224\n",
    "batch_size = 100\n",
    "\n",
    "datagen = ImageDataGenerator(\n",
    "    rescale=1./255,\n",
    "    validation_split = 0.125,\n",
    "    # Data augmentation\n",
    "    shear_range=0.2,\n",
    "    zoom_range=0.1,\n",
    "    horizontal_flip=True\n",
    "    )\n",
    "datagen_rescale = ImageDataGenerator(\n",
    "    rescale=1./255,\n",
    "    validation_split = 0.125\n",
    "    )\n",
    "\n",
    "train_datagen = datagen.flow_from_dataframe(                # w/ data augmentation\n",
    "# train_datagen = datagen_rescale.flow_from_dataframe(        # w/o data augmentation\n",
    "    train_df, \n",
    "    data_dir+'train/', \n",
    "    x_col='image', \n",
    "    y_col='label', \n",
    "    target_size=(img_size,img_size),\n",
    "    shuffle=True,\n",
    "    batch_size=batch_size,\n",
    "    subset = 'training',\n",
    "    seed=RANDOM_STATE,\n",
    "    class_mode='binary',\n",
    "    )\n",
    "\n",
    "valid_datagen = datagen.flow_from_dataframe(                # w/ data augmentation\n",
    "# valid_datagen = datagen_rescale.flow_from_dataframe(        # w/o data augmentation\n",
    "    train_df, \n",
    "    data_dir+'train/', \n",
    "    x_col='image', \n",
    "    y_col='label', \n",
    "    target_size=(img_size,img_size),\n",
    "    shuffle=True,\n",
    "    batch_size=batch_size,\n",
    "    subset = 'validation',\n",
    "    seed=RANDOM_STATE,\n",
    "    class_mode='binary',\n",
    "    )\n",
    "\n",
    "datagen_rescale_test = ImageDataGenerator(rescale=1./255)\n",
    "test_datagen = datagen_rescale_test.flow_from_dataframe(\n",
    "    test_df, \n",
    "    data_dir+'train/', \n",
    "    target_size=(img_size,img_size), \n",
    "    x_col='image', \n",
    "    y_col='label', \n",
    "    batch_size=batch_size,\n",
    "    shuffle=False,\n",
    "    seed=RANDOM_STATE,\n",
    "    class_mode='binary',\n",
    "    )\n",
    "\n",
    "train_datagen.class_indices"
   ],
   "outputs": [
    {
     "output_type": "stream",
     "name": "stdout",
     "text": [
      "Found 9742 validated image filenames belonging to 2 classes.\n",
      "Found 1391 validated image filenames belonging to 2 classes.\n",
      "Found 1392 validated image filenames belonging to 2 classes.\n"
     ]
    },
    {
     "output_type": "execute_result",
     "data": {
      "text/plain": [
       "{'negative': 0, 'positive': 1}"
      ]
     },
     "metadata": {},
     "execution_count": 27
    }
   ],
   "metadata": {}
  },
  {
   "cell_type": "markdown",
   "source": [
    "### Helper Function"
   ],
   "metadata": {}
  },
  {
   "cell_type": "code",
   "execution_count": 126,
   "source": [
    "def f1(ytrue , ypred, threshold=0.5):\n",
    "    \n",
    "    import tensorflow as tf\n",
    "    \n",
    "    SMALL = 1e-7\n",
    "    \n",
    "    ytrue, ypred = tf.cast(ytrue, tf.float32), tf.cast(ypred, tf.float32)\n",
    "    ypred = tf.cast(tf.greater_equal(ypred, tf.constant(threshold)), tf.float32)\n",
    "\n",
    "    tp = tf.reduce_sum(ytrue*ypred) # TPs\n",
    "    predicted_positive, actual_positive = tf.reduce_sum(ypred), tf.reduce_sum(ytrue)\n",
    "    precision, recall = tp/(predicted_positive+SMALL), tp/(actual_positive+SMALL)\n",
    "    \n",
    "    return 2*precision*recall / (precision+recall+SMALL)"
   ],
   "outputs": [],
   "metadata": {}
  },
  {
   "cell_type": "markdown",
   "source": [
    "### Model"
   ],
   "metadata": {}
  },
  {
   "cell_type": "code",
   "execution_count": 17,
   "source": [
    "from tensorflow.keras.models import Sequential\n",
    "from tensorflow.keras.layers import Conv2D, MaxPool2D, Flatten, Dense, Dropout\n",
    "from tensorflow.keras.applications import VGG16\n",
    "from tensorflow.keras import optimizers\n",
    "\n",
    "conv_base = VGG16(weights='imagenet', include_top=False, input_shape=(img_size, img_size, 3))\n",
    "conv_base.trainable = False\n",
    "\n",
    "model = Sequential()\n",
    "model.add(conv_base)\n",
    "model.add(Conv2D(512, 3, activation=\"relu\", strides=2, padding=\"same\"))\n",
    "model.add(MaxPool2D(pool_size=(2,2), strides=2, padding='same'))\n",
    "model.add(Flatten())\n",
    "model.add(Dense(256, activation='relu'))\n",
    "model.add(Dropout(rate=0.5))\n",
    "model.add(Dense(128, activation='relu'))\n",
    "model.add(Dropout(rate=0.5))\n",
    "model.add(Dense(1, activation='sigmoid'))\n",
    "\n",
    "print(model.summary())"
   ],
   "outputs": [],
   "metadata": {}
  },
  {
   "cell_type": "markdown",
   "source": [
    "### w/o Data augmentation"
   ],
   "metadata": {}
  },
  {
   "cell_type": "code",
   "execution_count": 25,
   "source": [
    "%%time \n",
    "from tensorflow.keras import callbacks\n",
    "\n",
    "model.compile(loss='binary_crossentropy',\n",
    "              optimizer=optimizers.Adam(lr=5e-4),\n",
    "              metrics=['acc', f1])\n",
    "              \n",
    "checkpoint_cb = callbacks.ModelCheckpoint(\"models/cnn_TrLr_wo_DA.h5\", save_best_only=True)\n",
    "early_stopping_cb = callbacks.EarlyStopping(patience=5)\n",
    "\n",
    "result = model.fit(train_datagen, steps_per_epoch=len(train_datagen),\n",
    "                   validation_data=valid_datagen, validation_steps=len(valid_datagen),\n",
    "                   epochs=100, callbacks=[checkpoint_cb, early_stopping_cb])"
   ],
   "outputs": [
    {
     "output_type": "stream",
     "name": "stdout",
     "text": [
      "Epoch 1/100\n",
      "98/98 [==============================] - 261s 2s/step - loss: 0.3708 - acc: 0.8708 - f1: 0.0655 - val_loss: 0.1651 - val_acc: 0.9382 - val_f1: 0.6357\n",
      "Epoch 2/100\n",
      "98/98 [==============================] - 193s 2s/step - loss: 0.1636 - acc: 0.9384 - f1: 0.6268 - val_loss: 0.1390 - val_acc: 0.9497 - val_f1: 0.7309\n",
      "Epoch 3/100\n",
      "98/98 [==============================] - 193s 2s/step - loss: 0.1199 - acc: 0.9560 - f1: 0.7730 - val_loss: 0.1052 - val_acc: 0.9583 - val_f1: 0.7981\n",
      "Epoch 4/100\n",
      "98/98 [==============================] - 192s 2s/step - loss: 0.0875 - acc: 0.9683 - f1: 0.8430 - val_loss: 0.1026 - val_acc: 0.9641 - val_f1: 0.8125\n",
      "Epoch 5/100\n",
      "98/98 [==============================] - 216s 2s/step - loss: 0.0645 - acc: 0.9781 - f1: 0.8794 - val_loss: 0.0873 - val_acc: 0.9720 - val_f1: 0.8678\n",
      "Epoch 6/100\n",
      "98/98 [==============================] - 366s 4s/step - loss: 0.0573 - acc: 0.9791 - f1: 0.8878 - val_loss: 0.0870 - val_acc: 0.9676 - val_f1: 0.8645\n",
      "Epoch 7/100\n",
      "98/98 [==============================] - 600s 6s/step - loss: 0.0480 - acc: 0.9830 - f1: 0.9158 - val_loss: 0.0869 - val_acc: 0.9698 - val_f1: 0.8718\n",
      "Epoch 8/100\n",
      "98/98 [==============================] - 194s 2s/step - loss: 0.0398 - acc: 0.9855 - f1: 0.9261 - val_loss: 0.0753 - val_acc: 0.9748 - val_f1: 0.8911\n",
      "Epoch 9/100\n",
      "98/98 [==============================] - 188s 2s/step - loss: 0.0243 - acc: 0.9910 - f1: 0.9571 - val_loss: 0.0969 - val_acc: 0.9741 - val_f1: 0.8820\n",
      "Epoch 10/100\n",
      "98/98 [==============================] - 186s 2s/step - loss: 0.0136 - acc: 0.9960 - f1: 0.9800 - val_loss: 0.1068 - val_acc: 0.9691 - val_f1: 0.8612\n",
      "Epoch 11/100\n",
      "98/98 [==============================] - 199s 2s/step - loss: 0.0174 - acc: 0.9946 - f1: 0.9726 - val_loss: 0.1181 - val_acc: 0.9777 - val_f1: 0.9038\n",
      "Epoch 12/100\n",
      "98/98 [==============================] - 395s 4s/step - loss: 0.0178 - acc: 0.9937 - f1: 0.9690 - val_loss: 0.1262 - val_acc: 0.9684 - val_f1: 0.8501\n",
      "Epoch 13/100\n",
      "98/98 [==============================] - 245s 2s/step - loss: 0.0119 - acc: 0.9958 - f1: 0.9801 - val_loss: 0.1350 - val_acc: 0.9684 - val_f1: 0.8614\n",
      "CPU times: user 38min 45s, sys: 6min 15s, total: 45min 1s\n",
      "Wall time: 57min 17s\n"
     ]
    }
   ],
   "metadata": {}
  },
  {
   "cell_type": "code",
   "execution_count": 26,
   "source": [
    "%%time\n",
    "from sklearn.metrics import confusion_matrix, classification_report\n",
    "\n",
    "print(\"############################## TEST ############################## \\n\")\n",
    "y_pred = model.predict(test_datagen)\n",
    "print(classification_report(test_datagen.labels, y_pred[:,0]>=0.5))\n",
    "cm = confusion_matrix(test_datagen.labels, y_pred[:,0]>=0.5)\n",
    "sns.heatmap(cm, cmap='plasma', annot=True);"
   ],
   "outputs": [
    {
     "output_type": "stream",
     "name": "stdout",
     "text": [
      "############################## TEST ############################## \n",
      "\n",
      "              precision    recall  f1-score   support\n",
      "\n",
      "           0       0.99      0.98      0.99      1236\n",
      "           1       0.86      0.94      0.90       156\n",
      "\n",
      "    accuracy                           0.98      1392\n",
      "   macro avg       0.93      0.96      0.94      1392\n",
      "weighted avg       0.98      0.98      0.98      1392\n",
      "\n",
      "CPU times: user 29.3 s, sys: 10.4 s, total: 39.7 s\n",
      "Wall time: 52.8 s\n"
     ]
    },
    {
     "output_type": "execute_result",
     "data": {
      "text/plain": [
       "<AxesSubplot:>"
      ]
     },
     "metadata": {},
     "execution_count": 26
    },
    {
     "output_type": "display_data",
     "data": {
      "text/plain": [
       "<Figure size 432x288 with 2 Axes>"
      ],
      "image/svg+xml": "<?xml version=\"1.0\" encoding=\"utf-8\" standalone=\"no\"?>\n<!DOCTYPE svg PUBLIC \"-//W3C//DTD SVG 1.1//EN\"\n  \"http://www.w3.org/Graphics/SVG/1.1/DTD/svg11.dtd\">\n<svg height=\"250.146562pt\" version=\"1.1\" viewBox=\"0 0 358.980125 250.146562\" width=\"358.980125pt\" xmlns=\"http://www.w3.org/2000/svg\" xmlns:xlink=\"http://www.w3.org/1999/xlink\">\n <metadata>\n  <rdf:RDF xmlns:cc=\"http://creativecommons.org/ns#\" xmlns:dc=\"http://purl.org/dc/elements/1.1/\" xmlns:rdf=\"http://www.w3.org/1999/02/22-rdf-syntax-ns#\">\n   <cc:Work>\n    <dc:type rdf:resource=\"http://purl.org/dc/dcmitype/StillImage\"/>\n    <dc:date>2021-10-10T02:07:39.282137</dc:date>\n    <dc:format>image/svg+xml</dc:format>\n    <dc:creator>\n     <cc:Agent>\n      <dc:title>Matplotlib v3.4.2, https://matplotlib.org/</dc:title>\n     </cc:Agent>\n    </dc:creator>\n   </cc:Work>\n  </rdf:RDF>\n </metadata>\n <defs>\n  <style type=\"text/css\">*{stroke-linecap:butt;stroke-linejoin:round;}</style>\n </defs>\n <g id=\"figure_1\">\n  <g id=\"patch_1\">\n   <path d=\"M -0 250.146562 \nL 358.980125 250.146562 \nL 358.980125 0 \nL -0 0 \nz\n\" style=\"fill:none;\"/>\n  </g>\n  <g id=\"axes_1\">\n   <g id=\"patch_2\">\n    <path d=\"M 23.878125 226.268437 \nL 291.718125 226.268437 \nL 291.718125 8.828437 \nL 23.878125 8.828437 \nz\n\" style=\"fill:#ffffff;\"/>\n   </g>\n   <g id=\"QuadMesh_1\">\n    <path clip-path=\"url(#p7150696830)\" d=\"M 23.878125 8.828437 \nL 157.798125 8.828437 \nL 157.798125 117.548437 \nL 23.878125 117.548437 \nL 23.878125 8.828437 \n\" style=\"fill:#f0f921;\"/>\n    <path clip-path=\"url(#p7150696830)\" d=\"M 157.798125 8.828437 \nL 291.718125 8.828437 \nL 291.718125 117.548437 \nL 157.798125 117.548437 \nL 157.798125 8.828437 \n\" style=\"fill:#130789;\"/>\n    <path clip-path=\"url(#p7150696830)\" d=\"M 23.878125 117.548437 \nL 157.798125 117.548437 \nL 157.798125 226.268437 \nL 23.878125 226.268437 \nL 23.878125 117.548437 \n\" style=\"fill:#0d0887;\"/>\n    <path clip-path=\"url(#p7150696830)\" d=\"M 157.798125 117.548437 \nL 291.718125 117.548437 \nL 291.718125 226.268437 \nL 157.798125 226.268437 \nL 157.798125 117.548437 \n\" style=\"fill:#46039f;\"/>\n   </g>\n   <g id=\"matplotlib.axis_1\">\n    <g id=\"xtick_1\">\n     <g id=\"line2d_1\">\n      <defs>\n       <path d=\"M 0 0 \nL 0 3.5 \n\" id=\"m67cc200797\" style=\"stroke:#000000;stroke-width:0.8;\"/>\n      </defs>\n      <g>\n       <use style=\"stroke:#000000;stroke-width:0.8;\" x=\"90.838125\" xlink:href=\"#m67cc200797\" y=\"226.268437\"/>\n      </g>\n     </g>\n     <g id=\"text_1\">\n      <!-- 0 -->\n      <g transform=\"translate(87.656875 240.866874)scale(0.1 -0.1)\">\n       <defs>\n        <path d=\"M 2034 4250 \nQ 1547 4250 1301 3770 \nQ 1056 3291 1056 2328 \nQ 1056 1369 1301 889 \nQ 1547 409 2034 409 \nQ 2525 409 2770 889 \nQ 3016 1369 3016 2328 \nQ 3016 3291 2770 3770 \nQ 2525 4250 2034 4250 \nz\nM 2034 4750 \nQ 2819 4750 3233 4129 \nQ 3647 3509 3647 2328 \nQ 3647 1150 3233 529 \nQ 2819 -91 2034 -91 \nQ 1250 -91 836 529 \nQ 422 1150 422 2328 \nQ 422 3509 836 4129 \nQ 1250 4750 2034 4750 \nz\n\" id=\"DejaVuSans-30\" transform=\"scale(0.015625)\"/>\n       </defs>\n       <use xlink:href=\"#DejaVuSans-30\"/>\n      </g>\n     </g>\n    </g>\n    <g id=\"xtick_2\">\n     <g id=\"line2d_2\">\n      <g>\n       <use style=\"stroke:#000000;stroke-width:0.8;\" x=\"224.758125\" xlink:href=\"#m67cc200797\" y=\"226.268437\"/>\n      </g>\n     </g>\n     <g id=\"text_2\">\n      <!-- 1 -->\n      <g transform=\"translate(221.576875 240.866874)scale(0.1 -0.1)\">\n       <defs>\n        <path d=\"M 794 531 \nL 1825 531 \nL 1825 4091 \nL 703 3866 \nL 703 4441 \nL 1819 4666 \nL 2450 4666 \nL 2450 531 \nL 3481 531 \nL 3481 0 \nL 794 0 \nL 794 531 \nz\n\" id=\"DejaVuSans-31\" transform=\"scale(0.015625)\"/>\n       </defs>\n       <use xlink:href=\"#DejaVuSans-31\"/>\n      </g>\n     </g>\n    </g>\n   </g>\n   <g id=\"matplotlib.axis_2\">\n    <g id=\"ytick_1\">\n     <g id=\"line2d_3\">\n      <defs>\n       <path d=\"M 0 0 \nL -3.5 0 \n\" id=\"mafc15e97ca\" style=\"stroke:#000000;stroke-width:0.8;\"/>\n      </defs>\n      <g>\n       <use style=\"stroke:#000000;stroke-width:0.8;\" x=\"23.878125\" xlink:href=\"#mafc15e97ca\" y=\"63.188437\"/>\n      </g>\n     </g>\n     <g id=\"text_3\">\n      <!-- 0 -->\n      <g transform=\"translate(14.798438 66.369687)rotate(-90)scale(0.1 -0.1)\">\n       <use xlink:href=\"#DejaVuSans-30\"/>\n      </g>\n     </g>\n    </g>\n    <g id=\"ytick_2\">\n     <g id=\"line2d_4\">\n      <g>\n       <use style=\"stroke:#000000;stroke-width:0.8;\" x=\"23.878125\" xlink:href=\"#mafc15e97ca\" y=\"171.908437\"/>\n      </g>\n     </g>\n     <g id=\"text_4\">\n      <!-- 1 -->\n      <g transform=\"translate(14.798438 175.089687)rotate(-90)scale(0.1 -0.1)\">\n       <use xlink:href=\"#DejaVuSans-31\"/>\n      </g>\n     </g>\n    </g>\n   </g>\n   <g id=\"text_5\">\n    <!-- 1.2e+03 -->\n    <g style=\"fill:#262626;\" transform=\"translate(69.257656 65.947812)scale(0.1 -0.1)\">\n     <defs>\n      <path d=\"M 684 794 \nL 1344 794 \nL 1344 0 \nL 684 0 \nL 684 794 \nz\n\" id=\"DejaVuSans-2e\" transform=\"scale(0.015625)\"/>\n      <path d=\"M 1228 531 \nL 3431 531 \nL 3431 0 \nL 469 0 \nL 469 531 \nQ 828 903 1448 1529 \nQ 2069 2156 2228 2338 \nQ 2531 2678 2651 2914 \nQ 2772 3150 2772 3378 \nQ 2772 3750 2511 3984 \nQ 2250 4219 1831 4219 \nQ 1534 4219 1204 4116 \nQ 875 4013 500 3803 \nL 500 4441 \nQ 881 4594 1212 4672 \nQ 1544 4750 1819 4750 \nQ 2544 4750 2975 4387 \nQ 3406 4025 3406 3419 \nQ 3406 3131 3298 2873 \nQ 3191 2616 2906 2266 \nQ 2828 2175 2409 1742 \nQ 1991 1309 1228 531 \nz\n\" id=\"DejaVuSans-32\" transform=\"scale(0.015625)\"/>\n      <path d=\"M 3597 1894 \nL 3597 1613 \nL 953 1613 \nQ 991 1019 1311 708 \nQ 1631 397 2203 397 \nQ 2534 397 2845 478 \nQ 3156 559 3463 722 \nL 3463 178 \nQ 3153 47 2828 -22 \nQ 2503 -91 2169 -91 \nQ 1331 -91 842 396 \nQ 353 884 353 1716 \nQ 353 2575 817 3079 \nQ 1281 3584 2069 3584 \nQ 2775 3584 3186 3129 \nQ 3597 2675 3597 1894 \nz\nM 3022 2063 \nQ 3016 2534 2758 2815 \nQ 2500 3097 2075 3097 \nQ 1594 3097 1305 2825 \nQ 1016 2553 972 2059 \nL 3022 2063 \nz\n\" id=\"DejaVuSans-65\" transform=\"scale(0.015625)\"/>\n      <path d=\"M 2944 4013 \nL 2944 2272 \nL 4684 2272 \nL 4684 1741 \nL 2944 1741 \nL 2944 0 \nL 2419 0 \nL 2419 1741 \nL 678 1741 \nL 678 2272 \nL 2419 2272 \nL 2419 4013 \nL 2944 4013 \nz\n\" id=\"DejaVuSans-2b\" transform=\"scale(0.015625)\"/>\n      <path d=\"M 2597 2516 \nQ 3050 2419 3304 2112 \nQ 3559 1806 3559 1356 \nQ 3559 666 3084 287 \nQ 2609 -91 1734 -91 \nQ 1441 -91 1130 -33 \nQ 819 25 488 141 \nL 488 750 \nQ 750 597 1062 519 \nQ 1375 441 1716 441 \nQ 2309 441 2620 675 \nQ 2931 909 2931 1356 \nQ 2931 1769 2642 2001 \nQ 2353 2234 1838 2234 \nL 1294 2234 \nL 1294 2753 \nL 1863 2753 \nQ 2328 2753 2575 2939 \nQ 2822 3125 2822 3475 \nQ 2822 3834 2567 4026 \nQ 2313 4219 1838 4219 \nQ 1578 4219 1281 4162 \nQ 984 4106 628 3988 \nL 628 4550 \nQ 988 4650 1302 4700 \nQ 1616 4750 1894 4750 \nQ 2613 4750 3031 4423 \nQ 3450 4097 3450 3541 \nQ 3450 3153 3228 2886 \nQ 3006 2619 2597 2516 \nz\n\" id=\"DejaVuSans-33\" transform=\"scale(0.015625)\"/>\n     </defs>\n     <use xlink:href=\"#DejaVuSans-31\"/>\n     <use x=\"63.623047\" xlink:href=\"#DejaVuSans-2e\"/>\n     <use x=\"95.410156\" xlink:href=\"#DejaVuSans-32\"/>\n     <use x=\"159.033203\" xlink:href=\"#DejaVuSans-65\"/>\n     <use x=\"220.556641\" xlink:href=\"#DejaVuSans-2b\"/>\n     <use x=\"304.345703\" xlink:href=\"#DejaVuSans-30\"/>\n     <use x=\"367.96875\" xlink:href=\"#DejaVuSans-33\"/>\n    </g>\n   </g>\n   <g id=\"text_6\">\n    <!-- 24 -->\n    <g style=\"fill:#ffffff;\" transform=\"translate(218.395625 65.947812)scale(0.1 -0.1)\">\n     <defs>\n      <path d=\"M 2419 4116 \nL 825 1625 \nL 2419 1625 \nL 2419 4116 \nz\nM 2253 4666 \nL 3047 4666 \nL 3047 1625 \nL 3713 1625 \nL 3713 1100 \nL 3047 1100 \nL 3047 0 \nL 2419 0 \nL 2419 1100 \nL 313 1100 \nL 313 1709 \nL 2253 4666 \nz\n\" id=\"DejaVuSans-34\" transform=\"scale(0.015625)\"/>\n     </defs>\n     <use xlink:href=\"#DejaVuSans-32\"/>\n     <use x=\"63.623047\" xlink:href=\"#DejaVuSans-34\"/>\n    </g>\n   </g>\n   <g id=\"text_7\">\n    <!-- 10 -->\n    <g style=\"fill:#ffffff;\" transform=\"translate(84.475625 174.667812)scale(0.1 -0.1)\">\n     <use xlink:href=\"#DejaVuSans-31\"/>\n     <use x=\"63.623047\" xlink:href=\"#DejaVuSans-30\"/>\n    </g>\n   </g>\n   <g id=\"text_8\">\n    <!-- 1.5e+02 -->\n    <g style=\"fill:#ffffff;\" transform=\"translate(203.177656 174.667812)scale(0.1 -0.1)\">\n     <defs>\n      <path d=\"M 691 4666 \nL 3169 4666 \nL 3169 4134 \nL 1269 4134 \nL 1269 2991 \nQ 1406 3038 1543 3061 \nQ 1681 3084 1819 3084 \nQ 2600 3084 3056 2656 \nQ 3513 2228 3513 1497 \nQ 3513 744 3044 326 \nQ 2575 -91 1722 -91 \nQ 1428 -91 1123 -41 \nQ 819 9 494 109 \nL 494 744 \nQ 775 591 1075 516 \nQ 1375 441 1709 441 \nQ 2250 441 2565 725 \nQ 2881 1009 2881 1497 \nQ 2881 1984 2565 2268 \nQ 2250 2553 1709 2553 \nQ 1456 2553 1204 2497 \nQ 953 2441 691 2322 \nL 691 4666 \nz\n\" id=\"DejaVuSans-35\" transform=\"scale(0.015625)\"/>\n     </defs>\n     <use xlink:href=\"#DejaVuSans-31\"/>\n     <use x=\"63.623047\" xlink:href=\"#DejaVuSans-2e\"/>\n     <use x=\"95.410156\" xlink:href=\"#DejaVuSans-35\"/>\n     <use x=\"159.033203\" xlink:href=\"#DejaVuSans-65\"/>\n     <use x=\"220.556641\" xlink:href=\"#DejaVuSans-2b\"/>\n     <use x=\"304.345703\" xlink:href=\"#DejaVuSans-30\"/>\n     <use x=\"367.96875\" xlink:href=\"#DejaVuSans-32\"/>\n    </g>\n   </g>\n  </g>\n  <g id=\"axes_2\">\n   <g id=\"patch_3\">\n    <path d=\"M 308.458125 226.268437 \nL 319.330125 226.268437 \nL 319.330125 8.828437 \nL 308.458125 8.828437 \nz\n\" style=\"fill:#ffffff;\"/>\n   </g>\n   <g id=\"patch_4\">\n    <path clip-path=\"url(#p376ab94481)\" d=\"M 308.458125 226.268437 \nL 308.458125 225.419062 \nL 308.458125 9.677812 \nL 308.458125 8.828437 \nL 319.330125 8.828437 \nL 319.330125 9.677812 \nL 319.330125 225.419062 \nL 319.330125 226.268437 \nL 319.330125 226.268437 \nz\n\" style=\"fill:#ffffff;stroke:#ffffff;stroke-linejoin:miter;stroke-width:0.01;\"/>\n   </g>\n   <image height=\"217\" id=\"image760cee782d\" transform=\"scale(1 -1)translate(0 -217)\" width=\"11\" x=\"308\" xlink:href=\"data:image/png;base64,\niVBORw0KGgoAAAANSUhEUgAAAAsAAADZCAYAAAD2WsoCAAABW0lEQVR4nNWZSQ5CMQxDO0SIDefm0ohwhbzFk8xfW5aHNK1gv57vXsOvbu8pdtVjnTn4NgCfBWQg8NWYi0TnGTSjQw3OvzpadJulMf+qSBpzEbhBEp0nwztWe7y8+PAD5hiDAOwNP0wDMG+2CggzAYsGCZhtUU3GBeiUNBgzMYjS8GTsNV8c1CBg3kgzGiRNBkrjHJSzpxkxEzA4V3XPl8gAzKJBNPzIIJmNmDQAGNZtTZ1nEOV8xDQi6kYGvV0XEp1YdwgYXW0paYyxlPmGGIwAnxshY2XsOu9q8wx6aSzxthpj1ZOSsQrAjxD/ajDjxai9+c3TPcbSA6stxpS9QYYfjmjEbMC6IxpMyZk8exCzGF1G3V4a4mxk1A2Zx1hz1yEZZnRARldI3WMszZnIaDb8SIYFblRKIWYAZprZSQH/PCLmvkQGMwg0w7oBeBEZXzENBLY2UtdnDP4BdMKSa/94N+kAAAAASUVORK5CYII=\" y=\"-9\"/>\n   <g id=\"matplotlib.axis_3\"/>\n   <g id=\"matplotlib.axis_4\">\n    <g id=\"ytick_3\">\n     <g id=\"line2d_5\">\n      <defs>\n       <path d=\"M 0 0 \nL 3.5 0 \n\" id=\"mbeec1d2574\" style=\"stroke:#000000;stroke-width:0.8;\"/>\n      </defs>\n      <g>\n       <use style=\"stroke:#000000;stroke-width:0.8;\" x=\"319.330125\" xlink:href=\"#mbeec1d2574\" y=\"191.897721\"/>\n      </g>\n     </g>\n     <g id=\"text_9\">\n      <!-- 200 -->\n      <g transform=\"translate(326.330125 195.69694)scale(0.1 -0.1)\">\n       <use xlink:href=\"#DejaVuSans-32\"/>\n       <use x=\"63.623047\" xlink:href=\"#DejaVuSans-30\"/>\n       <use x=\"127.246094\" xlink:href=\"#DejaVuSans-30\"/>\n      </g>\n     </g>\n    </g>\n    <g id=\"ytick_4\">\n     <g id=\"line2d_6\">\n      <g>\n       <use style=\"stroke:#000000;stroke-width:0.8;\" x=\"319.330125\" xlink:href=\"#mbeec1d2574\" y=\"155.718021\"/>\n      </g>\n     </g>\n     <g id=\"text_10\">\n      <!-- 400 -->\n      <g transform=\"translate(326.330125 159.517239)scale(0.1 -0.1)\">\n       <use xlink:href=\"#DejaVuSans-34\"/>\n       <use x=\"63.623047\" xlink:href=\"#DejaVuSans-30\"/>\n       <use x=\"127.246094\" xlink:href=\"#DejaVuSans-30\"/>\n      </g>\n     </g>\n    </g>\n    <g id=\"ytick_5\">\n     <g id=\"line2d_7\">\n      <g>\n       <use style=\"stroke:#000000;stroke-width:0.8;\" x=\"319.330125\" xlink:href=\"#mbeec1d2574\" y=\"119.53832\"/>\n      </g>\n     </g>\n     <g id=\"text_11\">\n      <!-- 600 -->\n      <g transform=\"translate(326.330125 123.337539)scale(0.1 -0.1)\">\n       <defs>\n        <path d=\"M 2113 2584 \nQ 1688 2584 1439 2293 \nQ 1191 2003 1191 1497 \nQ 1191 994 1439 701 \nQ 1688 409 2113 409 \nQ 2538 409 2786 701 \nQ 3034 994 3034 1497 \nQ 3034 2003 2786 2293 \nQ 2538 2584 2113 2584 \nz\nM 3366 4563 \nL 3366 3988 \nQ 3128 4100 2886 4159 \nQ 2644 4219 2406 4219 \nQ 1781 4219 1451 3797 \nQ 1122 3375 1075 2522 \nQ 1259 2794 1537 2939 \nQ 1816 3084 2150 3084 \nQ 2853 3084 3261 2657 \nQ 3669 2231 3669 1497 \nQ 3669 778 3244 343 \nQ 2819 -91 2113 -91 \nQ 1303 -91 875 529 \nQ 447 1150 447 2328 \nQ 447 3434 972 4092 \nQ 1497 4750 2381 4750 \nQ 2619 4750 2861 4703 \nQ 3103 4656 3366 4563 \nz\n\" id=\"DejaVuSans-36\" transform=\"scale(0.015625)\"/>\n       </defs>\n       <use xlink:href=\"#DejaVuSans-36\"/>\n       <use x=\"63.623047\" xlink:href=\"#DejaVuSans-30\"/>\n       <use x=\"127.246094\" xlink:href=\"#DejaVuSans-30\"/>\n      </g>\n     </g>\n    </g>\n    <g id=\"ytick_6\">\n     <g id=\"line2d_8\">\n      <g>\n       <use style=\"stroke:#000000;stroke-width:0.8;\" x=\"319.330125\" xlink:href=\"#mbeec1d2574\" y=\"83.35862\"/>\n      </g>\n     </g>\n     <g id=\"text_12\">\n      <!-- 800 -->\n      <g transform=\"translate(326.330125 87.157838)scale(0.1 -0.1)\">\n       <defs>\n        <path d=\"M 2034 2216 \nQ 1584 2216 1326 1975 \nQ 1069 1734 1069 1313 \nQ 1069 891 1326 650 \nQ 1584 409 2034 409 \nQ 2484 409 2743 651 \nQ 3003 894 3003 1313 \nQ 3003 1734 2745 1975 \nQ 2488 2216 2034 2216 \nz\nM 1403 2484 \nQ 997 2584 770 2862 \nQ 544 3141 544 3541 \nQ 544 4100 942 4425 \nQ 1341 4750 2034 4750 \nQ 2731 4750 3128 4425 \nQ 3525 4100 3525 3541 \nQ 3525 3141 3298 2862 \nQ 3072 2584 2669 2484 \nQ 3125 2378 3379 2068 \nQ 3634 1759 3634 1313 \nQ 3634 634 3220 271 \nQ 2806 -91 2034 -91 \nQ 1263 -91 848 271 \nQ 434 634 434 1313 \nQ 434 1759 690 2068 \nQ 947 2378 1403 2484 \nz\nM 1172 3481 \nQ 1172 3119 1398 2916 \nQ 1625 2713 2034 2713 \nQ 2441 2713 2670 2916 \nQ 2900 3119 2900 3481 \nQ 2900 3844 2670 4047 \nQ 2441 4250 2034 4250 \nQ 1625 4250 1398 4047 \nQ 1172 3844 1172 3481 \nz\n\" id=\"DejaVuSans-38\" transform=\"scale(0.015625)\"/>\n       </defs>\n       <use xlink:href=\"#DejaVuSans-38\"/>\n       <use x=\"63.623047\" xlink:href=\"#DejaVuSans-30\"/>\n       <use x=\"127.246094\" xlink:href=\"#DejaVuSans-30\"/>\n      </g>\n     </g>\n    </g>\n    <g id=\"ytick_7\">\n     <g id=\"line2d_9\">\n      <g>\n       <use style=\"stroke:#000000;stroke-width:0.8;\" x=\"319.330125\" xlink:href=\"#mbeec1d2574\" y=\"47.178919\"/>\n      </g>\n     </g>\n     <g id=\"text_13\">\n      <!-- 1000 -->\n      <g transform=\"translate(326.330125 50.978138)scale(0.1 -0.1)\">\n       <use xlink:href=\"#DejaVuSans-31\"/>\n       <use x=\"63.623047\" xlink:href=\"#DejaVuSans-30\"/>\n       <use x=\"127.246094\" xlink:href=\"#DejaVuSans-30\"/>\n       <use x=\"190.869141\" xlink:href=\"#DejaVuSans-30\"/>\n      </g>\n     </g>\n    </g>\n    <g id=\"ytick_8\">\n     <g id=\"line2d_10\">\n      <g>\n       <use style=\"stroke:#000000;stroke-width:0.8;\" x=\"319.330125\" xlink:href=\"#mbeec1d2574\" y=\"10.999219\"/>\n      </g>\n     </g>\n     <g id=\"text_14\">\n      <!-- 1200 -->\n      <g transform=\"translate(326.330125 14.798437)scale(0.1 -0.1)\">\n       <use xlink:href=\"#DejaVuSans-31\"/>\n       <use x=\"63.623047\" xlink:href=\"#DejaVuSans-32\"/>\n       <use x=\"127.246094\" xlink:href=\"#DejaVuSans-30\"/>\n       <use x=\"190.869141\" xlink:href=\"#DejaVuSans-30\"/>\n      </g>\n     </g>\n    </g>\n   </g>\n   <g id=\"LineCollection_1\"/>\n   <g id=\"patch_5\">\n    <path d=\"M 308.458125 226.268437 \nL 308.458125 225.419062 \nL 308.458125 9.677812 \nL 308.458125 8.828437 \nL 319.330125 8.828437 \nL 319.330125 9.677812 \nL 319.330125 225.419062 \nL 319.330125 226.268437 \nz\n\" style=\"fill:none;\"/>\n   </g>\n  </g>\n </g>\n <defs>\n  <clipPath id=\"p7150696830\">\n   <rect height=\"217.44\" width=\"267.84\" x=\"23.878125\" y=\"8.828437\"/>\n  </clipPath>\n  <clipPath id=\"p376ab94481\">\n   <rect height=\"217.44\" width=\"10.872\" x=\"308.458125\" y=\"8.828437\"/>\n  </clipPath>\n </defs>\n</svg>\n",
      "image/png": "[encoded data removed]"
     },
     "metadata": {
      "needs_background": "light"
     }
    }
   ],
   "metadata": {}
  },
  {
   "cell_type": "markdown",
   "source": [
    "### w/ Data augmentation"
   ],
   "metadata": {}
  },
  {
   "cell_type": "code",
   "execution_count": 30,
   "source": [
    "%%time \n",
    "from tensorflow.keras import callbacks\n",
    "\n",
    "model.compile(loss='binary_crossentropy',\n",
    "              optimizer=optimizers.Adam(lr=5e-4),\n",
    "              metrics=['acc', f1])\n",
    "              \n",
    "checkpoint_cb = callbacks.ModelCheckpoint(\"models/cnn_TrLr_w_DA.h5\", save_best_only=True)\n",
    "early_stopping_cb = callbacks.EarlyStopping(patience=5)\n",
    "\n",
    "result = model.fit(train_datagen, steps_per_epoch=len(train_datagen),\n",
    "                   validation_data=valid_datagen, validation_steps=len(valid_datagen),\n",
    "                   epochs=100, callbacks=[checkpoint_cb, early_stopping_cb])"
   ],
   "outputs": [
    {
     "output_type": "stream",
     "name": "stdout",
     "text": [
      "Epoch 1/100\n",
      "98/98 [==============================] - 388s 4s/step - loss: 0.0943 - acc: 0.9676 - f1: 0.8355 - val_loss: 0.1019 - val_acc: 0.9676 - val_f1: 0.8612\n",
      "Epoch 2/100\n",
      "98/98 [==============================] - 328s 3s/step - loss: 0.0816 - acc: 0.9723 - f1: 0.8548 - val_loss: 0.1065 - val_acc: 0.9626 - val_f1: 0.8305\n",
      "Epoch 3/100\n",
      "98/98 [==============================] - 580s 6s/step - loss: 0.0749 - acc: 0.9733 - f1: 0.8644 - val_loss: 0.1061 - val_acc: 0.9633 - val_f1: 0.8467\n",
      "Epoch 4/100\n",
      "98/98 [==============================] - 656s 7s/step - loss: 0.0677 - acc: 0.9767 - f1: 0.8844 - val_loss: 0.1168 - val_acc: 0.9576 - val_f1: 0.8149\n",
      "Epoch 5/100\n",
      "98/98 [==============================] - 626s 6s/step - loss: 0.0578 - acc: 0.9786 - f1: 0.8901 - val_loss: 0.1443 - val_acc: 0.9648 - val_f1: 0.8302\n",
      "Epoch 6/100\n",
      "98/98 [==============================] - 626s 6s/step - loss: 0.0622 - acc: 0.9766 - f1: 0.8746 - val_loss: 0.1086 - val_acc: 0.9633 - val_f1: 0.8131\n",
      "CPU times: user 31min 13s, sys: 3min, total: 34min 14s\n",
      "Wall time: 53min 27s\n"
     ]
    }
   ],
   "metadata": {}
  },
  {
   "cell_type": "code",
   "execution_count": 31,
   "source": [
    "%%time\n",
    "from sklearn.metrics import confusion_matrix, classification_report\n",
    "\n",
    "print(\"############################## TEST ############################## \\n\")\n",
    "y_pred = model.predict(test_datagen)\n",
    "print(classification_report(test_datagen.labels, y_pred[:,0]>=0.5))\n",
    "cm = confusion_matrix(test_datagen.labels, y_pred[:,0]>=0.5)\n",
    "sns.heatmap(cm, cmap='plasma', annot=True);"
   ],
   "outputs": [
    {
     "output_type": "stream",
     "name": "stdout",
     "text": [
      "############################## TEST ############################## \n",
      "\n",
      "              precision    recall  f1-score   support\n",
      "\n",
      "           0       0.97      0.99      0.98      1236\n",
      "           1       0.93      0.76      0.83       156\n",
      "\n",
      "    accuracy                           0.97      1392\n",
      "   macro avg       0.95      0.87      0.91      1392\n",
      "weighted avg       0.97      0.97      0.96      1392\n",
      "\n",
      "CPU times: user 25.9 s, sys: 3.34 s, total: 29.3 s\n",
      "Wall time: 58 s\n"
     ]
    },
    {
     "output_type": "execute_result",
     "data": {
      "text/plain": [
       "<AxesSubplot:>"
      ]
     },
     "metadata": {},
     "execution_count": 31
    },
    {
     "output_type": "display_data",
     "data": {
      "text/plain": [
       "<Figure size 432x288 with 2 Axes>"
      ],
      "image/svg+xml": "<?xml version=\"1.0\" encoding=\"utf-8\" standalone=\"no\"?>\n<!DOCTYPE svg PUBLIC \"-//W3C//DTD SVG 1.1//EN\"\n  \"http://www.w3.org/Graphics/SVG/1.1/DTD/svg11.dtd\">\n<svg height=\"248.518125pt\" version=\"1.1\" viewBox=\"0 0 358.980125 248.518125\" width=\"358.980125pt\" xmlns=\"http://www.w3.org/2000/svg\" xmlns:xlink=\"http://www.w3.org/1999/xlink\">\n <metadata>\n  <rdf:RDF xmlns:cc=\"http://creativecommons.org/ns#\" xmlns:dc=\"http://purl.org/dc/elements/1.1/\" xmlns:rdf=\"http://www.w3.org/1999/02/22-rdf-syntax-ns#\">\n   <cc:Work>\n    <dc:type rdf:resource=\"http://purl.org/dc/dcmitype/StillImage\"/>\n    <dc:date>2021-10-10T13:24:12.551314</dc:date>\n    <dc:format>image/svg+xml</dc:format>\n    <dc:creator>\n     <cc:Agent>\n      <dc:title>Matplotlib v3.4.2, https://matplotlib.org/</dc:title>\n     </cc:Agent>\n    </dc:creator>\n   </cc:Work>\n  </rdf:RDF>\n </metadata>\n <defs>\n  <style type=\"text/css\">*{stroke-linecap:butt;stroke-linejoin:round;}</style>\n </defs>\n <g id=\"figure_1\">\n  <g id=\"patch_1\">\n   <path d=\"M -0 248.518125 \nL 358.980125 248.518125 \nL 358.980125 0 \nL -0 0 \nz\n\" style=\"fill:none;\"/>\n  </g>\n  <g id=\"axes_1\">\n   <g id=\"patch_2\">\n    <path d=\"M 23.878125 224.64 \nL 291.718125 224.64 \nL 291.718125 7.2 \nL 23.878125 7.2 \nz\n\" style=\"fill:#ffffff;\"/>\n   </g>\n   <g id=\"QuadMesh_1\">\n    <path clip-path=\"url(#p46d0616e0a)\" d=\"M 23.878125 7.2 \nL 157.798125 7.2 \nL 157.798125 115.92 \nL 23.878125 115.92 \nL 23.878125 7.2 \n\" style=\"fill:#f0f921;\"/>\n    <path clip-path=\"url(#p46d0616e0a)\" d=\"M 157.798125 7.2 \nL 291.718125 7.2 \nL 291.718125 115.92 \nL 157.798125 115.92 \nL 157.798125 7.2 \n\" style=\"fill:#0d0887;\"/>\n    <path clip-path=\"url(#p46d0616e0a)\" d=\"M 23.878125 115.92 \nL 157.798125 115.92 \nL 157.798125 224.64 \nL 23.878125 224.64 \nL 23.878125 115.92 \n\" style=\"fill:#1d068e;\"/>\n    <path clip-path=\"url(#p46d0616e0a)\" d=\"M 157.798125 115.92 \nL 291.718125 115.92 \nL 291.718125 224.64 \nL 157.798125 224.64 \nL 157.798125 115.92 \n\" style=\"fill:#3c049b;\"/>\n   </g>\n   <g id=\"matplotlib.axis_1\">\n    <g id=\"xtick_1\">\n     <g id=\"line2d_1\">\n      <defs>\n       <path d=\"M 0 0 \nL 0 3.5 \n\" id=\"m8b59b639d5\" style=\"stroke:#000000;stroke-width:0.8;\"/>\n      </defs>\n      <g>\n       <use style=\"stroke:#000000;stroke-width:0.8;\" x=\"90.838125\" xlink:href=\"#m8b59b639d5\" y=\"224.64\"/>\n      </g>\n     </g>\n     <g id=\"text_1\">\n      <!-- 0 -->\n      <g transform=\"translate(87.656875 239.238438)scale(0.1 -0.1)\">\n       <defs>\n        <path d=\"M 2034 4250 \nQ 1547 4250 1301 3770 \nQ 1056 3291 1056 2328 \nQ 1056 1369 1301 889 \nQ 1547 409 2034 409 \nQ 2525 409 2770 889 \nQ 3016 1369 3016 2328 \nQ 3016 3291 2770 3770 \nQ 2525 4250 2034 4250 \nz\nM 2034 4750 \nQ 2819 4750 3233 4129 \nQ 3647 3509 3647 2328 \nQ 3647 1150 3233 529 \nQ 2819 -91 2034 -91 \nQ 1250 -91 836 529 \nQ 422 1150 422 2328 \nQ 422 3509 836 4129 \nQ 1250 4750 2034 4750 \nz\n\" id=\"DejaVuSans-30\" transform=\"scale(0.015625)\"/>\n       </defs>\n       <use xlink:href=\"#DejaVuSans-30\"/>\n      </g>\n     </g>\n    </g>\n    <g id=\"xtick_2\">\n     <g id=\"line2d_2\">\n      <g>\n       <use style=\"stroke:#000000;stroke-width:0.8;\" x=\"224.758125\" xlink:href=\"#m8b59b639d5\" y=\"224.64\"/>\n      </g>\n     </g>\n     <g id=\"text_2\">\n      <!-- 1 -->\n      <g transform=\"translate(221.576875 239.238438)scale(0.1 -0.1)\">\n       <defs>\n        <path d=\"M 794 531 \nL 1825 531 \nL 1825 4091 \nL 703 3866 \nL 703 4441 \nL 1819 4666 \nL 2450 4666 \nL 2450 531 \nL 3481 531 \nL 3481 0 \nL 794 0 \nL 794 531 \nz\n\" id=\"DejaVuSans-31\" transform=\"scale(0.015625)\"/>\n       </defs>\n       <use xlink:href=\"#DejaVuSans-31\"/>\n      </g>\n     </g>\n    </g>\n   </g>\n   <g id=\"matplotlib.axis_2\">\n    <g id=\"ytick_1\">\n     <g id=\"line2d_3\">\n      <defs>\n       <path d=\"M 0 0 \nL -3.5 0 \n\" id=\"m5d271b5b4e\" style=\"stroke:#000000;stroke-width:0.8;\"/>\n      </defs>\n      <g>\n       <use style=\"stroke:#000000;stroke-width:0.8;\" x=\"23.878125\" xlink:href=\"#m5d271b5b4e\" y=\"61.56\"/>\n      </g>\n     </g>\n     <g id=\"text_3\">\n      <!-- 0 -->\n      <g transform=\"translate(14.798438 64.74125)rotate(-90)scale(0.1 -0.1)\">\n       <use xlink:href=\"#DejaVuSans-30\"/>\n      </g>\n     </g>\n    </g>\n    <g id=\"ytick_2\">\n     <g id=\"line2d_4\">\n      <g>\n       <use style=\"stroke:#000000;stroke-width:0.8;\" x=\"23.878125\" xlink:href=\"#m5d271b5b4e\" y=\"170.28\"/>\n      </g>\n     </g>\n     <g id=\"text_4\">\n      <!-- 1 -->\n      <g transform=\"translate(14.798438 173.46125)rotate(-90)scale(0.1 -0.1)\">\n       <use xlink:href=\"#DejaVuSans-31\"/>\n      </g>\n     </g>\n    </g>\n   </g>\n   <g id=\"text_5\">\n    <!-- 1.2e+03 -->\n    <g style=\"fill:#262626;\" transform=\"translate(69.257656 64.319375)scale(0.1 -0.1)\">\n     <defs>\n      <path d=\"M 684 794 \nL 1344 794 \nL 1344 0 \nL 684 0 \nL 684 794 \nz\n\" id=\"DejaVuSans-2e\" transform=\"scale(0.015625)\"/>\n      <path d=\"M 1228 531 \nL 3431 531 \nL 3431 0 \nL 469 0 \nL 469 531 \nQ 828 903 1448 1529 \nQ 2069 2156 2228 2338 \nQ 2531 2678 2651 2914 \nQ 2772 3150 2772 3378 \nQ 2772 3750 2511 3984 \nQ 2250 4219 1831 4219 \nQ 1534 4219 1204 4116 \nQ 875 4013 500 3803 \nL 500 4441 \nQ 881 4594 1212 4672 \nQ 1544 4750 1819 4750 \nQ 2544 4750 2975 4387 \nQ 3406 4025 3406 3419 \nQ 3406 3131 3298 2873 \nQ 3191 2616 2906 2266 \nQ 2828 2175 2409 1742 \nQ 1991 1309 1228 531 \nz\n\" id=\"DejaVuSans-32\" transform=\"scale(0.015625)\"/>\n      <path d=\"M 3597 1894 \nL 3597 1613 \nL 953 1613 \nQ 991 1019 1311 708 \nQ 1631 397 2203 397 \nQ 2534 397 2845 478 \nQ 3156 559 3463 722 \nL 3463 178 \nQ 3153 47 2828 -22 \nQ 2503 -91 2169 -91 \nQ 1331 -91 842 396 \nQ 353 884 353 1716 \nQ 353 2575 817 3079 \nQ 1281 3584 2069 3584 \nQ 2775 3584 3186 3129 \nQ 3597 2675 3597 1894 \nz\nM 3022 2063 \nQ 3016 2534 2758 2815 \nQ 2500 3097 2075 3097 \nQ 1594 3097 1305 2825 \nQ 1016 2553 972 2059 \nL 3022 2063 \nz\n\" id=\"DejaVuSans-65\" transform=\"scale(0.015625)\"/>\n      <path d=\"M 2944 4013 \nL 2944 2272 \nL 4684 2272 \nL 4684 1741 \nL 2944 1741 \nL 2944 0 \nL 2419 0 \nL 2419 1741 \nL 678 1741 \nL 678 2272 \nL 2419 2272 \nL 2419 4013 \nL 2944 4013 \nz\n\" id=\"DejaVuSans-2b\" transform=\"scale(0.015625)\"/>\n      <path d=\"M 2597 2516 \nQ 3050 2419 3304 2112 \nQ 3559 1806 3559 1356 \nQ 3559 666 3084 287 \nQ 2609 -91 1734 -91 \nQ 1441 -91 1130 -33 \nQ 819 25 488 141 \nL 488 750 \nQ 750 597 1062 519 \nQ 1375 441 1716 441 \nQ 2309 441 2620 675 \nQ 2931 909 2931 1356 \nQ 2931 1769 2642 2001 \nQ 2353 2234 1838 2234 \nL 1294 2234 \nL 1294 2753 \nL 1863 2753 \nQ 2328 2753 2575 2939 \nQ 2822 3125 2822 3475 \nQ 2822 3834 2567 4026 \nQ 2313 4219 1838 4219 \nQ 1578 4219 1281 4162 \nQ 984 4106 628 3988 \nL 628 4550 \nQ 988 4650 1302 4700 \nQ 1616 4750 1894 4750 \nQ 2613 4750 3031 4423 \nQ 3450 4097 3450 3541 \nQ 3450 3153 3228 2886 \nQ 3006 2619 2597 2516 \nz\n\" id=\"DejaVuSans-33\" transform=\"scale(0.015625)\"/>\n     </defs>\n     <use xlink:href=\"#DejaVuSans-31\"/>\n     <use x=\"63.623047\" xlink:href=\"#DejaVuSans-2e\"/>\n     <use x=\"95.410156\" xlink:href=\"#DejaVuSans-32\"/>\n     <use x=\"159.033203\" xlink:href=\"#DejaVuSans-65\"/>\n     <use x=\"220.556641\" xlink:href=\"#DejaVuSans-2b\"/>\n     <use x=\"304.345703\" xlink:href=\"#DejaVuSans-30\"/>\n     <use x=\"367.96875\" xlink:href=\"#DejaVuSans-33\"/>\n    </g>\n   </g>\n   <g id=\"text_6\">\n    <!-- 9 -->\n    <g style=\"fill:#ffffff;\" transform=\"translate(221.576875 64.319375)scale(0.1 -0.1)\">\n     <defs>\n      <path d=\"M 703 97 \nL 703 672 \nQ 941 559 1184 500 \nQ 1428 441 1663 441 \nQ 2288 441 2617 861 \nQ 2947 1281 2994 2138 \nQ 2813 1869 2534 1725 \nQ 2256 1581 1919 1581 \nQ 1219 1581 811 2004 \nQ 403 2428 403 3163 \nQ 403 3881 828 4315 \nQ 1253 4750 1959 4750 \nQ 2769 4750 3195 4129 \nQ 3622 3509 3622 2328 \nQ 3622 1225 3098 567 \nQ 2575 -91 1691 -91 \nQ 1453 -91 1209 -44 \nQ 966 3 703 97 \nz\nM 1959 2075 \nQ 2384 2075 2632 2365 \nQ 2881 2656 2881 3163 \nQ 2881 3666 2632 3958 \nQ 2384 4250 1959 4250 \nQ 1534 4250 1286 3958 \nQ 1038 3666 1038 3163 \nQ 1038 2656 1286 2365 \nQ 1534 2075 1959 2075 \nz\n\" id=\"DejaVuSans-39\" transform=\"scale(0.015625)\"/>\n     </defs>\n     <use xlink:href=\"#DejaVuSans-39\"/>\n    </g>\n   </g>\n   <g id=\"text_7\">\n    <!-- 38 -->\n    <g style=\"fill:#ffffff;\" transform=\"translate(84.475625 173.039375)scale(0.1 -0.1)\">\n     <defs>\n      <path d=\"M 2034 2216 \nQ 1584 2216 1326 1975 \nQ 1069 1734 1069 1313 \nQ 1069 891 1326 650 \nQ 1584 409 2034 409 \nQ 2484 409 2743 651 \nQ 3003 894 3003 1313 \nQ 3003 1734 2745 1975 \nQ 2488 2216 2034 2216 \nz\nM 1403 2484 \nQ 997 2584 770 2862 \nQ 544 3141 544 3541 \nQ 544 4100 942 4425 \nQ 1341 4750 2034 4750 \nQ 2731 4750 3128 4425 \nQ 3525 4100 3525 3541 \nQ 3525 3141 3298 2862 \nQ 3072 2584 2669 2484 \nQ 3125 2378 3379 2068 \nQ 3634 1759 3634 1313 \nQ 3634 634 3220 271 \nQ 2806 -91 2034 -91 \nQ 1263 -91 848 271 \nQ 434 634 434 1313 \nQ 434 1759 690 2068 \nQ 947 2378 1403 2484 \nz\nM 1172 3481 \nQ 1172 3119 1398 2916 \nQ 1625 2713 2034 2713 \nQ 2441 2713 2670 2916 \nQ 2900 3119 2900 3481 \nQ 2900 3844 2670 4047 \nQ 2441 4250 2034 4250 \nQ 1625 4250 1398 4047 \nQ 1172 3844 1172 3481 \nz\n\" id=\"DejaVuSans-38\" transform=\"scale(0.015625)\"/>\n     </defs>\n     <use xlink:href=\"#DejaVuSans-33\"/>\n     <use x=\"63.623047\" xlink:href=\"#DejaVuSans-38\"/>\n    </g>\n   </g>\n   <g id=\"text_8\">\n    <!-- 1.2e+02 -->\n    <g style=\"fill:#ffffff;\" transform=\"translate(203.177656 173.039375)scale(0.1 -0.1)\">\n     <use xlink:href=\"#DejaVuSans-31\"/>\n     <use x=\"63.623047\" xlink:href=\"#DejaVuSans-2e\"/>\n     <use x=\"95.410156\" xlink:href=\"#DejaVuSans-32\"/>\n     <use x=\"159.033203\" xlink:href=\"#DejaVuSans-65\"/>\n     <use x=\"220.556641\" xlink:href=\"#DejaVuSans-2b\"/>\n     <use x=\"304.345703\" xlink:href=\"#DejaVuSans-30\"/>\n     <use x=\"367.96875\" xlink:href=\"#DejaVuSans-32\"/>\n    </g>\n   </g>\n  </g>\n  <g id=\"axes_2\">\n   <g id=\"patch_3\">\n    <path d=\"M 308.458125 224.64 \nL 319.330125 224.64 \nL 319.330125 7.2 \nL 308.458125 7.2 \nz\n\" style=\"fill:#ffffff;\"/>\n   </g>\n   <g id=\"patch_4\">\n    <path clip-path=\"url(#p0f7977074c)\" d=\"M 308.458125 224.64 \nL 308.458125 223.790625 \nL 308.458125 8.049375 \nL 308.458125 7.2 \nL 319.330125 7.2 \nL 319.330125 8.049375 \nL 319.330125 223.790625 \nL 319.330125 224.64 \nL 319.330125 224.64 \nz\n\" style=\"fill:#ffffff;stroke:#ffffff;stroke-linejoin:miter;stroke-width:0.01;\"/>\n   </g>\n   <image height=\"217\" id=\"image88be35fe04\" transform=\"scale(1 -1)translate(0 -217)\" width=\"11\" x=\"308\" xlink:href=\"data:image/png;base64,\niVBORw0KGgoAAAANSUhEUgAAAAsAAADZCAYAAAD2WsoCAAABW0lEQVR4nNWZSQ5CMQxDO0SIDefm0ohwhbzFk8xfW5aHNK1gv57vXsOvbu8pdtVjnTn4NgCfBWQg8NWYi0TnGTSjQw3OvzpadJulMf+qSBpzEbhBEp0nwztWe7y8+PAD5hiDAOwNP0wDMG+2CggzAYsGCZhtUU3GBeiUNBgzMYjS8GTsNV8c1CBg3kgzGiRNBkrjHJSzpxkxEzA4V3XPl8gAzKJBNPzIIJmNmDQAGNZtTZ1nEOV8xDQi6kYGvV0XEp1YdwgYXW0paYyxlPmGGIwAnxshY2XsOu9q8wx6aSzxthpj1ZOSsQrAjxD/ajDjxai9+c3TPcbSA6stxpS9QYYfjmjEbMC6IxpMyZk8exCzGF1G3V4a4mxk1A2Zx1hz1yEZZnRARldI3WMszZnIaDb8SIYFblRKIWYAZprZSQH/PCLmvkQGMwg0w7oBeBEZXzENBLY2UtdnDP4BdMKSa/94N+kAAAAASUVORK5CYII=\" y=\"-7\"/>\n   <g id=\"matplotlib.axis_3\"/>\n   <g id=\"matplotlib.axis_4\">\n    <g id=\"ytick_3\">\n     <g id=\"line2d_5\">\n      <defs>\n       <path d=\"M 0 0 \nL 3.5 0 \n\" id=\"m5210035579\" style=\"stroke:#000000;stroke-width:0.8;\"/>\n      </defs>\n      <g>\n       <use style=\"stroke:#000000;stroke-width:0.8;\" x=\"319.330125\" xlink:href=\"#m5210035579\" y=\"190.542266\"/>\n      </g>\n     </g>\n     <g id=\"text_9\">\n      <!-- 200 -->\n      <g transform=\"translate(326.330125 194.341485)scale(0.1 -0.1)\">\n       <use xlink:href=\"#DejaVuSans-32\"/>\n       <use x=\"63.623047\" xlink:href=\"#DejaVuSans-30\"/>\n       <use x=\"127.246094\" xlink:href=\"#DejaVuSans-30\"/>\n      </g>\n     </g>\n    </g>\n    <g id=\"ytick_4\">\n     <g id=\"line2d_6\">\n      <g>\n       <use style=\"stroke:#000000;stroke-width:0.8;\" x=\"319.330125\" xlink:href=\"#m5210035579\" y=\"154.837833\"/>\n      </g>\n     </g>\n     <g id=\"text_10\">\n      <!-- 400 -->\n      <g transform=\"translate(326.330125 158.637051)scale(0.1 -0.1)\">\n       <defs>\n        <path d=\"M 2419 4116 \nL 825 1625 \nL 2419 1625 \nL 2419 4116 \nz\nM 2253 4666 \nL 3047 4666 \nL 3047 1625 \nL 3713 1625 \nL 3713 1100 \nL 3047 1100 \nL 3047 0 \nL 2419 0 \nL 2419 1100 \nL 313 1100 \nL 313 1709 \nL 2253 4666 \nz\n\" id=\"DejaVuSans-34\" transform=\"scale(0.015625)\"/>\n       </defs>\n       <use xlink:href=\"#DejaVuSans-34\"/>\n       <use x=\"63.623047\" xlink:href=\"#DejaVuSans-30\"/>\n       <use x=\"127.246094\" xlink:href=\"#DejaVuSans-30\"/>\n      </g>\n     </g>\n    </g>\n    <g id=\"ytick_5\">\n     <g id=\"line2d_7\">\n      <g>\n       <use style=\"stroke:#000000;stroke-width:0.8;\" x=\"319.330125\" xlink:href=\"#m5210035579\" y=\"119.133399\"/>\n      </g>\n     </g>\n     <g id=\"text_11\">\n      <!-- 600 -->\n      <g transform=\"translate(326.330125 122.932618)scale(0.1 -0.1)\">\n       <defs>\n        <path d=\"M 2113 2584 \nQ 1688 2584 1439 2293 \nQ 1191 2003 1191 1497 \nQ 1191 994 1439 701 \nQ 1688 409 2113 409 \nQ 2538 409 2786 701 \nQ 3034 994 3034 1497 \nQ 3034 2003 2786 2293 \nQ 2538 2584 2113 2584 \nz\nM 3366 4563 \nL 3366 3988 \nQ 3128 4100 2886 4159 \nQ 2644 4219 2406 4219 \nQ 1781 4219 1451 3797 \nQ 1122 3375 1075 2522 \nQ 1259 2794 1537 2939 \nQ 1816 3084 2150 3084 \nQ 2853 3084 3261 2657 \nQ 3669 2231 3669 1497 \nQ 3669 778 3244 343 \nQ 2819 -91 2113 -91 \nQ 1303 -91 875 529 \nQ 447 1150 447 2328 \nQ 447 3434 972 4092 \nQ 1497 4750 2381 4750 \nQ 2619 4750 2861 4703 \nQ 3103 4656 3366 4563 \nz\n\" id=\"DejaVuSans-36\" transform=\"scale(0.015625)\"/>\n       </defs>\n       <use xlink:href=\"#DejaVuSans-36\"/>\n       <use x=\"63.623047\" xlink:href=\"#DejaVuSans-30\"/>\n       <use x=\"127.246094\" xlink:href=\"#DejaVuSans-30\"/>\n      </g>\n     </g>\n    </g>\n    <g id=\"ytick_6\">\n     <g id=\"line2d_8\">\n      <g>\n       <use style=\"stroke:#000000;stroke-width:0.8;\" x=\"319.330125\" xlink:href=\"#m5210035579\" y=\"83.428966\"/>\n      </g>\n     </g>\n     <g id=\"text_12\">\n      <!-- 800 -->\n      <g transform=\"translate(326.330125 87.228184)scale(0.1 -0.1)\">\n       <use xlink:href=\"#DejaVuSans-38\"/>\n       <use x=\"63.623047\" xlink:href=\"#DejaVuSans-30\"/>\n       <use x=\"127.246094\" xlink:href=\"#DejaVuSans-30\"/>\n      </g>\n     </g>\n    </g>\n    <g id=\"ytick_7\">\n     <g id=\"line2d_9\">\n      <g>\n       <use style=\"stroke:#000000;stroke-width:0.8;\" x=\"319.330125\" xlink:href=\"#m5210035579\" y=\"47.724532\"/>\n      </g>\n     </g>\n     <g id=\"text_13\">\n      <!-- 1000 -->\n      <g transform=\"translate(326.330125 51.523751)scale(0.1 -0.1)\">\n       <use xlink:href=\"#DejaVuSans-31\"/>\n       <use x=\"63.623047\" xlink:href=\"#DejaVuSans-30\"/>\n       <use x=\"127.246094\" xlink:href=\"#DejaVuSans-30\"/>\n       <use x=\"190.869141\" xlink:href=\"#DejaVuSans-30\"/>\n      </g>\n     </g>\n    </g>\n    <g id=\"ytick_8\">\n     <g id=\"line2d_10\">\n      <g>\n       <use style=\"stroke:#000000;stroke-width:0.8;\" x=\"319.330125\" xlink:href=\"#m5210035579\" y=\"12.020099\"/>\n      </g>\n     </g>\n     <g id=\"text_14\">\n      <!-- 1200 -->\n      <g transform=\"translate(326.330125 15.819317)scale(0.1 -0.1)\">\n       <use xlink:href=\"#DejaVuSans-31\"/>\n       <use x=\"63.623047\" xlink:href=\"#DejaVuSans-32\"/>\n       <use x=\"127.246094\" xlink:href=\"#DejaVuSans-30\"/>\n       <use x=\"190.869141\" xlink:href=\"#DejaVuSans-30\"/>\n      </g>\n     </g>\n    </g>\n   </g>\n   <g id=\"LineCollection_1\"/>\n   <g id=\"patch_5\">\n    <path d=\"M 308.458125 224.64 \nL 308.458125 223.790625 \nL 308.458125 8.049375 \nL 308.458125 7.2 \nL 319.330125 7.2 \nL 319.330125 8.049375 \nL 319.330125 223.790625 \nL 319.330125 224.64 \nz\n\" style=\"fill:none;\"/>\n   </g>\n  </g>\n </g>\n <defs>\n  <clipPath id=\"p46d0616e0a\">\n   <rect height=\"217.44\" width=\"267.84\" x=\"23.878125\" y=\"7.2\"/>\n  </clipPath>\n  <clipPath id=\"p0f7977074c\">\n   <rect height=\"217.44\" width=\"10.872\" x=\"308.458125\" y=\"7.2\"/>\n  </clipPath>\n </defs>\n</svg>\n",
      "image/png": "[encoded data removed]"
     },
     "metadata": {
      "needs_background": "light"
     }
    }
   ],
   "metadata": {}
  }
 ],
 "metadata": {
  "interpreter": {
   "hash": "77760899d304acafbb398cabb388ddb19ee6456efe17831dc3c4e819d339ff7c"
  },
  "kernelspec": {
   "name": "python3",
   "display_name": "Python 3.9.7 64-bit ('tfGpuEnv': conda)"
  },
  "language_info": {
   "codemirror_mode": {
    "name": "ipython",
    "version": 3
   },
   "file_extension": ".py",
   "mimetype": "text/x-python",
   "name": "python",
   "nbconvert_exporter": "python",
   "pygments_lexer": "ipython3",
   "version": "3.9.7"
  }
 },
 "nbformat": 4,
 "nbformat_minor": 2
}